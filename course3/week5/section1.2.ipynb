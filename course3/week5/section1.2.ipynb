{
 "cells": [
  {
   "cell_type": "code",
   "execution_count": 92,
   "metadata": {},
   "outputs": [],
   "source": [
    "import re\n",
    "import math\n",
    "import copy"
   ]
  },
  {
   "cell_type": "code",
   "execution_count": 47,
   "metadata": {},
   "outputs": [],
   "source": []
  },
  {
   "cell_type": "code",
   "execution_count": 159,
   "metadata": {},
   "outputs": [],
   "source": [
    "def parse_chromosome(chr_str):\n",
    "    return [int(x) for x in chr_str.split(\" \")]\n",
    "\n",
    "def parse_genome(genome_str):\n",
    "    chromosomes = []\n",
    "    for chr in re.findall(\"\\(([0-9+\\- ]+)\\)\", genome_str):\n",
    "        chromosomes.append(parse_chromosome(chr))\n",
    "    return chromosomes\n",
    "\n",
    "def genome2graph(genome):\n",
    "    colored_edges = dict()\n",
    "    for chromosome in genome:\n",
    "        edges = []\n",
    "        for block in chromosome:\n",
    "            if block>0:\n",
    "                edges.append((2*abs(block)-1, 2*abs(block)))\n",
    "            else:\n",
    "                edges.append((2*abs(block), 2*abs(block)-1))\n",
    "\n",
    "  \n",
    "        for e1, e2 in zip(edges[:-1], edges[1:]):\n",
    "            colored_edges[e1[1]] = e2[0]\n",
    "        colored_edges[edges[-1][1]] = edges[0][0]\n",
    "\n",
    "    return colored_edges\n",
    "\n",
    "\n",
    "def two_break(q_edge, p_graph):\n",
    "        p_edges = []\n",
    "        for p_edge in p_graph.items():\n",
    "            if p_edge[0] in q_edge or p_edge[1] in q_edge:\n",
    "                p_edges.append(p_edge)\n",
    "        if len(p_edges) == 2:\n",
    "            first_edge = p_edges[0]\n",
    "            second_edge = p_edges[1]\n",
    "            \n",
    "            p_graph.pop(first_edge[0], None)\n",
    "            p_graph.pop(second_edge[0], None)\n",
    "            \n",
    "            if first_edge[0] == q_edge[0]:\n",
    "                tpl1 = (first_edge[0], q_edge[1])\n",
    "                tpl2 = (first_edge[1], second_edge[1]) if second_edge[0] == q_edge[1] else (second_edge[0],first_edge[1])\n",
    "            elif first_edge[0] == q_edge[1]:\n",
    "                tpl1 = (first_edge[0], q_edge[0])\n",
    "                tpl2 = (first_edge[1], second_edge[1]) if second_edge[0] == q_edge[0] else (second_edge[0],first_edge[1])\n",
    "            else:\n",
    "                if first_edge[1] == q_edge[0]:\n",
    "                    tpl1 = (q_edge[1], first_edge[1])\n",
    "                    tpl2 = (first_edge[0], second_edge[1]) if second_edge[0] == q_edge[1] else (second_edge[0],first_edge[0])\n",
    "                elif first_edge[1] == q_edge[1]:\n",
    "                    tpl1 = (q_edge[0], first_edge[1]) \n",
    "                    tpl2 = (first_edge[0], second_edge[1]) if second_edge[0] == q_edge[0] else (second_edge[0],first_edge[0])\n",
    "            \n",
    "            p_graph[tpl1[0]] = tpl1[1]\n",
    "            p_graph[tpl2[0]] = tpl2[1]\n",
    "            return False\n",
    "        else:\n",
    "            print(f\"trivial cycle: {len(p_edges)}\")\n",
    "            return True\n",
    "            \n",
    "def two_break_on_graph(p_, q_):\n",
    "    p = copy.deepcopy(p_)\n",
    "    q = copy.deepcopy(q_)\n",
    "    path = [graph2genome(p)]\n",
    "    while q:\n",
    "        q_edge = q.popitem()\n",
    "        trivial = two_break(q_edge, p)\n",
    "        if not trivial:\n",
    "            path.append(graph2genome(p))\n",
    "    return path\n",
    "        \n",
    "def graph2genome(edges_):\n",
    "    edges = copy.deepcopy(edges_)\n",
    "    reverse_edges = {v: k for k, v in edges.items()}\n",
    "    genome = []\n",
    "    while edges:\n",
    "        first_edge = edges.popitem()\n",
    "        next_node = first_edge[1]\n",
    "        chromosome = []\n",
    "        while next_node:\n",
    "            if next_node % 2 == 1:\n",
    "                next_node += 1\n",
    "                chromosome.append(next_node/2)\n",
    "            else:\n",
    "                next_node -= 1\n",
    "                chromosome.append(-(next_node+1)/2)\n",
    "            nn = edges.pop(next_node, None)\n",
    "            if nn is None:\n",
    "                nn = reverse_edges.pop(next_node, None) \n",
    "                edges.pop(nn,None)\n",
    "            next_node = nn\n",
    "        genome.append(chromosome)\n",
    "    return genome      \n",
    "\n",
    "def print_genome(genome):\n",
    "    genome_str = \"\"\n",
    "    for chr in genome:\n",
    "        s = \" \".join([f\"+{int(x)}\" if x>0 else f\"{int(x)}\" for x in chr])\n",
    "        genome_str += f\"({s})\"\n",
    "    return genome_str\n",
    "\n",
    "def print_path(path):\n",
    "    for genome in path:\n",
    "        print(print_genome(genome))\n",
    "        \n",
    "def shortest_path(pstr, qstr):\n",
    "    p = parse_genome(pstr)\n",
    "    q = parse_genome(qstr)\n",
    "    p_graph = genome2graph(p)\n",
    "    q_graph = genome2graph(q)\n",
    "    return two_break_on_graph(p_graph, q_graph)"
   ]
  },
  {
   "cell_type": "code",
   "execution_count": 142,
   "metadata": {},
   "outputs": [],
   "source": [
    "pstr = \"(+1 +2 +3 +4 +5 +6)\"\n",
    "qstr = \"(+1 -3 -6 -5)(+2 -4)\""
   ]
  },
  {
   "cell_type": "code",
   "execution_count": 143,
   "metadata": {},
   "outputs": [
    {
     "name": "stdout",
     "output_type": "stream",
     "text": [
      "[[1, 2, 3, 4, 5, 6]] [[1, -3, -6, -5], [2, -4]]\n"
     ]
    }
   ],
   "source": [
    "p = parse_genome(pstr)\n",
    "q = parse_genome(qstr)\n",
    "print(p, q)"
   ]
  },
  {
   "cell_type": "code",
   "execution_count": 144,
   "metadata": {},
   "outputs": [
    {
     "name": "stdout",
     "output_type": "stream",
     "text": [
      "{2: 3, 4: 5, 6: 7, 8: 9, 10: 11, 12: 1} {2: 6, 5: 12, 11: 10, 9: 1, 4: 8, 7: 3}\n"
     ]
    }
   ],
   "source": [
    "p_graph = genome2graph(p)\n",
    "q_graph = genome2graph(q)\n",
    "print(p_graph, q_graph)"
   ]
  },
  {
   "cell_type": "code",
   "execution_count": 145,
   "metadata": {},
   "outputs": [
    {
     "name": "stdout",
     "output_type": "stream",
     "text": [
      "trivial cycle: 1\n",
      "trivial cycle: 1\n",
      "trivial cycle: 1\n",
      "(+1.0 +2.0 +3.0 +4.0 +5.0 +6.0)\n",
      "(-1.0 -6.0 -5.0 -4.0 +2.0 +3.0)\n",
      "(+5.0 +6.0 +1.0 -3.0)(-4.0 +2.0)\n",
      "(-6.0 -5.0 +1.0 -3.0)(-4.0 +2.0)\n"
     ]
    }
   ],
   "source": [
    "print_path(two_break_on_graph(p_graph, q_graph))"
   ]
  },
  {
   "cell_type": "code",
   "execution_count": 141,
   "metadata": {},
   "outputs": [
    {
     "name": "stdout",
     "output_type": "stream",
     "text": [
      "trivial cycle: 1\n",
      "(+1.0 -2.0 -3.0 +4.0)\n",
      "(+4.0)(+1.0 -2.0 -3.0)\n",
      "(+2.0 -1.0 +3.0 +4.0)\n",
      "(+2.0 -4.0 -3.0 +1.0)\n"
     ]
    }
   ],
   "source": [
    "pstr = \"(+1 -2 -3 +4)\"\n",
    "qstr = \"(+1 +2 -4 -3)\"\n",
    "p = genome2graph(parse_genome(pstr))\n",
    "q = genome2graph(parse_genome(qstr))\n",
    "\n",
    "print_path(two_break_on_graph(p, q))"
   ]
  },
  {
   "cell_type": "code",
   "execution_count": 146,
   "metadata": {},
   "outputs": [
    {
     "name": "stdout",
     "output_type": "stream",
     "text": [
      "trivial cycle: 1\n",
      "trivial cycle: 1\n",
      "trivial cycle: 1\n",
      "8432\n"
     ]
    }
   ],
   "source": [
    "with open(\"../data/dataset_288_4.txt\", \"r\") as fin:\n",
    "    genomes = []\n",
    "    for line in fin:\n",
    "        genomes.append(line.strip())\n",
    "    p = parse_genome(genomes[0])\n",
    "    q = parse_genome(genomes[1])\n",
    "    p_graph = genome2graph(p)\n",
    "    q_graph = genome2graph(q)\n",
    "    print(len(two_break_on_graph(p_graph, q_graph))-1)"
   ]
  },
  {
   "cell_type": "code",
   "execution_count": 160,
   "metadata": {},
   "outputs": [
    {
     "name": "stdout",
     "output_type": "stream",
     "text": [
      "trivial cycle: 1\n",
      "trivial cycle: 1\n",
      "(+10 +3 +1 -5 +9 -11 +12 +13 +6 -7 -4 -8 -2)\n",
      "(-7)(-4 -8 -2 +10 +3 +1 -5 +9 -11 +12 +13 +6)\n",
      "(-13 -12 +11 -9 +5 -1 -3 -10 +2 +8 +4 -6 -7)\n",
      "(-13 -12 +7 +6 -4 -8 -2 +10 +3 +1 -5 +9 -11)\n",
      "(+13 +11 -9 +5 -1 -3 -10 -12 +7 +6 -4 -8 -2)\n",
      "(+3 +1 -5 +9 -11 -13 -10 -12 +7 +6 -4 -8 -2)\n",
      "(-5 +9 -11)(-13 -10 -12 +7 +6 -4 -8 -2 +3 +1)\n",
      "(+9 -11 -5 +1 -13 -10 -12 +7 +6 -4 -8 -2 +3)\n",
      "(+11 -9 -5 +1 -13 -10 -12 +7 +6 -4 -8 -2 +3)\n",
      "(-11 -3 +2 -9 -5 +1 -13 -10 -12 +7 +6 -4 -8)\n",
      "(-11 -3)(+8 +4 -6 -7 +12 +10 +13 -1 +5 +9 -2)\n",
      "(+4 -6 -7 +12 +10 +13 -1 +5 +9 -2 +8 -11 -3)\n"
     ]
    }
   ],
   "source": [
    "pstr = \"(+1 +8 -12 +6 +10 +11 +3 +5 +2 -9 -7 -4)\"\n",
    "qstr = \"(+7 -8 +12 +3 +11 -9 +10 +1 -4 -6 -2 -5)\"\n",
    "\n",
    "with open(\"../data/dataset_288_5.txt\", \"r\") as fin:\n",
    "    genomes = []\n",
    "    for line in fin:\n",
    "        genomes.append(line.strip())\n",
    "    p = parse_genome(genomes[0])\n",
    "    q = parse_genome(genomes[1])\n",
    "    p_graph = genome2graph(p)\n",
    "    q_graph = genome2graph(q)\n",
    "    print_path(two_break_on_graph(p_graph, q_graph))\n",
    "    #for i in two_break_on_graph(p_graph, q_graph):\n",
    "    #    print(i)"
   ]
  },
  {
   "cell_type": "code",
   "execution_count": 156,
   "metadata": {},
   "outputs": [
    {
     "name": "stdout",
     "output_type": "stream",
     "text": [
      "trivial cycle: 1\n",
      "trivial cycle: 1\n",
      "trivial cycle: 1\n",
      "(+9.0 -8.0 +12.0 +7.0 +1.0 -14.0 +13.0 +3.0 -5.0 -11.0 +6.0 -2.0 +10.0 -4.0)\n",
      "(-7.0 -12.0 +8.0 -9.0 +4.0 -10.0 +2.0 -6.0 +11.0 +1.0 -14.0 +13.0 +3.0 -5.0)\n",
      "(+13.0 +3.0 -5.0 -7.0 -12.0 +8.0 -9.0 +4.0 -10.0 +2.0 -6.0 +11.0 +1.0 +14.0)\n",
      "(+13.0 +3.0 -5.0)(-7.0 -12.0 +8.0 -9.0 +4.0 -10.0 +2.0 -6.0 +11.0 +1.0 +14.0)\n",
      "(-12.0 +8.0 -9.0 +4.0 -10.0 +2.0 -6.0 +11.0 +1.0 +14.0 -7.0 -5.0 +13.0 +3.0)\n",
      "(+13.0 +3.0 -12.0 +8.0)(+5.0 +7.0 -14.0 -1.0 -11.0 +6.0 -2.0 +10.0 -4.0 +9.0)\n",
      "(+4.0 -10.0 +2.0 -6.0 +11.0 +1.0 +14.0 -7.0 -5.0 -9.0 -12.0 +8.0 +13.0 +3.0)\n",
      "(-2.0 +10.0 -4.0 -3.0 -13.0 -8.0)(+12.0 +9.0 +5.0 +7.0 -14.0 -1.0 -11.0 +6.0)\n",
      "(+3.0 +4.0 -10.0 +2.0 +8.0 +13.0 +6.0 +12.0 +9.0 +5.0 +7.0 -14.0 -1.0 -11.0)\n",
      "(-10.0 +2.0 +8.0)(-4.0 -3.0 +11.0 +1.0 +14.0 -7.0 -5.0 -9.0 -12.0 -6.0 -13.0)\n",
      "(+10.0 -8.0 -2.0 +3.0 +4.0 +13.0 +6.0 +12.0 +9.0 +5.0 +7.0 -14.0 -1.0 -11.0)\n",
      "(+8.0 -10.0 -2.0 +3.0 +4.0 +13.0 +6.0 +12.0 +9.0 +5.0 +7.0 -14.0 -1.0 -11.0)\n"
     ]
    }
   ],
   "source": [
    "pstr=\"(+9 -8 +12 +7 +1 -14 +13 +3 -5 -11 +6 -2 +10 -4)\"\n",
    "qstr=\"(-11 +8 -10 -2 +3 +4 +13 +6 +12 +9 +5 +7 -14 -1)\"\n",
    "print_path(shortest_path(pstr,qstr))"
   ]
  },
  {
   "cell_type": "code",
   "execution_count": null,
   "metadata": {},
   "outputs": [],
   "source": [
    "(+9 -8 +12 +7 +1 -14 +13 +3 -5 -11 +6 -2 +10 -4)\n",
    "(+9 -8 +12 -3 -13 +14 -1 -7 -5 -11 +6 -2 +10 -4)\n",
    "(+9 -8 +12)(+7 +1 -14 +13 +3 +4 -10 +2 -6 +11 +5)\n",
    "(+9 -8 +12)(+1 -14 +13 +3 +4 -10 +2 -6 +11)(+5 +7)\n",
    "(+9 -8 +12)(+13 +3 +4 -10 +2 -6 +11 +1 +14)(+5 +7)\n",
    "(+9 -8 +12)(+13 +3 +4 -10 +2 -6 +11 +1 +14 -7 -5)\n",
    "(-8 +12 +9 +5 +7 -14 -1 -11 +6 -2 +10 -4 -3 -13)\n",
    "(-8 +12 +9 +5 +7 -14 -1 -11 +6 -2 +10)(+13 +3 +4)\n",
    "(+13 +3 +4)(-11 +6 +12 +9 +5 +7 -14 -1)(-2 +10 -8)\n",
    "(-2 +10 -8)(+5 +7 -14 -1 -11 +3 +4 +13 +6 +12 +9)\n",
    "(+5 +7 -14 -1 -11 +10 -8 -2 +3 +4 +13 +6 +12 +9)\n",
    "(+5 +7 -14 -1 -11 +8 -10 -2 +3 +4 +13 +6 +12 +9)"
   ]
  }
 ],
 "metadata": {
  "kernelspec": {
   "display_name": "Python 3",
   "language": "python",
   "name": "python3"
  },
  "language_info": {
   "codemirror_mode": {
    "name": "ipython",
    "version": 3
   },
   "file_extension": ".py",
   "mimetype": "text/x-python",
   "name": "python",
   "nbconvert_exporter": "python",
   "pygments_lexer": "ipython3",
   "version": "3.6.9"
  }
 },
 "nbformat": 4,
 "nbformat_minor": 4
}
