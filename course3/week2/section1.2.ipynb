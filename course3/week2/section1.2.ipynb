{
 "cells": [
  {
   "cell_type": "code",
   "execution_count": 135,
   "metadata": {},
   "outputs": [],
   "source": [
    "import json"
   ]
  },
  {
   "cell_type": "code",
   "execution_count": 2,
   "metadata": {},
   "outputs": [],
   "source": [
    "DOWN = \"Do\"\n",
    "RIGHT = \"R\"\n",
    "DIAG = \"Di\"\n",
    "START = \"S\""
   ]
  },
  {
   "cell_type": "code",
   "execution_count": 147,
   "metadata": {},
   "outputs": [],
   "source": [
    "def load_blosum62(filepath=\"../data/blosum62.json\"):\n",
    "    with open(filepath, \"r\") as fin:\n",
    "        return json.loads(fin.read())"
   ]
  },
  {
   "cell_type": "code",
   "execution_count": 148,
   "metadata": {},
   "outputs": [],
   "source": [
    "blosum = load_blosum62()"
   ]
  },
  {
   "cell_type": "code",
   "execution_count": 149,
   "metadata": {},
   "outputs": [
    {
     "data": {
      "text/plain": [
       "4"
      ]
     },
     "execution_count": 149,
     "metadata": {},
     "output_type": "execute_result"
    }
   ],
   "source": [
    "blosum[\"A\"][\"A\"]"
   ]
  },
  {
   "cell_type": "code",
   "execution_count": 150,
   "metadata": {},
   "outputs": [],
   "source": [
    "def scoring_grid(v, w, blosum, sigma=5):    \n",
    "    n = len(v)\n",
    "    m = len(w)\n",
    "    \n",
    "    backtrack = []\n",
    "    for i in range(n+1):\n",
    "        backtrack.append([0]*(m+1))   \n",
    "        \n",
    "    for i in range(1,n+1):\n",
    "        backtrack[i][0] = DOWN\n",
    "    \n",
    "    for j in range(1,m+1):\n",
    "        backtrack[0][j] = RIGHT\n",
    "    \n",
    "    grid = []\n",
    "    for i in range(n+1):\n",
    "        grid.append([0]*(m+1))\n",
    "        \n",
    "    for i in range(n+1):\n",
    "        grid[i][0] = -i*sigma\n",
    "    for j in range(m+1):\n",
    "        grid[0][j] = -j*sigma\n",
    "        \n",
    "    for i in range(1,n+1):\n",
    "        for j in range(1,m+1):\n",
    "            match = blosum[v[i-1]][w[j-1]]\n",
    "            grid[i][j] = max(\n",
    "                grid[i-1][j] - sigma,\n",
    "                grid[i][j-1] - sigma,\n",
    "                grid[i-1][j-1] + match \n",
    "            )\n",
    "            if grid[i][j] == grid[i-1][j] - sigma:\n",
    "                backtrack[i][j] = DOWN\n",
    "            elif grid[i][j] == grid[i][j-1] - sigma:\n",
    "                backtrack[i][j] = RIGHT\n",
    "            elif grid[i][j] == grid[i-1][j-1] + match:\n",
    "                backtrack[i][j] = DIAG\n",
    "                \n",
    "    return grid, backtrack"
   ]
  },
  {
   "cell_type": "code",
   "execution_count": 157,
   "metadata": {},
   "outputs": [],
   "source": [
    "def traceback_path(backtrack, v, w, i, j):\n",
    "    if j == 0 and i==0:\n",
    "        return (\"\",\"\")\n",
    "    if backtrack[i][j] == DOWN:\n",
    "        vv, ww = traceback_path(backtrack, v, w, i-1, j) \n",
    "        vv += v[i-1]\n",
    "        ww += \"-\"\n",
    "        return vv, ww\n",
    "    elif backtrack[i][j] == RIGHT:\n",
    "        vv, ww = traceback_path(backtrack, v, w, i, j-1) \n",
    "        vv += \"-\"\n",
    "        ww += w[j-1]\n",
    "        return vv, ww\n",
    "    else:\n",
    "        vv, ww = traceback_path(backtrack, v, w, i-1, j-1) \n",
    "        vv += v[i-1]\n",
    "        ww += w[j-1]\n",
    "        return vv, ww"
   ]
  },
  {
   "cell_type": "code",
   "execution_count": 160,
   "metadata": {},
   "outputs": [],
   "source": [
    "def align(v, w):\n",
    "    grid, backtrack =  scoring_grid(v, w, blosum)\n",
    "    score = grid[len(grid)-1][len(grid[0])-1]\n",
    "    aligned_v, aligned_w = traceback_path(backtrack, v, w, len(v), len(w))\n",
    "    return score, aligned_v, aligned_w"
   ]
  },
  {
   "cell_type": "code",
   "execution_count": 161,
   "metadata": {},
   "outputs": [],
   "source": [
    "def print_align(v, w):\n",
    "    score, aligned_v, aligned_w = align(v, w)\n",
    "    print(score)\n",
    "    print(aligned_v)\n",
    "    print(aligned_w)"
   ]
  },
  {
   "cell_type": "code",
   "execution_count": 162,
   "metadata": {},
   "outputs": [
    {
     "name": "stdout",
     "output_type": "stream",
     "text": [
      "8\n",
      "PLEASANTLY\n",
      "-MEA--N-LY\n"
     ]
    }
   ],
   "source": [
    "print_align(v, w)"
   ]
  },
  {
   "cell_type": "code",
   "execution_count": 163,
   "metadata": {},
   "outputs": [],
   "source": [
    "v=\"ILYPRQSMICMSFCFWDMWKKDVPVVLMMFLERRQMQSVFSWLVTVKTDCGKGIYNHRKYLGLPTMTAGDWHWIKKQNDPHEWFQGRLETAWLHSTFLYWKYFECDAVKVCMDTFGLFGHCDWDQQIHTCTHENEPAIAFLDLYCRHSPMCDKLYPVWDMACQTCHFHHSWFCRNQEMWMKGDVDDWQWGYHYHTINSAQCNQWFKEICKDMGWDSVFPPRHNCQRHKKCMPALYAGIWMATDHACTFMVRLIYTENIAEWHQVYCYRSMNMFTCGNVCLRCKSWIFVKNYMMAPVVNDPMIEAFYKRCCILGKAWYDMWGICPVERKSHWEIYAKDLLSFESCCSQKKQNCYTDNWGLEYRLFFQSIQMNTDPHYCQTHVCWISAMFPIYSPFYTSGPKEFYMWLQARIDQNMHGHANHYVTSGNWDSVYTPEKRAGVFPVVVPVWYPPQMCNDYIKLTYECERFHVEGTFGCNRWDLGCRRYIIFQCPYCDTMKICYVDQWRSIKEGQFRMSGYPNHGYWFVHDDHTNEWCNQPVLAKFVRSKIVAICKKSQTVFHYAYTPGYNATWPQTNVCERMYGPHDNLLNNQQNVTFWWKMVPNCGMQILISCHNKMKWPTSHYVFMRLKCMHVLMQMEYLDHFTGPGEGDFCRNMQPYMHQDLHWEGSMRAILEYQAEHHRRAFRAELCAQYDQEIILWSGGWGVQDCGFHANYDGSLQVVSGEPCSMWCTTVMQYYADCWEKCMFA\"\n",
    "w=\"ILIPRQQMGCFPFPWHFDFCFWSAHHSLVVPLNPQMQTVFQNRGLDRVTVKTDCHDHRWKWIYNLGLPTMTAGDWHFIKKHVVRANNPHQWFQGRLTTAWLHSTFLYKKTEYCLVRHSNCCHCDWDQIIHTCAFIAFLDLYQRHWPMCDKLYCHFHHSWFCRNQEMSMDWNQWFPWDSVPRANCLEEGALIALYAGIWANSMKRDMKTDHACTVRLIYVCELHAWLKYCYTSINMLCGNVCLRCKSWIFVKLFYMYAPVVNTIEANSPHYYKRCCILGQGICPVERKSHCEIYAKDLLSFESCCSQKQNCYTDNWGLEYRLFFQHIQMECTDPHANRGWTSCQTAKYWHFNLDDRPPKEFYMWLQATPTDLCMYQHCLMFKIVKQNFRKQHGHANPAASTSGNWDSVYTPEKMAYKDWYVSHPPVDMRRNGSKMVPVWYPPGIWHWKQSYKLTYECFFTVPGRFHVEGTFGCNRWDHQPGTRRDRQANHQFQCPYSDTMAIWEHAYTYVDQWRSIKEGQMPMSGYPNHGQWNVHDDHTNEQERSPICNQPVLAKFVRSKNVSNHEICKKSQTVFHWACEAQTNVCERMLNNQHVAVKRNVTFWWQMVPNCLWSCHNKMTWPTRPEQHRLFFVKMRLKCMHEYLDVAPSDFCRNMQAYMHSMRAILEYQADFDLKRRLRAIAPMDLCAQYDQEIILWSGGYIYDQSLQVVSCEGCSYYADCYVKCINVKEKCMFA\""
   ]
  },
  {
   "cell_type": "code",
   "execution_count": 165,
   "metadata": {},
   "outputs": [],
   "source": [
    "score, aligned_v, aligned_w = align(v, w)"
   ]
  },
  {
   "cell_type": "code",
   "execution_count": 166,
   "metadata": {},
   "outputs": [],
   "source": [
    "expected_v = \"ILYPRQSMICMSFCF-WDM--WKKDVPVVLMMFLERRQMQSVF-S-WL--VTVKTDCGKGIYNHR-K--Y-LGLPTMTAGDWHWIKK---Q-NDPHEWFQGRLETAWLHSTFLYWKYFE-CDAVKVCMDTFGLFGHCDWDQQIHTCTHENEPAIAFLDLYCRHSPMCDKLYPVWDMACQTCHFHHSWFCRNQEMWMKGDVDDWQWGYHYHTINSAQCNQWFKEICKDMGWDSVFPPRHNCQRHKKCMPALYAGIW---MA----TDHACTFMVRLIYTENIAEWHQVYCYRSMNMFTCGNVCLRCKSWIFVKN-YMMAPVVNDPMIEA--FYKRCCILGKAWYDMWGICPVERKSHWEIYAKDLLSFESCCSQKKQNCYTDNWGLEYRLFFQSIQMN-TDPH----Y--CQTHVCW-ISAMF-PIYSPFYT--SG-PKEFYMW---LQARI-DQNM---HGHANHYV-TSGNWDSVYTPEKRA--G--V-FP-V-V-------VPVWYPPQMCN--D-YIKLTYEC--E---RFHVEGTFGCNRWD-L-GCRR--YII--FQCPYCDTMKI---CY--VDQWRSIKEGQFRMSGYPNHGYWFVHDDHTNEW-----CNQPVLAKFVRSKIVA---ICKKSQTVFHYAYTPGYNATWPQTNVCERMYGPHDNLLNNQQNVTFWWKMVPNCGMQILISCHNKMKWPT--S-HYVF---MRLKCMHVLMQMEYLDHFTGPGEGDFCRNMQPYMHQDLHWEGSMRAILEYQAEHH-RRAFRA----ELCAQYDQEIILWSGGWGVQDCGFHANYDGSLQVVSGEPCSMWCTTVMQYYADCWEKCMFA\"\n",
    "expected_w = \"ILIPRQQMGCFPFPWHFDFCFWSAHHSLVVP--LNP-QMQTVFQNRGLDRVTVKTDC----HDHRWKWIYNLGLPTMTAGDWHFIKKHVVRANNPHQWFQGRLTTAWLHSTFLY-KKTEYC-LVR---HS-NCC-HCDWDQIIHTCAF-----IAFLDLYQRHWPMCDKLY------C---HFHHSWFCRNQEMSM--D---W---------N--Q---WFP-------WDSV-P-RANCLE-EGALIALYAGIWANSMKRDMKTDHACT--VRLIYVCELHAWLK-YCYTSINML-CGNVCLRCKSWIFVKLFYMYAPVVNTIEANSPHYYKRCCILGQ------GICPVERKSHCEIYAKDLLSFESCCSQK-QNCYTDNWGLEYRLFFQHIQMECTDPHANRGWTSCQTAKYWHFNLDDRPP-KEFYMWLQATPTDLCMYQHCLMFKIVKQNFRKQHGHANPAASTSGNWDSVYTPEKMAYKDWYVSHPPVDMRRNGSKMVPVWYPPGIWHWKQSY-KLTYECFFTVPGRFHVEGTFGCNRWDHQPGTRRDRQANHQFQCPYSDTMAIWEHAYTYVDQWRSIKEGQMPMSGYPNHGQWNVHDDHTNEQERSPICNQPVLAKFVRSKNVSNHEICKKSQTVFHWA-C---EA---QTNVCERMLN-NQHVAV-KRNVTFWWQMVPNC----LWSCHNKMTWPTRPEQHRLFFVKMRLKCMH-----EYLD--VAPS--DFCRNMQAYMH-------SMRAILEYQADFDLKRRLRAIAPMDLCAQYDQEIILWSGGY-I--------YDQSLQVVSCEGCSYYADCYVKCI-NVKEKCMFA\""
   ]
  },
  {
   "cell_type": "code",
   "execution_count": 168,
   "metadata": {},
   "outputs": [],
   "source": [
    "assert expected_v == aligned_v\n",
    "assert expected_w == aligned_w"
   ]
  },
  {
   "cell_type": "code",
   "execution_count": 170,
   "metadata": {},
   "outputs": [
    {
     "name": "stdout",
     "output_type": "stream",
     "text": [
      "2379\n",
      "MTSQNRFNNPQLDAPNLTNRYLLMDYLWVMANSHAQSDQIRIHMRTHEGMTNNLENYTQYAHRIILQFKCDVQMLFMMLEHETIAGEDRI-SWFKIRP-KYGDFHNEL-LTYTACEQCWKQVQQQRVITLPNPAVMRFPIFWC---A--------N--CYRAACEPKQSWDCMHQFYSMTQFAKKVGFHGKPQDMACGV--D-I-C-NQGYPHVGLNKANEAKKWFKHSMATCWPCWWP-SHDQIYPTRYKMVSSSENYCHIYWYKLTTKNFDFPDVIQHTKCCSDMCIIHQHRRYAIWRLDEACDHQLYEKLITCNQACDQPSIMATHVYFWKI--CFCHFIQLVPQIWY--LKYGQVKIS-------I-GLKSLMEIIQFNTQGK-N-TCINATPICFQTYAVMANTFSFTVCDAEWPHGSFGEFVVVTAVAQECSFKKVVFASVQWRPDADERYKSLRTGRTDKPKIKQVKTVA-FL----M-L-AVWYRQVVCHYLCFDSRKPRQP-LCMWSAWTHYMYCKRYVTDHSGW---CSWYGGFAQNREERRKCQKYVKMKGWLHWVVWKMRSEFHLMLNYLIEDAYEVEHWKHMNALNKGGRTCESRNEHRKRGNAIPKAMLDFHDPGWKWTAGINAIFDPWKCHLTQFLAGLCFYGQNCLMTSVSQKFHCINWYEAH--S--I-RWEVNHWVDFKLDCCGIVTKFMGKLMMEMVVRYTCMNNYVCEHG-PNRRPMGECDLSKYVTDSTYPMRKRHRQCNGDQSEAGNKEHMICSPCMRIHTWCIDKEERNGVPWMHMTGIDCRELI-GHSPTKGDNKHMFNFHVGLCQCRRHR-IYIDGRTVQMHRSHKTMSVIWPVKVEKVFGD--N-----YDWKLIPDQKLFFYRPCAVLNTQGERW-VQLRIN---IYPTKQPINGSYRVCWTRMV-T------QMDSVSPVKEVVMSNKYFSVAPFLSAP\n",
      "MTSQNRFNNPQLDLPNLTNRYLLMDYLWVMANSHAQSDQIRIHMRTHEG--N----YTQYAHRIILQFKCDGHSL-----HGTIAGEMRIGNELMMYSCK-GSTYKYVNVDLNACEQC--QVQQQRPIT----AVMRFPIFWCDPTSDVGVKYRDNAQCYRAACEPKQSWDCMHQFYSATQFAKKVGFHGKPQGMAEGVFWTWAKCCNQGYPHVG---------WFKWWMATCWPNGWTCKHDQI-AIDAAW-SSSENYCNIYWYKLTTDNFDFPDVIQHTKCCSDMCIIHQHRRYAIWRW--ACTHQSYA--VCCQSTCDQPSIMATHVYFWKYGKCFCHFIQLVPQIWYPHLKYGQVKISFTHMVEFIIGLKSLMEIIQFN-QGNMRYVCINATPICFQTYAVMANTENPHGSFGEFVSQVDNVYMHVTAVMQECSFKKVV------RPDMDERYKS-------KPKIKQVKTVANLMYYCHMEIFIVWYRPVVCHYLCFE-RWDRPPPLCM------Y--CKRYVTDHSGWAVYCTWYGGFAQNRE---KCGK--P-P--LD-VVWKMRSEFHLML----EDL--VEHWKH---LSKGGRT----NLSMIRGNAITKAMLDFHHPG----A-I---FDPW----TQFLAGLCFYGQNCLMEKVEESGWS-QWYVAHPKSGPIIRWEVNHW---KLDCCGIVTKFMMKLMMEMVVRYTCMNNYVSEHCCPGRRPMGECDLEK--T--THN-RKRCRQCKGDQFEA---D-CLC-P-LSVDEWA--KP----CP-LR-S-VE-RNGVPGH-PTKGDNKHMDIFHVGLCQCRRGRTVQMHNH-IG-GESHKTMSVIWPVKVEKVFGDQFSFDVKGYDWKLEPDQKLFFYGE-R--HTY-V-WNVQLRINYNRIYPTKQPINGIYRVCWTRMMQTNHYTFTQMDSVSPVKEVVMSNKDFSVAPFLSAD\n"
     ]
    }
   ],
   "source": [
    "with open(\"../data/dataset_247_3.txt\", \"r\") as fin:\n",
    "    lines = [line.strip() for line in fin]\n",
    "    v = lines[0]\n",
    "    w = lines[1]\n",
    "    print_align(v, w)"
   ]
  },
  {
   "cell_type": "code",
   "execution_count": 1,
   "metadata": {},
   "outputs": [],
   "source": [
    "#local alignment"
   ]
  },
  {
   "cell_type": "code",
   "execution_count": 1,
   "metadata": {},
   "outputs": [],
   "source": [
    "with open(\"../data/PAM250.txt\") as fin:\n",
    "    lines = fin.read().split(\"\\n\")\n",
    "    scoring_matrix = {l:dict() for l in lines[0].strip().split(\" \") if l!=\"\"}\n",
    "    index2residue = {}\n",
    "    c = 0\n",
    "    for l in lines[0].strip().split(\" \"):\n",
    "        if l!=\"\":\n",
    "            index2residue[c] = l\n",
    "            c += 1\n",
    "    for line in lines[1:]:\n",
    "        ll = [l for l in line.strip().split(\" \") if l!= \"\"]\n",
    "        for i, v in enumerate(ll[1:]):\n",
    "            scoring_matrix[ll[0]][index2residue[i]] = int(v)"
   ]
  },
  {
   "cell_type": "code",
   "execution_count": 30,
   "metadata": {},
   "outputs": [],
   "source": [
    "def local_scoring_grid(v, w, scoring_matrix, sigma=5):    \n",
    "    n = len(v)\n",
    "    m = len(w)\n",
    "    \n",
    "    backtrack = []\n",
    "    for i in range(n+1):\n",
    "        backtrack.append([(0,0,\"\",\"\")]*(m+1))   \n",
    "        \n",
    "    for i in range(1,n+1):\n",
    "        backtrack[i][0] = (i-1,0,v[i-1],\"-\")\n",
    "    \n",
    "    for j in range(1,m+1):\n",
    "        backtrack[0][j] = (0,j-1,\"-\",w[j-1])\n",
    "    \n",
    "    grid = []\n",
    "    for i in range(n+1):\n",
    "        grid.append([0]*(m+1))\n",
    "        \n",
    "    for i in range(n+1):\n",
    "        grid[i][0] = -i*sigma\n",
    "    for j in range(m+1):\n",
    "        grid[0][j] = -j*sigma\n",
    "        \n",
    "    max_score = -1\n",
    "    max_i = 0\n",
    "    max_j = 0\n",
    "    for i in range(1,n+1):\n",
    "        for j in range(1,m+1):\n",
    "            match = scoring_matrix[v[i-1]][w[j-1]]\n",
    "            grid[i][j] = max(\n",
    "                0,\n",
    "                grid[i-1][j] - sigma,\n",
    "                grid[i][j-1] - sigma,\n",
    "                grid[i-1][j-1] + match \n",
    "            )\n",
    "            if grid[i][j] > max_score:\n",
    "                max_score = grid[i][j]\n",
    "                max_i = i\n",
    "                max_j = j\n",
    "            if grid[i][j] == 0:\n",
    "                backtrack[i][j] = (0,0,\"\",\"\")\n",
    "            elif grid[i][j] == grid[i-1][j] - sigma:\n",
    "                backtrack[i][j] = (i-1,j,v[i-1],\"-\")\n",
    "            elif grid[i][j] == grid[i][j-1] - sigma:\n",
    "                backtrack[i][j] = (i,j-1,\"-\",w[j-1])\n",
    "            elif grid[i][j] == grid[i-1][j-1] + match:\n",
    "                backtrack[i][j] = (i-1,j-1,v[i-1],w[j-1])\n",
    "                \n",
    "    if max_i != n and max_j != m:\n",
    "        backtrack[n][m] = (max_i, max_j, v[max_i-1], w[max_j-1])\n",
    "        grid[n][m] = max_score\n",
    "    \n",
    "                \n",
    "    return grid, backtrack"
   ]
  },
  {
   "cell_type": "code",
   "execution_count": 31,
   "metadata": {},
   "outputs": [],
   "source": [
    "def local_traceback_path(backtrack, v, w, i, j):\n",
    "    if j == 0 and i==0:\n",
    "        return (\"\",\"\")\n",
    "    vv, ww = local_traceback_path(backtrack, v, w, backtrack[i][j][0], backtrack[i][j][1]) \n",
    "    vv += backtrack[i][j][2]\n",
    "    ww += backtrack[i][j][3]\n",
    "    return vv, ww"
   ]
  },
  {
   "cell_type": "code",
   "execution_count": 32,
   "metadata": {},
   "outputs": [],
   "source": [
    "def local_align(v, w, scoring_matrix, sigma=5):\n",
    "    grid, backtrack =  local_scoring_grid(v, w, scoring_matrix, sigma)\n",
    "    score = grid[len(grid)-1][len(grid[0])-1]\n",
    "    aligned_v, aligned_w = local_traceback_path(backtrack, v, w, len(v), len(w))\n",
    "    return score, aligned_v, aligned_w"
   ]
  },
  {
   "cell_type": "code",
   "execution_count": 33,
   "metadata": {},
   "outputs": [],
   "source": [
    "def print_local_align(v, w, scoring_matrix, sigma=5):\n",
    "    score, aligned_v, aligned_w = local_align(v, w, scoring_matrix, sigma)\n",
    "    print(score)\n",
    "    print(aligned_v)\n",
    "    print(aligned_w)"
   ]
  },
  {
   "cell_type": "code",
   "execution_count": 34,
   "metadata": {},
   "outputs": [],
   "source": [
    "v = \"MEANLY\"\n",
    "w = \"PENALTY\""
   ]
  },
  {
   "cell_type": "code",
   "execution_count": 35,
   "metadata": {},
   "outputs": [
    {
     "name": "stdout",
     "output_type": "stream",
     "text": [
      "15\n",
      "EANL-Y\n",
      "ENALTY\n"
     ]
    }
   ],
   "source": [
    "print_local_align(v,w, scoring_matrix, 5)"
   ]
  },
  {
   "cell_type": "code",
   "execution_count": 36,
   "metadata": {},
   "outputs": [
    {
     "name": "stdout",
     "output_type": "stream",
     "text": [
      "1373\n",
      "FSRNY-PGVTETFNKDGRYLCLMPINQMEHP-LRPGQKRLPAIWRDDETEHVRPFNNVKPDPPM-CKCI-L-GTQTVQNK--MWH-DPIWSKWAVFNSQF-YPS-C-WFI-MVPFSWPNIC----AWKKVGLHIKTMGHMVYF-VPEAWFCGFSYTCNVQKWPGHELKPLHRNMREDMENYHECNTEHIPHLVTSKFNTT-KTDSG-AWYEVARQIKSLHMKLKQVHTTI-M-CYPCFYVDHHRRQTMICIDPKVFDSLHQQAWAFHCYHTLVQVMIFRYLLNA-A-PDH-QAMSAEWDNPWKTGDRHDYAHYAWKLGEKWNQAQFVAQ-F---IDDAW-CATDI----YKATRKDIVVMYHIPKLCDQHHIYSWNQRYDFGARFANPSWSITTSNIMPLFCLMLESPTHHF-RLAFHQRDFRCSYNM--------AHGSCEHDICFKIIPPPWLCIQSMAFINARP--PCNIGFEMIYHNHSWFGHEKWQFLTNACNWGYIGRLYKLQRCEKENCFQMIELFFGIKDQTTS-E-----I-N-C-G----G---GGKGSREHVM-LFM-E-------FLVVSRKENSV----EVMWQSCKRDAWCQGGFLGNP-W-K-FG--Q---PWRILMRVE--KP-T--FVMMGLEYEKTSNIKPFFNDSGESENIAWNEFFLAEINVL-QFV-MPCIYV-R---ARIHKVIEHGRLIP-EQDLNV--ARV-VARFVITTYQHLKWLHPGQ--Y-YVYPACDGRGKYCGYCRWLIS-CEP-KD-GT-EWKEYRAFTLCHQP-EWNAVP-RESFEQGSGIDVH-FIAVQN-KAGI-GMPRKQCIYE-ATIAH-ADQD-MIFN--F-IMTSPDVEDIDRFQQSMKM-KRIDVYISNAVF-QNYKAKDNVGICPVVMCWVPNNNSFVRSRTSSIQY-QCI-Q-FF-HRVYYSVWNA-LSINM-FPIKVKMMRIYMTAN-HTYY\n",
      "YDFQYCDSKKQPI-KEGHDVHFPSVGHTTRGCSNHCVLRKPIVTVSNPQAKLRE-NNLPHEVEMFTRGVGLLTTSKPDSNSYFWEIKNHRPGNAVPNDGFAYAADTKRYRCKEAVGHRSVCLGLGAWC-IG-ECKC-SK--YHQPPQSRVQEID-DCQLTEFSTHDDDHMSLNNWACYQSYTAVSCVYDP-IIAHQWHTFYWTDSSIDSFD-PEH-R-LYEDRSQLEEMMWMEC-SC-QINKPQDQEGF--DG-VFDSLHQQAWAFHCYHTLVQVM--PYVLRKWDFRYHLNAAWRVWRNPWKTGDRHSYAHYAPKSHEKHNQAQFVAQCMSQPIDKCKMCATDIWVTWYEATRKDIVVMYHIPKLCDQHHIYSWNQRYDFGA---NPSWSITTSNIMPLFCLMLFDQAVKFQRLAFAFRDFRCSYNMQLRDNDFRTHGSCEHDICFKIIVSPWLCIQSMHFINAQGYIPHNIGFEMIYHNHSWFGHEKMQFLTNACNWGYPARLYNLQRCEKENCFQMIELFFGIFDQTTPGQYSHTCMEDWCTDPSNPGRRDGGMGMREHVAGLFMRHAVTVPSHFLVVNRKENSRQCHNEVMWQSKKRDSWCQGPFLGNPTFPSLFGWCQDDGPWRILNRMDPDNARVEKYTYSGLEWEKTSNIKPFFNDSGES-N----EFFLAEINEPCRYVYIHKVIVARVVTAAVHSVMNY-LMIPNERSRNTWFVRTCMMGFPTLRSMHL-WESPDQQTCEFFFWHHLAWALSSQMHKNIIPNSDPGMEYQDYQWK-WQN-TLCLPACQLHSTQYRQMFN-GQWWQYHAYLMPWSCHAYYYNVKIETCNWNFIEIPRFCERGYMHFNHQYRFLIAAWATRI--YSPLAKHYNEINVSGNQDLWCEGLSQSDQEDT-KS-QC-L-DETRIEDTKMQGYQFNQCCCHRYLGDEII-KILDPFLDSSLGFHWELKMKSLKVADKLQRYY\n"
     ]
    }
   ],
   "source": [
    "with open(\"../data/dataset_247_10-2.txt\", \"r\") as fin:\n",
    "    lines = [line.strip() for line in fin]\n",
    "    v = lines[0]\n",
    "    w = lines[1]\n",
    "    print_local_align(v, w, scoring_matrix, 5)"
   ]
  },
  {
   "cell_type": "code",
   "execution_count": 118,
   "metadata": {},
   "outputs": [],
   "source": [
    "v=\"AMTAFRYRQGNPRYVKHFAYEIRLSHIWLLTQMPWEFVMGIKMPEDVFQHWRVYSVCTAEPMRSDETYEQKPKPMAKWSGMTIMYQAGIIRQPPRGDRGVSDRNYSQCGKQNQAQLDNNPTWTKYEIEWRVQILPPGAGVFEGDNGQNQCLCPNWAWEQPCQWGALHSNEQYPNRIHLWAPMSKLHIKIEKSSYNRNAQFPNRCMYECEFPSYREQVDSCHYENVQIAFTIFSGAEQKRKFCSCHFWSNFIDQAVFSTGLIPWCYRRDDHSAFFMPNWNKQYKHPQLQFRVAGEGTQCRPFYTREMFTKVSAWRIAGRFAGPYERHHDAHLELWYQHHKVRTGQQLGIIWNNRDKTRNPCPFSAYYNKLPWWKINQNAFYNCLQNIAHSTHDETHEFNPVKCIDWLQGTMVPTECKKGFVHEKCECYRNPGPPLHDMYHQMEDIFGVRFDCLTGWKHLSDYNPCQERRNINDFYIFAYEIAPAVKNLVLSPQPLADATKKCAFNYTPLDQSPVVIACKWYIHQPICMLLIVLICAMDKYNAHMIVIRTTEGQQPMHACRMTEGPGMCMKEPLVTFTLPAQWQWPNHEFKYVYMYVLNYHLSQYTYTDEGHAGGQHYSFNVAVDVGMAWGHNRCYCQPACYSQQETQTRTIDYEKWQYMKHQAFKWGLWFCEQERHAWFKGQNRCEMFTAKMTRMGADSNLDQYKLMLAQNYEEQWEQPIMECGMSEIIEIDPPYRSELIFTFWPFCTYSPWQNLIKCRCNNVIEEMDQCVPLTFIGFGVKQAGGIQAWAFYKEEWTSTYYLMCQCMKSDKAQYPYEIILFWMQPMDTGEQEPPQQNMWIFLPHSWFFDWCCNAPWSEICSSRHDHGQCQDAFYPCELFTVFDDIFTAEPVVCSCFYDDPM\"\n",
    "w=\"WQEKAVDGTVPSRHQYREKEDRQGNEIGKEFRRGPQVCEYSCNSHSCGWMPIFCIVCMSYVAFYCGLEYPMSRKTAKSQFIEWCDWFCFNHWTNWAPLSIVRTSVAFAVWGHCWYPCGGVCKTNRCKDDFCGRWRKALFAEGPRDWKCCKNDLQNWNPQYSQGTRNTKRMVATTNQTMIEWKQSHIFETWLFCHVIIEYNWSAFWMWMNRNEAFNSIIKSGYPKLLLTQYPLSQGSTPIVKPLIRRDQGKFWAWAQMWWFREPTNIPTADYCHSWWQSRADLQNDRDMGPEADASFYVEFWYWVRCAARTYGQQLGIIWNNRLKTRNPCPYSADGIQNKENYVFWWKNMCTKSHIAFYYCLQNVAHYTHDVTAEFNPVKCIDWLQGHMVLSSWFKYNTECKKLFVHEKCECYRMFCGVVEDIFGVRFHTGWKHLSTAKPVPHVCVYNPSVQERRNINDFYIFYEIAPAVKNLVLSAQPLHDYTKKCAFNYTPITITRIISTRNQIIWAHVVIACQFYSPHQMLLIELAMDKYCADMNVRRSTEGHQPMHACRSTFGPGMAAKEPLVTFTLVAFWQWPNHEFQYVYMYTEDKIIQIGPHLSNGCEMVEYCVDCYAKRPCYRAYSAEAQYWRMITEAEDYSYKTRNAIAATATVRGQYCHPFRWLGIVWMAHHDCFFANECGTICIPQMAEMRPPETTPYEIDIIFMMFWKEHMSTTILDVVGMYRPATFSHWHDAHHQCEPYLTPLMCQSKLVFDAAFTQVGVKGVWYHTEKLELMAGFNHMKFKKEEAQQSCFYWFQDCPDYDPPDAVRKTDEKHIRAHGEIWWLMRYYCMYHILHIASRHEWMHLRWDQACTNPGYELFEFIPWVLRRYVVYDKIRYNYSYRNSASMEFV\""
   ]
  },
  {
   "cell_type": "code",
   "execution_count": 119,
   "metadata": {},
   "outputs": [],
   "source": [
    "score, vv, ww = local_align(v, w, scoring_matrix, 5)"
   ]
  },
  {
   "cell_type": "code",
   "execution_count": 109,
   "metadata": {},
   "outputs": [
    {
     "data": {
      "text/plain": [
       "True"
      ]
     },
     "execution_count": 109,
     "metadata": {},
     "output_type": "execute_result"
    }
   ],
   "source": [
    "vv==\"YQAGIIRQPPRGD-RGVSDRNYSQCGKQ-NQ-AQLDNNPTWTKYEIEWRVQI-LPPGAGVFEGDNGQNQCLCPNW--A-W-EQPCQW----GALHS-NEQYPNRIHLWAPMSKLHIKIEKSSYN-RNAQ-FPNRCMYECE-FPSY-REQVDSCHYENVQIAF-TIFSGAEQKRKFCSCHFWSNFIDQAVFSTGLI-PWCYRRDDHSAFFMPNWNKQ--YKHPQLQFRVAGEGTQCRPFYTREMFTKVSAWRIAGRFAGPYERHHDAHLELWY-QHHKVRT-GQQLGIIWNNRDKTRNPCPFSAY-Y-NK--LP-WWK-I-NQ-N-AFYNCLQNIAHSTHDETHEFNPVKCIDWLQGTMV-P------TECKKGFVHEKCECYRNPGPPLHDMYHQMEDIFGVRFDCLTGWKHLS------D---YNPC-QERRNINDFYIFAYEIAPAVKNLVLSPQPLADATKKCAFNYTPLDQSPVVIACK---WYIHQPI-CMLL----IVLIC-AMDKYNAHMIVIRTTEGQQPMHACRMTEGPGMCMKEPLVTFTLPAQWQWPNHEFKYVYMYVLNYHLSQYTYTDEGHAGGQHYSFNVAVDVGMAWGHNRCYCQPACYSQQETQTRTIDYEKWQYMKHQAFKWGLWFCEQER-HA--WFKGQNRCEMFTAKMTRMGADSNLDQYKLMLAQNYEEQWEQPIMECGMSEIIEIDPPYRSELIFTFWPFCTYSPWQNLIKCRCNNVIEEMDQCVP-LTF-IGFGVKQAGGIQA-WAFYKE--EWTSTYYLMCQCMKSDKAQYPYEIILFWMQ--P-MDTGE--QEPPQQNMWIFLPHSWFFDWCCNAPWSEICSSRHD--H---GQ-CQDAFYPCELFTVF\""
   ]
  },
  {
   "cell_type": "code",
   "execution_count": 110,
   "metadata": {},
   "outputs": [
    {
     "data": {
      "text/plain": [
       "True"
      ]
     },
     "execution_count": 110,
     "metadata": {},
     "output_type": "execute_result"
    }
   ],
   "source": [
    "ww==\"Y-P-MSRKTAKSQFIEWCDW-F--CFNHWTNWAPLSIVRTSVAFAV-W-GHCWYPCG-GVCKTNRCKDD-FCGRWRKALFAEGPRDWKCCKNDLQNWNPQYSQGTR--NTK-RMVATTNQTMIEWKQSHIFETW-LF-CHVIIEYNWSAF-W-MWMNRNEAFNSIIKSGYPKLLL-T-QY-P-L-SQG--STPIVKPL-IRRD-QGKFW-A-WAQMWWFREPT-NIPTA-D-Y-CHSW--WQ--SR-ADLQ-NDRDMGP-EADASFYVEFWYWVRCAARTYGQQLGIIWNNRLKTRNPCPYSADGIQNKENYVFWWKNMCTKSHIAFYYCLQNVAHYTHDVTAEFNPVKCIDWLQGHMVLSSWFKYNTECKKLFVHEKCECYRM----FCGV---VEDIFGVRFH--TGWKHLSTAKPVPHVCVYNPSVQERRNINDFYIF-YEIAPAVKNLVLSAQPLHDYTKKCAFNYTPITITRIISTRNQIIW-AHVVIACQFYSPHQMLLIELAMDKYCADMNVRRSTEGHQPMHACRSTFGPGMAAKEPLVTFTLVAFWQWPNHEFQYVYMYTED-KIIQIG-PHLSN-GCEMVEYCVDC-YAK-RPCYRAYSAEAQYWRMITEAEDYSYKTRNAIAATATVRGQ-YCHPFRWLGIVWM-AHHDC-FFANECGTICI-PQMAEMRPPETTPYEI--DIIFMMF-WKE--HMSTTIL-DVVGMYRP-ATFSHWHDAHH-QCEPYLTPL-MCQSKLVFDAAFT--QVG-VKGVW-YHTEKLELMAGFNHM-K-FKKEEAQ---QSCFYWFQDCPDYDPPDAVRKTDEKHIRAHGEIWWLMRYYCMYHILHI-ASRHEWMHLRWDQACTNPGY--ELFE-F\""
   ]
  },
  {
   "cell_type": "code",
   "execution_count": 120,
   "metadata": {},
   "outputs": [
    {
     "data": {
      "text/plain": [
       "1062"
      ]
     },
     "execution_count": 120,
     "metadata": {},
     "output_type": "execute_result"
    }
   ],
   "source": [
    "score"
   ]
  },
  {
   "cell_type": "code",
   "execution_count": null,
   "metadata": {},
   "outputs": [],
   "source": []
  }
 ],
 "metadata": {
  "kernelspec": {
   "display_name": "Python 3",
   "language": "python",
   "name": "python3"
  },
  "language_info": {
   "codemirror_mode": {
    "name": "ipython",
    "version": 3
   },
   "file_extension": ".py",
   "mimetype": "text/x-python",
   "name": "python",
   "nbconvert_exporter": "python",
   "pygments_lexer": "ipython3",
   "version": "3.6.9"
  }
 },
 "nbformat": 4,
 "nbformat_minor": 4
}
