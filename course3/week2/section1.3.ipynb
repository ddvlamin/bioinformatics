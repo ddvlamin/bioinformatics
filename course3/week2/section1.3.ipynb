{
 "cells": [
  {
   "cell_type": "code",
   "execution_count": 15,
   "metadata": {},
   "outputs": [],
   "source": [
    "import functools\n",
    "from collections import defaultdict\n",
    "import itertools\n",
    "scoring_matrix = defaultdict(dict)\n",
    "for v1, v2 in itertools.product(\"ABCDEFGHIJKLMNOPQRSTUVWXYZ\", repeat=2):\n",
    "    scoring_matrix[v1][v2] = -1 if v1!=v2 else 0"
   ]
  },
  {
   "cell_type": "code",
   "execution_count": 16,
   "metadata": {},
   "outputs": [],
   "source": [
    "def global_scoring_grid(v, w, scoring_matrix, sigma=5):    \n",
    "    n = len(v)\n",
    "    m = len(w)\n",
    "    \n",
    "    backtrack = []\n",
    "    for i in range(n+1):\n",
    "        backtrack.append([(0,0,\"\",\"\")]*(m+1))   \n",
    "        \n",
    "    for i in range(1,n+1):\n",
    "        backtrack[i][0] = (i-1,0,v[i-1],\"-\")\n",
    "    \n",
    "    for j in range(1,m+1):\n",
    "        backtrack[0][j] = (0,j-1,\"-\",w[j-1])\n",
    "    \n",
    "    grid = []\n",
    "    for i in range(n+1):\n",
    "        grid.append([0]*(m+1))\n",
    "        \n",
    "    for i in range(n+1):\n",
    "        grid[i][0] = -i*sigma\n",
    "    for j in range(m+1):\n",
    "        grid[0][j] = -j*sigma\n",
    "        \n",
    "    for i in range(1,n+1):\n",
    "        for j in range(1,m+1):\n",
    "            match = scoring_matrix[v[i-1]][w[j-1]]\n",
    "            grid[i][j] = max(\n",
    "                grid[i-1][j] - sigma,\n",
    "                grid[i][j-1] - sigma,\n",
    "                grid[i-1][j-1] + match \n",
    "            )\n",
    "            if grid[i][j] == grid[i-1][j] - sigma:\n",
    "                backtrack[i][j] = (i-1,j,v[i-1],\"-\")\n",
    "            elif grid[i][j] == grid[i][j-1] - sigma:\n",
    "                backtrack[i][j] = (i,j-1,\"-\",w[j-1])\n",
    "            elif grid[i][j] == grid[i-1][j-1] + match:\n",
    "                backtrack[i][j] = (i-1,j-1,v[i-1],w[j-1])\n",
    "                \n",
    "    return grid, backtrack"
   ]
  },
  {
   "cell_type": "code",
   "execution_count": 17,
   "metadata": {},
   "outputs": [],
   "source": [
    "def traceback_path(backtrack, v, w, i, j):\n",
    "    if j == 0 and i==0:\n",
    "        return (\"\",\"\")\n",
    "    vv, ww = traceback_path(backtrack, v, w, backtrack[i][j][0], backtrack[i][j][1]) \n",
    "    vv += backtrack[i][j][2]\n",
    "    ww += backtrack[i][j][3]\n",
    "    return vv, ww"
   ]
  },
  {
   "cell_type": "code",
   "execution_count": 18,
   "metadata": {},
   "outputs": [],
   "source": [
    "def align(v, w, score_function):\n",
    "    grid, backtrack =  score_function(v, w)\n",
    "    score = grid[len(grid)-1][len(grid[0])-1]\n",
    "    aligned_v, aligned_w = traceback_path(backtrack, v, w, len(v), len(w))\n",
    "    return score, aligned_v, aligned_w"
   ]
  },
  {
   "cell_type": "code",
   "execution_count": 19,
   "metadata": {},
   "outputs": [],
   "source": [
    "v = \"PLEASANTLY\"\n",
    "w = \"MEANLY\""
   ]
  },
  {
   "cell_type": "code",
   "execution_count": 20,
   "metadata": {},
   "outputs": [
    {
     "name": "stdout",
     "output_type": "stream",
     "text": [
      "5 PLEASANTLY M-EA--N-LY\n"
     ]
    }
   ],
   "source": [
    "s, vv, ww = align(v, w, functools.partial(global_scoring_grid, scoring_matrix=scoring_matrix, sigma=1))\n",
    "print(-s, vv, ww)"
   ]
  },
  {
   "cell_type": "code",
   "execution_count": 12,
   "metadata": {},
   "outputs": [],
   "source": [
    "with open(\"../data/dataset_248_3.txt\",\"r\") as fin:\n",
    "    lines = fin.read().strip().split(\"\\n\")\n",
    "    v = lines[0].strip()\n",
    "    w = lines[1].strip()"
   ]
  },
  {
   "cell_type": "code",
   "execution_count": 13,
   "metadata": {},
   "outputs": [
    {
     "name": "stdout",
     "output_type": "stream",
     "text": [
      "402\n"
     ]
    }
   ],
   "source": [
    "s, vv, ww = align(v, w, functools.partial(global_scoring_grid, scoring_matrix=scoring_matrix, sigma=1))\n",
    "print(-s)"
   ]
  },
  {
   "cell_type": "code",
   "execution_count": 39,
   "metadata": {},
   "outputs": [],
   "source": [
    "def fitting_scoring_grid(v, w, scoring_matrix, sigma=5):    \n",
    "    n = len(v)\n",
    "    m = len(w)\n",
    "    \n",
    "    backtrack = []\n",
    "    for i in range(n+1):\n",
    "        backtrack.append([(0,0,\"\",\"\")]*(m+1))   \n",
    "        \n",
    "    for i in range(1,n+1):\n",
    "        backtrack[i][0] = (0,0,\"\",\"\")\n",
    "    \n",
    "    for j in range(1,m+1):\n",
    "        backtrack[0][j] = (0,j-1,\"-\",w[j-1])\n",
    "    \n",
    "    grid = []\n",
    "    for i in range(n+1):\n",
    "        grid.append([0]*(m+1))\n",
    "        \n",
    "    for i in range(n+1):\n",
    "        grid[i][0] = 0\n",
    "    for j in range(m+1):\n",
    "        grid[0][j] = -j*sigma\n",
    "        \n",
    "    max_score = -1\n",
    "    max_i = 0\n",
    "    for i in range(1,n+1):\n",
    "        for j in range(1,m+1):\n",
    "            match = scoring_matrix[v[i-1]][w[j-1]]\n",
    "            grid[i][j] = max(\n",
    "                grid[i-1][j] - sigma,\n",
    "                grid[i][j-1] - sigma,\n",
    "                grid[i-1][j-1] + match \n",
    "            )\n",
    "            if j==m and grid[i][j] > max_score:\n",
    "                max_score = grid[i][m]\n",
    "                max_i = i\n",
    "            if grid[i][j] == grid[i-1][j] - sigma:\n",
    "                backtrack[i][j] = (i-1,j,v[i-1],\"-\")\n",
    "            elif grid[i][j] == grid[i][j-1] - sigma:\n",
    "                backtrack[i][j] = (i,j-1,\"-\",w[j-1])\n",
    "            elif grid[i][j] == grid[i-1][j-1] + match:\n",
    "                backtrack[i][j] = (i-1,j-1,v[i-1],w[j-1])\n",
    "                \n",
    "    if max_i != n:\n",
    "        backtrack[n][m] = (max_i, m, \"\", \"\")\n",
    "        grid[n][m] = max_score            \n",
    "                \n",
    "    return grid, backtrack"
   ]
  },
  {
   "cell_type": "code",
   "execution_count": 40,
   "metadata": {},
   "outputs": [],
   "source": [
    "v=\"GTAGGCTTAAGGTTA\"\n",
    "w=\"TAGATA\""
   ]
  },
  {
   "cell_type": "code",
   "execution_count": 51,
   "metadata": {},
   "outputs": [],
   "source": [
    "fitting_scoring_matrix = defaultdict(dict)\n",
    "for v1, v2 in itertools.product(\"ABCDEFGHIJKLMNOPQRSTUVWXYZ\", repeat=2):\n",
    "    fitting_scoring_matrix[v1][v2] = -1 if v1!=v2 else 1"
   ]
  },
  {
   "cell_type": "code",
   "execution_count": 42,
   "metadata": {},
   "outputs": [
    {
     "name": "stdout",
     "output_type": "stream",
     "text": [
      "2\n",
      "TAGGCTTA\n",
      "TAGA-T-A\n"
     ]
    }
   ],
   "source": [
    "s, vv, ww = align(v, w, functools.partial(fitting_scoring_grid, scoring_matrix=fitting_scoring_matrix, sigma=1))\n",
    "print(s)\n",
    "print(vv)\n",
    "print(ww)"
   ]
  },
  {
   "cell_type": "code",
   "execution_count": 45,
   "metadata": {},
   "outputs": [],
   "source": [
    "v=\"CAATCACCCCAATCCCTCAATCCTGGCCCCACGCATAGGCTAATGCCAATCGCGGCCAGGGTATAACCGCCATAACTGTGGGTCAGAAGGGATAAGTTCCACAATCCTATTTTCCTCGAGGCGCTTCGATGCGTTAACGCGTACACTCTGTCGGCCAACCGTGTGGGAGCCGAATTGGCTGGGCTGTTGAACATTCTATCAGTAGATAAACGAAGGTACATCCGAGGTTGTCGATCGACCGCGGGGTCGTAGCGCGTGCATGTTCCTTTCAGGCCCACATACTCCGGAACGGTTCATATCACGACTATTCTTGCACAATCGGACAACGGTGTACCATGGTGGACACCGTAGGAGACCAATACTGCGTAAATCATAAGCATTGGAGAGTGGACTGCTAGCGAGGCTCACCATGGAGTCTCGGTCGGCATCTCCTGACTGCTGTTCCATCGCGTTTTTCTTTTACTCACGCAATAAATCAATACCCCCTAACACAGGCCTGCTCCAGCCTTATTAAGGCCATAGTAGCTCTACATGTAGACCGAACGGAAGCACAGTTTGGTAGAAATTCTTAATCGACTATGGTCCGTGCAGGCCAAAAAAGGAATAATCTTCGAATTCTCACGCCTTCATTAGGGCGCACATGGTGGGGTAAATCACTGCACTCTGTTCGCAGTTAAGCGTTGCAATCAATATCGGCAGAACTCGGAGTCCGTATAAAGCCGCCTCAGCGTGCACACGCCCGTGCGGCACGTCATTAGACGAGGATTCCGGGGGACTGGCCTGTTCGTAATCCACTAAAACAATGGTCCTACCATCTAAAACGCACCGTGTTCCCCTCTACGGGAACCCCCTAGAT\"\n",
    "w=\"AGAGCGCAGAGAAGTCATTAGAACATGTAGCACATCGCTTATTAAGGGTCAATACCTAAAGGGCCTAACTATACGCCACACGGAACAGCTC\""
   ]
  },
  {
   "cell_type": "code",
   "execution_count": 46,
   "metadata": {},
   "outputs": [
    {
     "name": "stdout",
     "output_type": "stream",
     "text": [
      "22\n",
      "AGGGCGCACATG--GTGGGGTA-AATCAC-T-GCAC-TCTG-TTCGCAGTTAAGCGTTGCAATCAATATCGGC-AGAACTCGGAGTCCGTA--TAAAGCCGCCTCAGCGTGCACACGC-C\n",
      "AGAGCGCAGA-GAAGTCAT-TAGAA-CATGTAGCACATC-GCTT---A-TTAAG-G--G---TCAATA-C--CTA-AA---GG-G-CC-TAACTATA-C-GCCACA-CG-GAACA-GCTC\n"
     ]
    }
   ],
   "source": [
    "s, vv, ww = align(v, w, functools.partial(fitting_scoring_grid, scoring_matrix=fitting_scoring_matrix, sigma=1))\n",
    "print(s)\n",
    "print(vv)\n",
    "print(ww)"
   ]
  },
  {
   "cell_type": "code",
   "execution_count": 47,
   "metadata": {},
   "outputs": [],
   "source": [
    "with open(\"../data/dataset_248_5.txt\",\"r\") as fin:\n",
    "    lines = fin.read().strip().split(\"\\n\")\n",
    "    v = lines[0].strip()\n",
    "    w = lines[1].strip()"
   ]
  },
  {
   "cell_type": "code",
   "execution_count": 48,
   "metadata": {},
   "outputs": [
    {
     "name": "stdout",
     "output_type": "stream",
     "text": [
      "22\n",
      "C-AATTGC-CGTACGTGTAATCTACGTCAAGAGACT--GTT-CGCCCGCGTA-TGGGATAGCAAAGACATAAACATCGTA-TTAGACTAGGGTTATGCCCAC-TAC\n",
      "CCAAT--CACGCACAT-TCC-CTAAG--AAG-GACTAAGTAAC-CCCG-GAACTGTG-TAG----GAT-TAAATA-CGTACTTATTCTCG--T-ATGCTCAAGTAC\n"
     ]
    }
   ],
   "source": [
    "s, vv, ww = align(v, w, functools.partial(fitting_scoring_grid, scoring_matrix=fitting_scoring_matrix, sigma=1))\n",
    "print(s)\n",
    "print(vv)\n",
    "print(ww)"
   ]
  },
  {
   "cell_type": "code",
   "execution_count": 49,
   "metadata": {},
   "outputs": [],
   "source": [
    "#quiz"
   ]
  },
  {
   "cell_type": "code",
   "execution_count": 50,
   "metadata": {},
   "outputs": [],
   "source": [
    "w=\"GATACACT\"\n",
    "v=\"ACGACCACAGATACCGCTATTCACTATATCGTT\""
   ]
  },
  {
   "cell_type": "code",
   "execution_count": 52,
   "metadata": {},
   "outputs": [
    {
     "name": "stdout",
     "output_type": "stream",
     "text": [
      "5\n",
      "GATACCGCT\n",
      "GATACA-CT\n"
     ]
    }
   ],
   "source": [
    "s, vv, ww = align(v, w, functools.partial(fitting_scoring_grid, scoring_matrix=fitting_scoring_matrix, sigma=1))\n",
    "print(s)\n",
    "print(vv)\n",
    "print(ww)"
   ]
  },
  {
   "cell_type": "code",
   "execution_count": 83,
   "metadata": {},
   "outputs": [],
   "source": [
    "def overlap_scoring_grid(v, w, scoring_matrix, sigma=5):    \n",
    "    n = len(v)\n",
    "    m = len(w)\n",
    "    \n",
    "    backtrack = []\n",
    "    for i in range(n+1):\n",
    "        backtrack.append([(0,0,\"\",\"\")]*(m+1))   \n",
    "        \n",
    "    for i in range(1,n+1):\n",
    "        backtrack[i][0] = (0,0,\"\",\"\")\n",
    "    \n",
    "    for j in range(1,m+1):\n",
    "        backtrack[0][j] = (0,j-1,\"-\",w[j-1])\n",
    "    \n",
    "    grid = []\n",
    "    for i in range(n+1):\n",
    "        grid.append([0]*(m+1))\n",
    "        \n",
    "    for i in range(n+1):\n",
    "        grid[i][0] = 0\n",
    "    for j in range(m+1):\n",
    "        grid[0][j] = -j*sigma\n",
    "        \n",
    "    max_score = -1\n",
    "    max_j = 0\n",
    "    for i in range(1,n+1):\n",
    "        for j in range(1,m+1):\n",
    "            match = scoring_matrix[v[i-1]][w[j-1]]\n",
    "            grid[i][j] = max(\n",
    "                grid[i-1][j] - sigma,\n",
    "                grid[i][j-1] - sigma,\n",
    "                grid[i-1][j-1] + match \n",
    "            )\n",
    "            if i==n and grid[i][j] >= max_score:\n",
    "                max_score = grid[n][j]\n",
    "                max_j = j\n",
    "            if grid[i][j] == grid[i-1][j-1] + match:\n",
    "                backtrack[i][j] = (i-1,j-1,v[i-1],w[j-1])\n",
    "            elif grid[i][j] == grid[i-1][j] - sigma:\n",
    "                backtrack[i][j] = (i-1,j,v[i-1],\"-\")\n",
    "            elif grid[i][j] == grid[i][j-1] - sigma:\n",
    "                backtrack[i][j] = (i,j-1,\"-\",w[j-1])\n",
    "                \n",
    "    if max_j != m:\n",
    "        backtrack[n][m] = (n, max_j, \"\", \"\")\n",
    "        grid[n][m] = max_score            \n",
    "            \n",
    "    return grid, backtrack"
   ]
  },
  {
   "cell_type": "code",
   "execution_count": 84,
   "metadata": {},
   "outputs": [],
   "source": [
    "v=\"PAWHEAE\"\n",
    "w=\"HEAGAWGHEE\""
   ]
  },
  {
   "cell_type": "code",
   "execution_count": 85,
   "metadata": {},
   "outputs": [],
   "source": [
    "overlap_scoring_matrix = defaultdict(dict)\n",
    "for v1, v2 in itertools.product(\"ABCDEFGHIJKLMNOPQRSTUVWXYZ\", repeat=2):\n",
    "    overlap_scoring_matrix[v1][v2] = -2 if v1!=v2 else 1"
   ]
  },
  {
   "cell_type": "code",
   "execution_count": 86,
   "metadata": {},
   "outputs": [],
   "source": [
    "s, vv, ww = align(v, w, functools.partial(overlap_scoring_grid, scoring_matrix=overlap_scoring_matrix, sigma=2))"
   ]
  },
  {
   "cell_type": "code",
   "execution_count": 87,
   "metadata": {},
   "outputs": [
    {
     "name": "stdout",
     "output_type": "stream",
     "text": [
      "1\n",
      "HEAE\n",
      "HEAG\n"
     ]
    }
   ],
   "source": [
    "print(s)\n",
    "print(vv)\n",
    "print(ww)"
   ]
  },
  {
   "cell_type": "code",
   "execution_count": 88,
   "metadata": {},
   "outputs": [],
   "source": [
    "with open(\"../data/dataset_248_7.txt\",\"r\") as fin:\n",
    "    lines = fin.read().strip().split(\"\\n\")\n",
    "    v = lines[0].strip()\n",
    "    w = lines[1].strip()"
   ]
  },
  {
   "cell_type": "code",
   "execution_count": 89,
   "metadata": {},
   "outputs": [
    {
     "name": "stdout",
     "output_type": "stream",
     "text": [
      "43\n",
      "CGCTATGTACAGTTCATGCCCAAAAGGC-GTGGTGCAAGAACATGCAT-CGCGC-AAGCGCC--GTGCA-GGAAGATTCTGGCCCAGATGATGT-CCT-T--AACCGCACAAGATATTATTTACCGTA-CTAAGAACGGGCTGGTCAATGGAGGTACGACTGCCAACAAAGATCTTGTTGGTAATGCGACGGAGTTGAC-AAGCCATGCCGATGATGAATAACTTT-AAG-GACAATGGAGCATGTGTTTATCG-G-TC\n",
      "C-CAATGTTCCGTACATG--C-AAAGGCTGTGGTGCAAGTACAT-C-TCCTCGCAAAGCGCCATGTGGATTAAAG-TTCT-GCCCAGAT-A-GTAACTATACAATCG--CAAGGTGCCACTTACCGTACCTAAGCACGGGATGGT-TAGGGAGGTGCG-CTGCCCAC-AA-CTCCCG-TCGTAA-GTGTCGGAGTTGACTAAGCCATG-CAATGGTG-ATAACTTTGCAGTGTCAATGG-GCAT-T-TGTATCGCGTTC\n"
     ]
    }
   ],
   "source": [
    "s, vv, ww = align(v, w, functools.partial(overlap_scoring_grid, scoring_matrix=overlap_scoring_matrix, sigma=2))\n",
    "print(s)\n",
    "print(vv)\n",
    "print(ww)"
   ]
  },
  {
   "cell_type": "code",
   "execution_count": null,
   "metadata": {},
   "outputs": [],
   "source": []
  }
 ],
 "metadata": {
  "kernelspec": {
   "display_name": "Python 3",
   "language": "python",
   "name": "python3"
  },
  "language_info": {
   "codemirror_mode": {
    "name": "ipython",
    "version": 3
   },
   "file_extension": ".py",
   "mimetype": "text/x-python",
   "name": "python",
   "nbconvert_exporter": "python",
   "pygments_lexer": "ipython3",
   "version": "3.6.9"
  }
 },
 "nbformat": 4,
 "nbformat_minor": 4
}
