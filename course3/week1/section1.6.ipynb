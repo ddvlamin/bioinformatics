{
 "cells": [
  {
   "cell_type": "code",
   "execution_count": 16,
   "metadata": {},
   "outputs": [],
   "source": [
    "input = \"\"\"4 4\n",
    "1 0 2 4 3\n",
    "4 6 5 2 1\n",
    "4 4 5 2 1\n",
    "5 6 8 5 3\n",
    "-\n",
    "3 2 4 0\n",
    "3 2 4 2\n",
    "0 7 3 3\n",
    "3 3 0 2\n",
    "1 3 2 2\"\"\""
   ]
  },
  {
   "cell_type": "code",
   "execution_count": 22,
   "metadata": {},
   "outputs": [],
   "source": [
    "def process_input(input):\n",
    "    lines = input.split(\"\\n\")\n",
    "    n, m = lines[0].split(\" \")\n",
    "    n = int(n)\n",
    "    m = int(m)\n",
    "    down = []\n",
    "    right = []\n",
    "    for i in range(1,n+1):\n",
    "        down.append([int(l) for l in lines[i].split(\" \")])\n",
    "    for i in range(n+2,2*n+3):\n",
    "        right.append([int(l) for l in lines[i].split(\" \")])\n",
    "    return n, m, down, right"
   ]
  },
  {
   "cell_type": "code",
   "execution_count": 23,
   "metadata": {},
   "outputs": [],
   "source": [
    "n, m, down, right = process_input(input)"
   ]
  },
  {
   "cell_type": "code",
   "execution_count": 24,
   "metadata": {},
   "outputs": [
    {
     "name": "stdout",
     "output_type": "stream",
     "text": [
      "4 4 [[1, 0, 2, 4, 3], [4, 6, 5, 2, 1], [4, 4, 5, 2, 1], [5, 6, 8, 5, 3]] [[3, 2, 4, 0], [3, 2, 4, 2], [0, 7, 3, 3], [3, 3, 0, 2], [1, 3, 2, 2]]\n"
     ]
    }
   ],
   "source": [
    "print(n, m , down, right)"
   ]
  },
  {
   "cell_type": "code",
   "execution_count": 11,
   "metadata": {},
   "outputs": [],
   "source": [
    "def manhattan_tourist(n, m, down, right):\n",
    "    grid = []\n",
    "    for i in range(n+1):\n",
    "        grid.append([0]*(m+1))\n",
    "    for i in range(1,n+1):\n",
    "        grid[i][0] = grid[i-1][0] + down[i-1][0]\n",
    "    for j in range(1,m+1):\n",
    "        grid[0][j] = grid[0][j-1] + down[0][j-1]\n",
    "    for i in range(1,n+1):\n",
    "        for j in range(1,m+1):\n",
    "            grid[i][j] = max(\n",
    "                grid[i-1][j] + down[i-1][j],\n",
    "                grid[i][j-1] + right[i][j-1]\n",
    "            )\n",
    "    return grid[n][m]"
   ]
  },
  {
   "cell_type": "code",
   "execution_count": 12,
   "metadata": {},
   "outputs": [
    {
     "data": {
      "text/plain": [
       "34"
      ]
     },
     "execution_count": 12,
     "metadata": {},
     "output_type": "execute_result"
    }
   ],
   "source": [
    "manhattan_tourist(n, m, down, right)"
   ]
  },
  {
   "cell_type": "code",
   "execution_count": 13,
   "metadata": {},
   "outputs": [],
   "source": [
    "with open(\"../data/dataset_261_10.txt\",\"r\") as fin:\n",
    "    n, m, down, right = process_input(fin.read())\n",
    "    "
   ]
  },
  {
   "cell_type": "code",
   "execution_count": 15,
   "metadata": {},
   "outputs": [
    {
     "data": {
      "text/plain": [
       "116"
      ]
     },
     "execution_count": 15,
     "metadata": {},
     "output_type": "execute_result"
    }
   ],
   "source": [
    "manhattan_tourist(n, m, down, right)"
   ]
  },
  {
   "cell_type": "code",
   "execution_count": null,
   "metadata": {},
   "outputs": [],
   "source": []
  }
 ],
 "metadata": {
  "kernelspec": {
   "display_name": "Python 3",
   "language": "python",
   "name": "python3"
  },
  "language_info": {
   "codemirror_mode": {
    "name": "ipython",
    "version": 3
   },
   "file_extension": ".py",
   "mimetype": "text/x-python",
   "name": "python",
   "nbconvert_exporter": "python",
   "pygments_lexer": "ipython3",
   "version": "3.6.9"
  }
 },
 "nbformat": 4,
 "nbformat_minor": 4
}
