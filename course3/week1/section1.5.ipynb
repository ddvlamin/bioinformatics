{
 "cells": [
  {
   "cell_type": "code",
   "execution_count": 46,
   "metadata": {},
   "outputs": [],
   "source": [
    "def min_coins(money, coins):\n",
    "    if money == 0:\n",
    "        return 0\n",
    "    elif money in coins:\n",
    "        return 1\n",
    "    \n",
    "    number_of_coins = []\n",
    "    for coin in coins:\n",
    "        remainder = money-coin\n",
    "        if remainder<0:\n",
    "            continue\n",
    "        if remainder in cache:\n",
    "            n = cache[remainder]+1\n",
    "            number_of_coins.append(n)\n",
    "        else:\n",
    "            n = min_coins(remainder, coins) + 1\n",
    "            number_of_coins.append(n)\n",
    "        #print(money, coin, remainder, n)\n",
    "    \n",
    "    cache[money] = min(number_of_coins)\n",
    "    return cache[money]"
   ]
  },
  {
   "cell_type": "code",
   "execution_count": 47,
   "metadata": {},
   "outputs": [],
   "source": []
  },
  {
   "cell_type": "code",
   "execution_count": 49,
   "metadata": {},
   "outputs": [
    {
     "data": {
      "text/plain": [
       "2"
      ]
     },
     "execution_count": 49,
     "metadata": {},
     "output_type": "execute_result"
    }
   ],
   "source": [
    "money = 40\n",
    "coins = [50,25,20,10,5,1]\n",
    "cache = {0: 0}\n",
    "min_coins(money, coins)"
   ]
  },
  {
   "cell_type": "code",
   "execution_count": 50,
   "metadata": {},
   "outputs": [],
   "source": [
    "with open(\"../data/dataset_243_10.txt\") as fin:\n",
    "    money, coins, _ = fin.read().split(\"\\n\")\n",
    "    money = int(money)\n",
    "    coins = [int(i) for i in coins.split(\",\")]"
   ]
  },
  {
   "cell_type": "code",
   "execution_count": 51,
   "metadata": {},
   "outputs": [
    {
     "data": {
      "text/plain": [
       "866"
      ]
     },
     "execution_count": 51,
     "metadata": {},
     "output_type": "execute_result"
    }
   ],
   "source": [
    "cache = {0: 0}\n",
    "min_coins(money, coins)"
   ]
  },
  {
   "cell_type": "code",
   "execution_count": 52,
   "metadata": {},
   "outputs": [
    {
     "data": {
      "text/plain": [
       "19899"
      ]
     },
     "execution_count": 52,
     "metadata": {},
     "output_type": "execute_result"
    }
   ],
   "source": [
    "len(cache)"
   ]
  },
  {
   "cell_type": "code",
   "execution_count": null,
   "metadata": {},
   "outputs": [],
   "source": []
  }
 ],
 "metadata": {
  "kernelspec": {
   "display_name": "Python 3",
   "language": "python",
   "name": "python3"
  },
  "language_info": {
   "codemirror_mode": {
    "name": "ipython",
    "version": 3
   },
   "file_extension": ".py",
   "mimetype": "text/x-python",
   "name": "python",
   "nbconvert_exporter": "python",
   "pygments_lexer": "ipython3",
   "version": "3.6.9"
  }
 },
 "nbformat": 4,
 "nbformat_minor": 4
}
