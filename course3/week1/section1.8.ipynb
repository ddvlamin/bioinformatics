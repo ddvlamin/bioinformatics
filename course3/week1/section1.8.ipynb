{
 "cells": [
  {
   "cell_type": "code",
   "execution_count": 39,
   "metadata": {},
   "outputs": [],
   "source": [
    "from collections import defaultdict\n",
    "import sys"
   ]
  },
  {
   "cell_type": "code",
   "execution_count": 40,
   "metadata": {},
   "outputs": [],
   "source": [
    "DOWN = 1\n",
    "RIGHT = 2\n",
    "DIAG = 3"
   ]
  },
  {
   "cell_type": "code",
   "execution_count": 50,
   "metadata": {},
   "outputs": [],
   "source": [
    "def lcs_backtrack(v, w):    \n",
    "    n = len(v)\n",
    "    m = len(w)\n",
    "    \n",
    "    backtrack = []\n",
    "    for i in range(n):\n",
    "        backtrack.append([0]*m)    \n",
    "    \n",
    "    grid = []\n",
    "    for i in range(n+1):\n",
    "        grid.append([0]*(m+1))\n",
    "        \n",
    "    for i in range(1,n+1):\n",
    "        for j in range(1,m+1):\n",
    "            match = 0\n",
    "            if v[i-1] == w[j-1]:\n",
    "                match = 1\n",
    "            grid[i][j] = max(\n",
    "                grid[i-1][j],\n",
    "                grid[i][j-1],\n",
    "                grid[i-1][j-1] + match\n",
    "            )\n",
    "            if grid[i][j] == grid[i-1][j]:\n",
    "                backtrack[i-1][j-1] = DOWN\n",
    "            elif grid[i][j] == grid[i][j-1]:\n",
    "                backtrack[i-1][j-1] = RIGHT\n",
    "            elif grid[i][j] == grid[i-1][j-1] + match:\n",
    "                backtrack[i-1][j-1] = DIAG\n",
    "                \n",
    "    return grid, backtrack"
   ]
  },
  {
   "cell_type": "code",
   "execution_count": 51,
   "metadata": {},
   "outputs": [],
   "source": [
    "v=\"AACCTTGG\"\n",
    "w=\"ACACTGTGA\""
   ]
  },
  {
   "cell_type": "code",
   "execution_count": 52,
   "metadata": {},
   "outputs": [
    {
     "data": {
      "text/plain": [
       "[[3, 2, 2, 2, 2, 2, 2, 2, 2],\n",
       " [1, 1, 3, 2, 2, 2, 2, 2, 2],\n",
       " [1, 3, 1, 3, 2, 2, 2, 2, 2],\n",
       " [1, 1, 1, 1, 1, 1, 1, 1, 1],\n",
       " [1, 1, 1, 1, 3, 2, 2, 2, 2],\n",
       " [1, 1, 1, 1, 1, 1, 3, 2, 2],\n",
       " [1, 1, 1, 1, 1, 3, 1, 3, 2],\n",
       " [1, 1, 1, 1, 1, 1, 1, 1, 1]]"
      ]
     },
     "execution_count": 52,
     "metadata": {},
     "output_type": "execute_result"
    }
   ],
   "source": [
    "grid, backtrack = lcs_backtrack(v, w)\n",
    "backtrack"
   ]
  },
  {
   "cell_type": "code",
   "execution_count": 62,
   "metadata": {},
   "outputs": [],
   "source": [
    "def output_lcs(backtrack, v, i, j):\n",
    "    if i == 0 or j == 0:\n",
    "        return \"\"\n",
    "    if backtrack[i-1][j-1] == DOWN:\n",
    "        return output_lcs(backtrack, v, i-1, j)\n",
    "    elif backtrack[i-1][j-1] == RIGHT:\n",
    "        return output_lcs(backtrack, v, i, j-1)\n",
    "    else:\n",
    "        return output_lcs(backtrack, v, i-1, j-1) + v[i-1]"
   ]
  },
  {
   "cell_type": "code",
   "execution_count": 63,
   "metadata": {},
   "outputs": [
    {
     "data": {
      "text/plain": [
       "'ACTTAATCCAGTACCGCTATGCAGGCGGCAGATATCCAACGCAGTAAACCCTAGGTTCGCTTTTCCACTTACAACGCTTCCGCGTGAATTCCAAGCTCAAACCAGACTGCTACGCAGCTCGTCAGATGCTCGGCGACACAGGGATTATGAAATAGTAGAGGGTAAATTCGTCCATGAACCGTCTTCGTGTATCCCACTACTTATCCCTGACGGAACTCTGAGATGTTGGGCACGCTTTCAGCCGTATATACAGCTTTCCAGCCATTTCCGTCGCCAGAAGAGTCCACCGTATAACAAGGCGACCTATCGAACTCGAGGAGTACGAACGCCGCGATCACGAAATATTGTAAAGTGACGGTTTGGGAGGTGGGAACATACGAATGAGATTCATGGCTTCCATAGAAGCTGTGACACAACAATTTCGCAAACGGATCGGACAACAAACCTCCCCCGTACTGTGTTCCCAATACACAGCTCTGTCAGGTCAATTATTAACTCCAGTATTAGTTTCCCCATCTAGCATCGGTAAAGCACATGTTTTGAACTCGCCAACGCAGGTACAGCCACGTAATTATATTACGTGCAGTGATCCTAAGCGAGGGCTTTACTTTCTTT'"
      ]
     },
     "execution_count": 63,
     "metadata": {},
     "output_type": "execute_result"
    }
   ],
   "source": [
    "output_lcs(backtrack, v, len(v), len(w))"
   ]
  },
  {
   "cell_type": "code",
   "execution_count": 64,
   "metadata": {},
   "outputs": [
    {
     "name": "stdout",
     "output_type": "stream",
     "text": [
      "ACTTAATCCAGTACCGCTATGCAGGCGGCAGATATCCAACGCAGTAAACCCTAGGTTCGCTTTTCCACTTACAACGCTTCCGCGTGAATTCCAAGCTCAAACCAGACTGCTACGCAGCTCGTCAGATGCTCGGCGACACAGGGATTATGAAATAGTAGAGGGTAAATTCGTCCATGAACCGTCTTCGTGTATCCCACTACTTATCCCTGACGGAACTCTGAGATGTTGGGCACGCTTTCAGCCGTATATACAGCTTTCCAGCCATTTCCGTCGCCAGAAGAGTCCACCGTATAACAAGGCGACCTATCGAACTCGAGGAGTACGAACGCCGCGATCACGAAATATTGTAAAGTGACGGTTTGGGAGGTGGGAACATACGAATGAGATTCATGGCTTCCATAGAAGCTGTGACACAACAATTTCGCAAACGGATCGGACAACAAACCTCCCCCGTACTGTGTTCCCAATACACAGCTCTGTCAGGTCAATTATTAACTCCAGTATTAGTTTCCCCATCTAGCATCGGTAAAGCACATGTTTTGAACTCGCCAACGCAGGTACAGCCACGTAATTATATTACGTGCAGTGATCCTAAGCGAGGGCTTTACTTTCTTT\n"
     ]
    }
   ],
   "source": [
    "with open(\"../data/dataset_245_5.txt\", \"r\") as fin:\n",
    "    v, w = fin.read().strip().split(\"\\n\")\n",
    "    grid, backtrack = lcs_backtrack(v, w)\n",
    "    print(output_lcs(backtrack, v, len(v), len(w)))"
   ]
  },
  {
   "cell_type": "code",
   "execution_count": 12,
   "metadata": {},
   "outputs": [],
   "source": [
    "input = \"\"\"0\n",
    "4\n",
    "0->1:7\n",
    "0->2:4\n",
    "2->3:2\n",
    "1->4:1\n",
    "3->4:3\n",
    "\"\"\""
   ]
  },
  {
   "cell_type": "code",
   "execution_count": 82,
   "metadata": {},
   "outputs": [],
   "source": [
    "def process_input(input):\n",
    "    lines = input.split(\"\\n\")[:-1]\n",
    "    src = int(lines[0])\n",
    "    snk = int(lines[1])\n",
    "    weights = dict()\n",
    "    predecessors = defaultdict(list)\n",
    "    for line in lines[2:]:\n",
    "        src_node, dst = line.split(\"->\")\n",
    "        dst_node, weight = dst.split(\":\")\n",
    "        src_node = int(src_node)\n",
    "        dst_node = int(dst_node)\n",
    "        weight = int(weight)\n",
    "        weights[(src_node, dst_node)] = weight\n",
    "        predecessors[dst_node].append(src_node)\n",
    "    return src, snk, weights, predecessors"
   ]
  },
  {
   "cell_type": "code",
   "execution_count": 14,
   "metadata": {},
   "outputs": [],
   "source": [
    "src, snk, weights, predecessors = process_input(input)"
   ]
  },
  {
   "cell_type": "code",
   "execution_count": 15,
   "metadata": {},
   "outputs": [
    {
     "name": "stdout",
     "output_type": "stream",
     "text": [
      "{(0, 1): 7, (0, 2): 4, (2, 3): 2, (1, 4): 1, (3, 4): 3} defaultdict(<class 'list'>, {1: [0], 2: [0], 3: [2], 4: [1, 3]})\n"
     ]
    }
   ],
   "source": [
    "print(weights, predecessors)"
   ]
  },
  {
   "cell_type": "code",
   "execution_count": 73,
   "metadata": {},
   "outputs": [],
   "source": [
    "def longest_path(src, snk, weights, predecessors):\n",
    "    backtrack = defaultdict(list)\n",
    "    scores = [-sys.maxsize]*(snk-src+1)\n",
    "    scores[src] = 0\n",
    "    for node in range(src+1, snk+1):\n",
    "        node_scores = []\n",
    "        node_predecessors = predecessors.get(node,[])\n",
    "        if node_predecessors == []:\n",
    "            continue\n",
    "        for predecessor in node_predecessors:\n",
    "            score = scores[predecessor] + weights.get((predecessor, node))\n",
    "            node_scores.append(score)\n",
    "        scores[node] = max(node_scores)\n",
    "        index = node_scores.index(scores[node])\n",
    "        backtrack[node].append(node_predecessors[index])\n",
    "    return scores[snk], backtrack"
   ]
  },
  {
   "cell_type": "code",
   "execution_count": 74,
   "metadata": {},
   "outputs": [],
   "source": [
    "pathlength, backtrack = longest_path(*process_input(input))"
   ]
  },
  {
   "cell_type": "code",
   "execution_count": 75,
   "metadata": {},
   "outputs": [],
   "source": [
    "def traceback_path(backtrack, src, snk):\n",
    "    path = []\n",
    "    node = snk\n",
    "    while node in backtrack:\n",
    "        path.append(node)\n",
    "        node = backtrack[node][0]\n",
    "    path.append(node)\n",
    "    return path"
   ]
  },
  {
   "cell_type": "code",
   "execution_count": 19,
   "metadata": {},
   "outputs": [],
   "source": [
    "path = traceback_path(backtrack, 0, 4)"
   ]
  },
  {
   "cell_type": "code",
   "execution_count": 79,
   "metadata": {},
   "outputs": [],
   "source": [
    "def print_result(pathlength, path):\n",
    "    print(pathlength)\n",
    "    print(\"->\".join([str(i) for i in path[::-1]]))"
   ]
  },
  {
   "cell_type": "code",
   "execution_count": 21,
   "metadata": {},
   "outputs": [
    {
     "name": "stdout",
     "output_type": "stream",
     "text": [
      "9\n",
      "0->2->3->4\n"
     ]
    }
   ],
   "source": [
    "print_result(pathlength, path)"
   ]
  },
  {
   "cell_type": "code",
   "execution_count": 23,
   "metadata": {},
   "outputs": [
    {
     "name": "stdout",
     "output_type": "stream",
     "text": [
      "174\n",
      "0->1->2->3->8->9->10->16->18->26->38->40->44->49\n"
     ]
    }
   ],
   "source": [
    "with open(\"../data/dataset_245_7.txt\",\"r\") as fin:\n",
    "    input = fin.read()\n",
    "    src, snk, weights, predecessors = process_input(input)\n",
    "    pathlength, backtrack = longest_path(src, snk, weights, predecessors)\n",
    "    path = traceback_path(backtrack, src, snk)\n",
    "    print_result(pathlength, path)"
   ]
  },
  {
   "cell_type": "code",
   "execution_count": 65,
   "metadata": {},
   "outputs": [],
   "source": [
    "#quize"
   ]
  },
  {
   "cell_type": "code",
   "execution_count": 66,
   "metadata": {},
   "outputs": [
    {
     "data": {
      "text/plain": [
       "'GACG'"
      ]
     },
     "execution_count": 66,
     "metadata": {},
     "output_type": "execute_result"
    }
   ],
   "source": [
    "v=\"AGACTG\"\n",
    "w=\"GTACGA\"\n",
    "grid, backtrack = lcs_backtrack(v, w)\n",
    "output_lcs(backtrack, v, len(v), len(w))"
   ]
  },
  {
   "cell_type": "code",
   "execution_count": 88,
   "metadata": {},
   "outputs": [],
   "source": [
    "input=\"\"\"0\n",
    "6\n",
    "0->1:5\n",
    "0->2:6\n",
    "0->3:5\n",
    "1->2:2\n",
    "1->5:4\n",
    "2->4:4\n",
    "2->5:3\n",
    "2->6:5\n",
    "3->4:7\n",
    "3->5:5\n",
    "4->6:2\n",
    "5->6:1\n",
    "\"\"\""
   ]
  },
  {
   "cell_type": "code",
   "execution_count": 89,
   "metadata": {},
   "outputs": [],
   "source": [
    "src, snk, weights, predecessors = process_input(input)"
   ]
  },
  {
   "cell_type": "code",
   "execution_count": 90,
   "metadata": {},
   "outputs": [],
   "source": [
    "pathlength, backtrack = longest_path(src, snk, weights, predecessors)"
   ]
  },
  {
   "cell_type": "code",
   "execution_count": 91,
   "metadata": {},
   "outputs": [],
   "source": [
    "path = traceback_path(backtrack, src, snk)"
   ]
  },
  {
   "cell_type": "code",
   "execution_count": 92,
   "metadata": {},
   "outputs": [
    {
     "name": "stdout",
     "output_type": "stream",
     "text": [
      "14\n",
      "0->3->4->6\n"
     ]
    }
   ],
   "source": [
    "print_result(pathlength, path)"
   ]
  },
  {
   "cell_type": "code",
   "execution_count": 81,
   "metadata": {},
   "outputs": [
    {
     "data": {
      "text/plain": [
       "[7]"
      ]
     },
     "execution_count": 81,
     "metadata": {},
     "output_type": "execute_result"
    }
   ],
   "source": [
    "path"
   ]
  },
  {
   "cell_type": "code",
   "execution_count": null,
   "metadata": {},
   "outputs": [],
   "source": []
  }
 ],
 "metadata": {
  "kernelspec": {
   "display_name": "Python 3",
   "language": "python",
   "name": "python3"
  },
  "language_info": {
   "codemirror_mode": {
    "name": "ipython",
    "version": 3
   },
   "file_extension": ".py",
   "mimetype": "text/x-python",
   "name": "python",
   "nbconvert_exporter": "python",
   "pygments_lexer": "ipython3",
   "version": "3.6.9"
  }
 },
 "nbformat": 4,
 "nbformat_minor": 4
}
