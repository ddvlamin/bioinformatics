{
 "cells": [
  {
   "cell_type": "code",
   "execution_count": 98,
   "metadata": {},
   "outputs": [],
   "source": [
    "from collections import defaultdict\n",
    "import numpy as np\n",
    "import sys"
   ]
  },
  {
   "cell_type": "code",
   "execution_count": 141,
   "metadata": {},
   "outputs": [],
   "source": [
    "input_lines = [\n",
    "\"xyxzzxyxyy\",\n",
    "\"--------\",\n",
    "\"x y z\",\n",
    "\"--------\",\n",
    "\"A B\",\n",
    "\"--------\",\n",
    "\"\tA\tB\",\n",
    "\"A\t0.641\t0.359\",\n",
    "\"B\t0.729\t0.271\",\n",
    "\"--------\",\n",
    "\"\tx\ty\tz\",\n",
    "\"A\t0.117\t0.691\t0.192\t\",\n",
    "\"B\t0.097\t0.42\t0.483\",\n",
    "]"
   ]
  },
  {
   "cell_type": "code",
   "execution_count": 142,
   "metadata": {},
   "outputs": [],
   "source": [
    "def parse_input(lines):\n",
    "    symbols = lines[2].strip().split(\" \")\n",
    "    states = lines[4].strip().split(\" \")\n",
    "    \n",
    "    state_transitions = defaultdict(dict)\n",
    "    for line in lines[7:7+len(states)]:\n",
    "        from_state = line.strip().split(\"\\t\")[0]\n",
    "        probs = [float(f) for f in line.strip().split(\"\\t\")[1:] ]\n",
    "        for state, prob in zip(states, probs):\n",
    "            state_transitions[from_state][state] = prob\n",
    "    \n",
    "    emission_matrix = defaultdict(dict)\n",
    "    for line in lines[9+len(states):]:\n",
    "        from_state = line.strip().split(\"\\t\")[0]\n",
    "        probs = [float(f) for f in line.strip().split(\"\\t\")[1:] ]\n",
    "        for symbol, prob in zip(symbols, probs):\n",
    "            emission_matrix[from_state][symbol] = prob\n",
    "    return lines[0], symbols, states, dict(state_transitions), dict(emission_matrix)"
   ]
  },
  {
   "cell_type": "code",
   "execution_count": 143,
   "metadata": {},
   "outputs": [],
   "source": [
    "sequence, symbols, states, state_transitions, emission_matrix = parse_input(input_lines)"
   ]
  },
  {
   "cell_type": "code",
   "execution_count": 144,
   "metadata": {},
   "outputs": [],
   "source": [
    "def viterbi(sequence, state_transitions, emission_matrix, state_probabilities, backtrack):\n",
    "    #print(state_probabilities)\n",
    "    #sorted_states = sorted(state_probabilities.items(), key=lambda tpl: tpl[1], reverse=True)\n",
    "    #yield sorted_states[0][0]\n",
    "    \n",
    "    if len(sequence) > 0:\n",
    "        symbol = sequence[0]\n",
    "        new_state_probabilities = dict()\n",
    "        backtrack.append({})\n",
    "        for to_state in state_transitions:\n",
    "            max_prob = -sys.float_info.max\n",
    "            max_state = None\n",
    "            for from_state, prob in state_probabilities.items():\n",
    "                p = prob + np.log(state_transitions[from_state][to_state] *  emission_matrix[to_state][symbol])\n",
    "                if p > max_prob:\n",
    "                    max_prob = p\n",
    "                    max_state = from_state\n",
    "            new_state_probabilities[to_state] = max_prob\n",
    "            backtrack[-1][to_state] = max_state\n",
    "        return viterbi(sequence[1:], state_transitions, emission_matrix, new_state_probabilities, backtrack)\n",
    "    else:\n",
    "        sorted_states = sorted(state_probabilities.items(), key=lambda tpl: tpl[1], reverse=True)\n",
    "        return sorted_states[0][0]\n",
    "    \n",
    "def backtrack_path(backtrack, start_state):\n",
    "    states = [start_state]\n",
    "    next_state = backtrack[-1][start_state]\n",
    "    for s in backtrack[-2::-1]:\n",
    "        states.append(next_state)\n",
    "        next_state = s[next_state]\n",
    "    states.append(next_state)\n",
    "    return \"\".join(states[::-1])"
   ]
  },
  {
   "cell_type": "code",
   "execution_count": 145,
   "metadata": {},
   "outputs": [
    {
     "name": "stdout",
     "output_type": "stream",
     "text": [
      "AAABBAAAAA\n"
     ]
    }
   ],
   "source": [
    "init_prob = dict()\n",
    "for state in emission_matrix.keys():\n",
    "    init_prob[state] = np.log(emission_matrix[state][sequence[0]]/len(state_transitions))\n",
    "    \n",
    "backtrack = []\n",
    "final_state = viterbi(sequence[1:], state_transitions, emission_matrix, init_prob, backtrack)\n",
    "print(backtrack_path(backtrack, final_state))"
   ]
  },
  {
   "cell_type": "code",
   "execution_count": 149,
   "metadata": {},
   "outputs": [
    {
     "name": "stdout",
     "output_type": "stream",
     "text": [
      "BCADDDDADDBCCADADDADADABCADDABCABCADDDDADADABCADADDDDDADABCCCABCABCADDADDDDBCADDDABCABCABCABCABCCADD\n"
     ]
    }
   ],
   "source": [
    "with open(\"../data/dataset_26256_7.txt\", \"r\") as fin:\n",
    "    sequence, _, _, state_transitions, emission_matrix = parse_input([l.strip() for l in fin])\n",
    "    \n",
    "    init_prob = dict()\n",
    "    for state in emission_matrix.keys():\n",
    "        init_prob[state] = emission_matrix[state][sequence[0]]/len(state_transitions)\n",
    "    \n",
    "    backtrack = []\n",
    "    final_state = viterbi(sequence[1:], state_transitions, emission_matrix, init_prob, backtrack)\n",
    "    print(backtrack_path(backtrack, final_state))"
   ]
  },
  {
   "cell_type": "code",
   "execution_count": 147,
   "metadata": {},
   "outputs": [],
   "source": [
    "emission_matrix = {\n",
    "    \"F\": {\n",
    "        \"H\": 0.5,\n",
    "        \"T\": 0.5\n",
    "    },\n",
    "    \"B\": {\n",
    "        \"H\": 0.75,\n",
    "        \"T\": 0.25\n",
    "    }\n",
    "}\n",
    "\n",
    "state_transitions = {\n",
    "    \"F\": {\n",
    "        \"F\": 0.9,\n",
    "        \"B\": 0.1\n",
    "    },\n",
    "    \"B\": {\n",
    "        \"F\": 0.1,\n",
    "        \"B\": 0.9\n",
    "    },\n",
    "}\n",
    "\n"
   ]
  },
  {
   "cell_type": "code",
   "execution_count": 148,
   "metadata": {},
   "outputs": [
    {
     "name": "stdout",
     "output_type": "stream",
     "text": [
      "FFFF\n"
     ]
    }
   ],
   "source": [
    "sequence = \"HHTT\"\n",
    "\n",
    "init_prob = dict()\n",
    "for state in emission_matrix.keys():\n",
    "    init_prob[state] = emission_matrix[state][sequence[0]]/len(state_transitions)\n",
    "    \n",
    "backtrack = []\n",
    "final_state = viterbi(sequence[1:], state_transitions, emission_matrix, init_prob, backtrack)\n",
    "print(backtrack_path(backtrack, final_state))"
   ]
  },
  {
   "cell_type": "code",
   "execution_count": null,
   "metadata": {},
   "outputs": [],
   "source": []
  }
 ],
 "metadata": {
  "kernelspec": {
   "display_name": "Python 3",
   "language": "python",
   "name": "python3"
  },
  "language_info": {
   "codemirror_mode": {
    "name": "ipython",
    "version": 3
   },
   "file_extension": ".py",
   "mimetype": "text/x-python",
   "name": "python",
   "nbconvert_exporter": "python",
   "pygments_lexer": "ipython3",
   "version": "3.6.9"
  }
 },
 "nbformat": 4,
 "nbformat_minor": 4
}
