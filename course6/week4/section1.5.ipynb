{
 "cells": [
  {
   "cell_type": "code",
   "execution_count": 35,
   "metadata": {},
   "outputs": [],
   "source": [
    "from collections import defaultdict\n",
    "import sys"
   ]
  },
  {
   "cell_type": "code",
   "execution_count": 17,
   "metadata": {},
   "outputs": [],
   "source": [
    "def hidden_path_probability(state_sequence, state_transitions):\n",
    "    prob = 0.5\n",
    "    for from_state, to_state in zip(state_sequence[:-1], state_sequence[1:]):\n",
    "        prob *= state_transitions[from_state][to_state]\n",
    "    return prob"
   ]
  },
  {
   "cell_type": "code",
   "execution_count": 18,
   "metadata": {},
   "outputs": [],
   "source": [
    "input_lines = [\n",
    "\"ABABBBAAAA\",\n",
    "\"--------\",\n",
    "\"A B\",\n",
    "\"--------\",\n",
    "\"\tA\tB\",\n",
    "\"A\t0.377\t0.623\",\n",
    "\"B\t0.26\t0.74\"\n",
    "]\n",
    "\n",
    "def parse_input(lines):\n",
    "    states = lines[2].strip().split(\" \")\n",
    "    state_transitions = defaultdict(dict)\n",
    "    for line in lines[5:]:\n",
    "        from_state = line.strip().split(\"\\t\")[0]\n",
    "        probs = [float(f) for f in line.strip().split(\"\\t\")[1:] ]\n",
    "        for state, prob in zip(states, probs):\n",
    "            state_transitions[from_state][state] = prob\n",
    "    return lines[0], states, dict(state_transitions)"
   ]
  },
  {
   "cell_type": "code",
   "execution_count": 19,
   "metadata": {},
   "outputs": [],
   "source": [
    "state_sequence, states, state_transitions = parse_input(input_lines)"
   ]
  },
  {
   "cell_type": "code",
   "execution_count": 20,
   "metadata": {},
   "outputs": [
    {
     "data": {
      "text/plain": [
       "0.0003849286917546758"
      ]
     },
     "execution_count": 20,
     "metadata": {},
     "output_type": "execute_result"
    }
   ],
   "source": [
    "hidden_path_probability(state_sequence, state_transitions)"
   ]
  },
  {
   "cell_type": "code",
   "execution_count": 21,
   "metadata": {},
   "outputs": [
    {
     "name": "stdout",
     "output_type": "stream",
     "text": [
      "1.490480597894589e-16\n"
     ]
    }
   ],
   "source": [
    "with open(\"../data/dataset_26255_8.txt\", \"r\") as fin:\n",
    "    state_sequence, states, state_transitions = parse_input([l.strip() for l in fin])\n",
    "    print(hidden_path_probability(state_sequence, state_transitions))"
   ]
  },
  {
   "cell_type": "code",
   "execution_count": 31,
   "metadata": {},
   "outputs": [],
   "source": [
    "def conditional_path_probability(sequence, state_sequence, emission_matrix):\n",
    "    prob = 1.0\n",
    "    for symbol, state in zip(sequence, state_sequence):\n",
    "        prob *= emission_matrix[state][symbol]\n",
    "    return prob"
   ]
  },
  {
   "cell_type": "code",
   "execution_count": 28,
   "metadata": {},
   "outputs": [],
   "source": [
    "def parse_input(lines):\n",
    "    symbols = lines[2].strip().split(\" \")\n",
    "    states = lines[6].strip().split(\" \")\n",
    "    emission_matrix = defaultdict(dict)\n",
    "    for line in lines[9:]:\n",
    "        from_state = line.strip().split(\"\\t\")[0]\n",
    "        probs = [float(f) for f in line.strip().split(\"\\t\")[1:] ]\n",
    "        for symbol, prob in zip(symbols, probs):\n",
    "            emission_matrix[from_state][symbol] = prob\n",
    "    return lines[0], lines[4], symbols, states, dict(emission_matrix)"
   ]
  },
  {
   "cell_type": "code",
   "execution_count": 29,
   "metadata": {},
   "outputs": [],
   "source": [
    "input_lines = [\n",
    "\"zzzyxyyzzx\",\n",
    "\"--------\",\n",
    "\"x y z\",\n",
    "\"--------\",\n",
    "\"BAAAAAAAAA\",\n",
    "\"--------\",\n",
    "\"A B\",\n",
    "\"--------\",\n",
    "\"\tx\ty\tz\",\n",
    "\"A\t0.176\t0.596\t0.228\",\n",
    "\"B\t0.225\t0.572\t0.203\",\n",
    "]"
   ]
  },
  {
   "cell_type": "code",
   "execution_count": 32,
   "metadata": {},
   "outputs": [],
   "source": [
    "sequence, state_sequence, _, _, emission_matrix = parse_input(input_lines)"
   ]
  },
  {
   "cell_type": "code",
   "execution_count": 33,
   "metadata": {},
   "outputs": [
    {
     "name": "stdout",
     "output_type": "stream",
     "text": [
      "3.5974895474624624e-06\n"
     ]
    }
   ],
   "source": [
    "print(conditional_path_probability(sequence, state_sequence, emission_matrix))"
   ]
  },
  {
   "cell_type": "code",
   "execution_count": 34,
   "metadata": {},
   "outputs": [
    {
     "name": "stdout",
     "output_type": "stream",
     "text": [
      "5.261294584441593e-38\n"
     ]
    }
   ],
   "source": [
    "with open(\"../data/dataset_26255_10.txt\", \"r\") as fin:\n",
    "    sequence, state_sequence, _, _, emission_matrix = parse_input([l.strip() for l in fin])\n",
    "    print(conditional_path_probability(sequence, state_sequence, emission_matrix))"
   ]
  },
  {
   "cell_type": "code",
   "execution_count": null,
   "metadata": {},
   "outputs": [],
   "source": []
  }
 ],
 "metadata": {
  "kernelspec": {
   "display_name": "Python 3",
   "language": "python",
   "name": "python3"
  },
  "language_info": {
   "codemirror_mode": {
    "name": "ipython",
    "version": 3
   },
   "file_extension": ".py",
   "mimetype": "text/x-python",
   "name": "python",
   "nbconvert_exporter": "python",
   "pygments_lexer": "ipython3",
   "version": "3.6.9"
  }
 },
 "nbformat": 4,
 "nbformat_minor": 4
}
