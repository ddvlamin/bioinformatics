{
 "cells": [
  {
   "cell_type": "code",
   "execution_count": 5,
   "metadata": {},
   "outputs": [],
   "source": [
    "from collections import defaultdict"
   ]
  },
  {
   "cell_type": "code",
   "execution_count": 41,
   "metadata": {},
   "outputs": [],
   "source": [
    "symbol = lambda c, i: f\"{c}{i}\"\n",
    "\n",
    "def bwt(text):\n",
    "    rotations = []\n",
    "    for i in range(len(text)):\n",
    "        rotation = text[len(text)-i:] + text[0:len(text)-i]\n",
    "        rotations.append(rotation)\n",
    "    rotations = sorted(rotations)\n",
    "    #return \"\".join([s[-1] for s in rotations]), \"\".join([s[0] for s in rotations])\n",
    "\n",
    "    first = dict()\n",
    "    c2i = defaultdict(int)\n",
    "    for i, s in enumerate(rotations):\n",
    "        c = s[0]\n",
    "        c2i[c] += 1\n",
    "        first[symbol(c,c2i[c])] = i \n",
    "\n",
    "    last2first = dict()\n",
    "    c2i = defaultdict(int)\n",
    "    for i, s in enumerate(rotations):\n",
    "        c = s[-1]\n",
    "        c2i[c] += 1\n",
    "        tpl = symbol(c,c2i[c])\n",
    "        last2first[tpl] = first[tpl]\n",
    "    \n",
    "    return [k for k in first.keys()], [k for k in last2first.keys()], last2first"
   ]
  },
  {
   "cell_type": "code",
   "execution_count": 42,
   "metadata": {},
   "outputs": [
    {
     "name": "stdout",
     "output_type": "stream",
     "text": [
      "['$1', 'a1', 'a2', 'a3', 'a4', 'a5', 'a6', 'b1', 'm1', 'n1', 'n2', 'n3', 'p1', 's1']\n",
      "['s1', 'm1', 'n1', 'p1', 'b1', 'n2', 'n3', 'a1', 'a2', 'a3', 'a4', 'a5', '$1', 'a6']\n",
      "{'s1': 13, 'm1': 8, 'n1': 9, 'p1': 12, 'b1': 7, 'n2': 10, 'n3': 11, 'a1': 1, 'a2': 2, 'a3': 3, 'a4': 4, 'a5': 5, '$1': 0, 'a6': 6}\n"
     ]
    }
   ],
   "source": [
    "first, last, last2first = bwt(\"panamabananas$\")\n",
    "print(first)\n",
    "print(last)\n",
    "print(last2first)"
   ]
  },
  {
   "cell_type": "code",
   "execution_count": 43,
   "metadata": {},
   "outputs": [],
   "source": [
    "def get_first_occurence(rotation):\n",
    "    first = dict()\n",
    "    for i, c in enumerate(rotation):\n",
    "        if c[0] not in first:\n",
    "            first[c[0]] = i\n",
    "    return first\n",
    "            \n",
    "first_occurence = get_first_occurence(first)"
   ]
  },
  {
   "cell_type": "code",
   "execution_count": 45,
   "metadata": {},
   "outputs": [],
   "source": [
    "def get_partial_suffix_array(last, last2first, k=5):\n",
    "    suffix_array = dict()\n",
    "    j = 0\n",
    "    c = last[j]\n",
    "    for i in range(0, len(last)):\n",
    "        suffix_array[c] = len(last)-i-2\n",
    "        j = last2first[c]\n",
    "        c = last[j]\n",
    "    suffix_array[symbol(\"$\",1)] = len(last)-1\n",
    "    \n",
    "    suffix_array = sorted(suffix_array.items())\n",
    "    \n",
    "    partial = dict()\n",
    "    for c, i in suffix_array:\n",
    "        if i % k == 0:\n",
    "            partial[c] = i\n",
    "    \n",
    "    \n",
    "    return partial"
   ]
  },
  {
   "cell_type": "code",
   "execution_count": 46,
   "metadata": {},
   "outputs": [],
   "source": [
    "partial_suffix_array = get_partial_suffix_array(last, last2first)"
   ]
  },
  {
   "cell_type": "code",
   "execution_count": 59,
   "metadata": {},
   "outputs": [],
   "source": [
    "def get_counts(column, k):\n",
    "    counts = dict()\n",
    "    for c in sorted({c[0] for c in column}):\n",
    "        counts[c] = [0]\n",
    "        \n",
    "    for c, l in counts.items():\n",
    "        for i, s in enumerate(column):\n",
    "            if s[0] == c:\n",
    "                l.append(l[i]+1)\n",
    "            else:\n",
    "                l.append(l[i])\n",
    "\n",
    "    selected_indices = [i for i in range(0,len(column)+1) if i%k==0]\n",
    "    \n",
    "    for c, l in counts.items():\n",
    "        counts[c] = [l[i] for i in selected_indices]\n",
    "            \n",
    "    return counts"
   ]
  },
  {
   "cell_type": "code",
   "execution_count": 61,
   "metadata": {},
   "outputs": [
    {
     "data": {
      "text/plain": [
       "{'$': [0, 0, 0],\n",
       " 'a': [0, 0, 3],\n",
       " 'b': [0, 1, 1],\n",
       " 'm': [0, 1, 1],\n",
       " 'n': [0, 1, 3],\n",
       " 'p': [0, 1, 1],\n",
       " 's': [0, 1, 1]}"
      ]
     },
     "execution_count": 61,
     "metadata": {},
     "output_type": "execute_result"
    }
   ],
   "source": [
    "get_counts(last, 5)"
   ]
  },
  {
   "cell_type": "code",
   "execution_count": null,
   "metadata": {},
   "outputs": [],
   "source": []
  }
 ],
 "metadata": {
  "kernelspec": {
   "display_name": "Python 3",
   "language": "python",
   "name": "python3"
  },
  "language_info": {
   "codemirror_mode": {
    "name": "ipython",
    "version": 3
   },
   "file_extension": ".py",
   "mimetype": "text/x-python",
   "name": "python",
   "nbconvert_exporter": "python",
   "pygments_lexer": "ipython3",
   "version": "3.6.9"
  }
 },
 "nbformat": 4,
 "nbformat_minor": 4
}
