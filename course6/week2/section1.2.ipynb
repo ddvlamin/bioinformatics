{
 "cells": [
  {
   "cell_type": "code",
   "execution_count": 3,
   "metadata": {},
   "outputs": [],
   "source": [
    "def bwt(text):\n",
    "    rotations = []\n",
    "    for i in range(len(text)):\n",
    "        rotation = text[len(text)-i:] + text[0:len(text)-i]\n",
    "        rotations.append(rotation)\n",
    "    rotations = sorted(rotations)\n",
    "    return \"\".join([s[-1] for s in rotations])"
   ]
  },
  {
   "cell_type": "code",
   "execution_count": 5,
   "metadata": {},
   "outputs": [
    {
     "data": {
      "text/plain": [
       "True"
      ]
     },
     "execution_count": 5,
     "metadata": {},
     "output_type": "execute_result"
    }
   ],
   "source": [
    "bwt(\"GCGTGCCTGGTCA$\") == \"ACTGGCT$TGCGGC\""
   ]
  },
  {
   "cell_type": "code",
   "execution_count": 8,
   "metadata": {},
   "outputs": [
    {
     "name": "stdout",
     "output_type": "stream",
     "text": [
      "T$GGGTAGTATCAATGTATTTCCGATGCGGCGCAACAGGCTGCACTAAGTGGAAGCAGGTGCGAAAAACATGAGACAAGGACCCCCACAGCGCCTGTGGGTGATCTCTATCGAGCACCCGTGGGTCAGGCAGCACATGTATGACTCTGACACCCGATGCAGGCAATAAGCCTGAATAACTAGTAGTCTTGCTCTATCCGTATTGCATTTTCCAACTGGGGGTCGATAAGCAGGGTAACGCGGCCGGTTTGATTAACGGGTGGGCCATAGGCGCACCTAGACCACGGATTACCTAACGTTCGGACAACTGACATCTGGGCGCCTCCCTTTTCTGAGTGACAGAGTACTAGCGCTAATAAATTATCGCCTATACTTTACCGGGACACCAAGATAAAAAATGTCCCGGAAATCAAAGTATAATTGGGCTTCCGTCCTCCACGCCGCGTCACCGGAGGTACTAGTCATCCTAGACTGCATGTGAAGAATGATACTGGTACGTAGCCACCTATTACAGCGCCAATGCTCTGTGAGTATGGGTGTTGGGAGTATGCACGTCTTTGAGGGGATGGTGCACAAAGTCCCATCGCAACTAGAGTCTCGTAGTTGCAGCACTCTTCTAGGGAAGAAGAGCGTAATTACTCTAAGTATAGTCTGCGTTCGCTTAGTAGGACACACGAACCACATGGAGAGCCCGAGTCCATCTTTGGTTACTACCACTCTACCAAAGAGTCTTTATAGTTTTCACCTAAGATAAGAATGGACCTGGGCTCATAGAATTATTCCTTGAACGAACTCCCTATCTGGTCTTAGG\n"
     ]
    }
   ],
   "source": [
    "with open(\"../data/dataset_297_5.txt\") as fin:\n",
    "    text = fin.read().strip()\n",
    "    print(bwt(text))"
   ]
  },
  {
   "cell_type": "code",
   "execution_count": null,
   "metadata": {},
   "outputs": [],
   "source": []
  }
 ],
 "metadata": {
  "kernelspec": {
   "display_name": "Python 3",
   "language": "python",
   "name": "python3"
  },
  "language_info": {
   "codemirror_mode": {
    "name": "ipython",
    "version": 3
   },
   "file_extension": ".py",
   "mimetype": "text/x-python",
   "name": "python",
   "nbconvert_exporter": "python",
   "pygments_lexer": "ipython3",
   "version": "3.6.9"
  }
 },
 "nbformat": 4,
 "nbformat_minor": 4
}
