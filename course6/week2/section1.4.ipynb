{
 "cells": [
  {
   "cell_type": "code",
   "execution_count": 17,
   "metadata": {},
   "outputs": [],
   "source": [
    "def ibwt(text):\n",
    "    inverted = \"\"\n",
    "    \n",
    "    symbol2index = [(symbol,i) for i, symbol in enumerate(text)]\n",
    "    sorted_text = sorted(symbol2index)\n",
    "    \n",
    "    next_symbol = \"$\"\n",
    "    next_index = text.index(next_symbol)\n",
    "    while len(inverted)<len(text):\n",
    "        next_symbol, next_index = sorted_text[next_index]\n",
    "        inverted += next_symbol\n",
    "            \n",
    "    return inverted"
   ]
  },
  {
   "cell_type": "code",
   "execution_count": 18,
   "metadata": {},
   "outputs": [
    {
     "data": {
      "text/plain": [
       "'twelveplusone$'"
      ]
     },
     "execution_count": 18,
     "metadata": {},
     "output_type": "execute_result"
    }
   ],
   "source": [
    "ibwt(\"enwvpeoseu$llt\")"
   ]
  },
  {
   "cell_type": "code",
   "execution_count": 20,
   "metadata": {},
   "outputs": [],
   "source": [
    "assert ibwt(\"TTCCTAACG$A\") == \"TACATCACGT$\""
   ]
  },
  {
   "cell_type": "code",
   "execution_count": 22,
   "metadata": {},
   "outputs": [
    {
     "name": "stdout",
     "output_type": "stream",
     "text": [
      "CAATGACCGGGTTGTAGGTATTGAGTAATACGCCTCTTTTTGTCGGCGCCAGGTCGGCTATCTCAGATCTCCGGCTTCTACTGAGACAGGTGGATTTGTAGGTCGGTACTTCTTTTCCCTCCCTTCGGGTACACACCATCCGCGCCGCAGCCAAGCAGAAGGTGATAGGACTAGTCCATAGGGAAGAATCGACAGGTCTCCGATAAGAACGCAGCTCTACATCTATTCTTAGGGAGGAGGCTGGTGGCATGAACCGTTCAAGGAGGGCATAGTGCGGCGGGGTTATCCGGGTGCGCGAGCGGTTGATAGAGCACCATGGACCTAACTCTTGTCTGAATCCGGATTCTAGCACACTTAGACCACTCCTCGAAATGCCCTCACTATATATTGATATCATGTGCTGTCTGCCTCTTAAGTGATGAACACACGCGATTACAGCCTAGTTAACCTTTTACACAAGATTGACCAAATACAGAAGTTTTGTCGTGGAATTTAACCATGAGTGATCCATAACGGGTTTATACGAGGATGAGCGTCATGAAAGTGCCGAGCAGGGTGCCTGTACGCAAGCGGTATTACAGGTTTGCCTGCAATACCTCATTGAGGGCTGCGTTACCTGAGAGATACTCACATTGGCACTACTTCACAAACCGCCCACAACAGACTTGTCTATCACGTTGGCGTTTCGCCGTGGCTCAGGAGAGACACCACTACAACTACAAGTTTCCGCTTTTCGGCGTCCCCGTAATAAGCAGACCCACACGTTAGGTCTAAGGTCAGTAAGACGTTACCCCAAGTCCACCTGACTCTAACCCTTCTTTATTTGCTA$\n"
     ]
    }
   ],
   "source": [
    "with open(\"../data/dataset_299_10.txt\", \"r\") as fin:\n",
    "    line = fin.read().strip()\n",
    "    print(ibwt(line))"
   ]
  },
  {
   "cell_type": "code",
   "execution_count": null,
   "metadata": {},
   "outputs": [],
   "source": []
  }
 ],
 "metadata": {
  "kernelspec": {
   "display_name": "Python 3",
   "language": "python",
   "name": "python3"
  },
  "language_info": {
   "codemirror_mode": {
    "name": "ipython",
    "version": 3
   },
   "file_extension": ".py",
   "mimetype": "text/x-python",
   "name": "python",
   "nbconvert_exporter": "python",
   "pygments_lexer": "ipython3",
   "version": "3.6.9"
  }
 },
 "nbformat": 4,
 "nbformat_minor": 4
}
