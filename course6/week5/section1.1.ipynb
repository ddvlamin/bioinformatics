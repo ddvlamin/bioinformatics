{
 "cells": [
  {
   "cell_type": "code",
   "execution_count": 1,
   "metadata": {},
   "outputs": [],
   "source": [
    "from collections import defaultdict"
   ]
  },
  {
   "cell_type": "code",
   "execution_count": 16,
   "metadata": {},
   "outputs": [],
   "source": [
    "def read_input(lines):\n",
    "    threshold = float(lines[0])\n",
    "    alphabet = lines[2].split(\"\\t\")\n",
    "    alignment = []\n",
    "    for line in lines[4:]:\n",
    "        alignment.append(line)\n",
    "    return threshold, set(sorted(alphabet)), alignment\n",
    "      "
   ]
  },
  {
   "cell_type": "code",
   "execution_count": 3,
   "metadata": {},
   "outputs": [],
   "source": [
    "sample_input = [\n",
    "\"0.289\",\n",
    "\"--------\",\n",
    "\"A B C D E\",\n",
    "\"--------\",\n",
    "\"EBA\",\n",
    "\"E-D\",\n",
    "\"EB-\",\n",
    "\"EED\",\n",
    "\"EBD\",\n",
    "\"EBE\",\n",
    "\"E-D\",\n",
    "\"E-D\"]"
   ]
  },
  {
   "cell_type": "code",
   "execution_count": 4,
   "metadata": {},
   "outputs": [
    {
     "name": "stdout",
     "output_type": "stream",
     "text": [
      "{'C', 'A', 'E', 'D', 'B'}\n",
      "['EBA', 'E-D', 'EB-', 'EED', 'EBD', 'EBE', 'E-D', 'E-D']\n"
     ]
    }
   ],
   "source": [
    "threshold, alphabet, alignment = read_input(sample_input)\n",
    "print(alphabet)\n",
    "print(alignment)"
   ]
  },
  {
   "cell_type": "code",
   "execution_count": 5,
   "metadata": {},
   "outputs": [],
   "source": [
    "def get_seed_alignment(alignment, threshold):\n",
    "    counts = [defaultdict(int) for i in range(len(alignment[0]))]\n",
    "    columns2remove = []\n",
    "    for row in alignment:\n",
    "        for i, v in enumerate(row):\n",
    "            counts[i][v] += 1\n",
    "    \n",
    "    for col, col_counts in enumerate(counts):\n",
    "        freq = col_counts[\"-\"]/len(alignment)\n",
    "        if freq >= threshold:\n",
    "            columns2remove.append(col)\n",
    "    return set(columns2remove)"
   ]
  },
  {
   "cell_type": "code",
   "execution_count": 6,
   "metadata": {},
   "outputs": [
    {
     "name": "stdout",
     "output_type": "stream",
     "text": [
      "{1}\n"
     ]
    }
   ],
   "source": [
    "columns2remove = get_seed_alignment(alignment, threshold)\n",
    "print(columns2remove)"
   ]
  },
  {
   "cell_type": "code",
   "execution_count": 7,
   "metadata": {},
   "outputs": [],
   "source": [
    "def init_transition_emission(n, alphabet):\n",
    "    states = [\"S\", \"I0\"]\n",
    "    for i in range(n):\n",
    "        states.append(f\"M{i+1}\")\n",
    "        states.append(f\"D{i+1}\")\n",
    "        states.append(f\"I{i+1}\")\n",
    "    states.append(\"E\")\n",
    "    \n",
    "    transition = dict()\n",
    "    emission = dict()\n",
    "    for state in states:\n",
    "        transition[state] = {s: 0 for s in states}\n",
    "        emission[state] = {a: 0 for a in sorted(alphabet)}\n",
    "        \n",
    "    return transition, emission"
   ]
  },
  {
   "cell_type": "code",
   "execution_count": 8,
   "metadata": {},
   "outputs": [
    {
     "name": "stdout",
     "output_type": "stream",
     "text": [
      "{'S': {'S': 0, 'I0': 0, 'M1': 0, 'D1': 0, 'I1': 0, 'M2': 0, 'D2': 0, 'I2': 0, 'E': 0}, 'I0': {'S': 0, 'I0': 0, 'M1': 0, 'D1': 0, 'I1': 0, 'M2': 0, 'D2': 0, 'I2': 0, 'E': 0}, 'M1': {'S': 0, 'I0': 0, 'M1': 0, 'D1': 0, 'I1': 0, 'M2': 0, 'D2': 0, 'I2': 0, 'E': 0}, 'D1': {'S': 0, 'I0': 0, 'M1': 0, 'D1': 0, 'I1': 0, 'M2': 0, 'D2': 0, 'I2': 0, 'E': 0}, 'I1': {'S': 0, 'I0': 0, 'M1': 0, 'D1': 0, 'I1': 0, 'M2': 0, 'D2': 0, 'I2': 0, 'E': 0}, 'M2': {'S': 0, 'I0': 0, 'M1': 0, 'D1': 0, 'I1': 0, 'M2': 0, 'D2': 0, 'I2': 0, 'E': 0}, 'D2': {'S': 0, 'I0': 0, 'M1': 0, 'D1': 0, 'I1': 0, 'M2': 0, 'D2': 0, 'I2': 0, 'E': 0}, 'I2': {'S': 0, 'I0': 0, 'M1': 0, 'D1': 0, 'I1': 0, 'M2': 0, 'D2': 0, 'I2': 0, 'E': 0}, 'E': {'S': 0, 'I0': 0, 'M1': 0, 'D1': 0, 'I1': 0, 'M2': 0, 'D2': 0, 'I2': 0, 'E': 0}}\n",
      "{'S': {'A': 0, 'B': 0, 'C': 0, 'D': 0, 'E': 0}, 'I0': {'A': 0, 'B': 0, 'C': 0, 'D': 0, 'E': 0}, 'M1': {'A': 0, 'B': 0, 'C': 0, 'D': 0, 'E': 0}, 'D1': {'A': 0, 'B': 0, 'C': 0, 'D': 0, 'E': 0}, 'I1': {'A': 0, 'B': 0, 'C': 0, 'D': 0, 'E': 0}, 'M2': {'A': 0, 'B': 0, 'C': 0, 'D': 0, 'E': 0}, 'D2': {'A': 0, 'B': 0, 'C': 0, 'D': 0, 'E': 0}, 'I2': {'A': 0, 'B': 0, 'C': 0, 'D': 0, 'E': 0}, 'E': {'A': 0, 'B': 0, 'C': 0, 'D': 0, 'E': 0}}\n"
     ]
    }
   ],
   "source": [
    "n = len(alignment[0]) - len(columns2remove)\n",
    "transition, emission = init_transition_emission(n, alphabet)\n",
    "print(transition)\n",
    "print(emission)"
   ]
  },
  {
   "cell_type": "code",
   "execution_count": 9,
   "metadata": {},
   "outputs": [],
   "source": [
    "def compute_transition(transition, emission, alignment, columns2remove, alphabet):\n",
    "    col = 0\n",
    "    prev_states = [\"S\"]*len(alignment)\n",
    "    for i in range(len(alignment[0])):\n",
    "        for row, seq in enumerate(alignment):\n",
    "            if seq[i] in alphabet:\n",
    "                if i not in columns2remove:\n",
    "                    state_label = f\"M{col+1}\"\n",
    "                else:\n",
    "                    state_label = f\"I{col}\"\n",
    "            else:\n",
    "                if i not in columns2remove:\n",
    "                    state_label = f\"D{col+1}\"\n",
    "                else:\n",
    "                    continue\n",
    "            #print(f\"i: {i}, col: {col}, letter: {seq[col]}, state_label: {state_label}, prev_state: {prev_states[row]}\")\n",
    "            transition[prev_states[row]][state_label] += 1\n",
    "            prev_states[row] = state_label\n",
    "            if seq[i] != \"-\":\n",
    "                emission[state_label][seq[i]] += 1\n",
    "        if i not in columns2remove:\n",
    "            col += 1            \n",
    "    for prev_state in prev_states:\n",
    "        transition[prev_state][\"E\"] += 1\n",
    "        \n",
    "    for prev_state, next_states in transition.items():\n",
    "        total = sum((v for v in next_states.values()))\n",
    "        if total != 0:\n",
    "            for k in next_states.keys():\n",
    "                next_states[k] /= total\n",
    "                \n",
    "    for state, state_emissions in emission.items():\n",
    "        total = sum((v for v in state_emissions.values()))\n",
    "        if total != 0:\n",
    "            for k in state_emissions.keys():\n",
    "                state_emissions[k] /= total"
   ]
  },
  {
   "cell_type": "code",
   "execution_count": 10,
   "metadata": {},
   "outputs": [],
   "source": [
    "compute_transition(transition, emission, alignment, columns2remove, alphabet)"
   ]
  },
  {
   "cell_type": "code",
   "execution_count": 11,
   "metadata": {},
   "outputs": [],
   "source": [
    "def print_output(transition, emissions, alphabet):\n",
    "    header = \" \" + \" \".join(transition.keys())\n",
    "    print(header)\n",
    "    for k, states in transition.items():\n",
    "        row = k + \" \" + \" \".join((str(s) for s in states.values()))\n",
    "        print(row)\n",
    "    print(\"--------\")\n",
    "    header = \" \" + \" \".join(sorted(alphabet))\n",
    "    print(header)\n",
    "    for state, state_emissions in emissions.items():\n",
    "        row = state + \" \" + \" \".join((str(s) for s in state_emissions.values()))\n",
    "        print(row)   "
   ]
  },
  {
   "cell_type": "code",
   "execution_count": 12,
   "metadata": {},
   "outputs": [
    {
     "name": "stdout",
     "output_type": "stream",
     "text": [
      " S I0 M1 D1 I1 M2 D2 I2 E\n",
      "S 0.0 0.0 1.0 0.0 0.0 0.0 0.0 0.0 0.0\n",
      "I0 0 0 0 0 0 0 0 0 0\n",
      "M1 0.0 0.0 0.0 0.0 0.625 0.375 0.0 0.0 0.0\n",
      "D1 0 0 0 0 0 0 0 0 0\n",
      "I1 0.0 0.0 0.0 0.0 0.0 0.8 0.2 0.0 0.0\n",
      "M2 0.0 0.0 0.0 0.0 0.0 0.0 0.0 0.0 1.0\n",
      "D2 0.0 0.0 0.0 0.0 0.0 0.0 0.0 0.0 1.0\n",
      "I2 0 0 0 0 0 0 0 0 0\n",
      "E 0 0 0 0 0 0 0 0 0\n",
      "--------\n",
      " A B C D E\n",
      "S 0 0 0 0 0\n",
      "I0 0 0 0 0 0\n",
      "M1 0.0 0.0 0.0 0.0 1.0\n",
      "D1 0 0 0 0 0\n",
      "I1 0.0 0.8 0.0 0.0 0.2\n",
      "M2 0.14285714285714285 0.0 0.0 0.7142857142857143 0.14285714285714285\n",
      "D2 0 0 0 0 0\n",
      "I2 0 0 0 0 0\n",
      "E 0 0 0 0 0\n"
     ]
    }
   ],
   "source": [
    "print_output(transition, emission, alphabet)"
   ]
  },
  {
   "cell_type": "code",
   "execution_count": 17,
   "metadata": {},
   "outputs": [
    {
     "name": "stdout",
     "output_type": "stream",
     "text": [
      "{'C', 'A', 'E', 'D', 'B'}\n",
      "['-CBA-BE-E', 'BE-ABBEBB', 'BABABBEBB', 'BCB-BBE-B', 'ABBABBEBB', 'BC-ABBBBB', 'BCB-BBEBB', 'BDBAB-E-B', 'BB-ABBEDC']\n",
      " S I0 M1 D1 I1 M2 D2 I2 M3 D3 I3 M4 D4 I4 M5 D5 I5 M6 D6 I6 M7 D7 I7 E\n",
      "S 0.0 0.0 0.8888888888888888 0.1111111111111111 0.0 0.0 0.0 0.0 0.0 0.0 0.0 0.0 0.0 0.0 0.0 0.0 0.0 0.0 0.0 0.0 0.0 0.0 0.0 0.0\n",
      "I0 0 0 0 0 0 0 0 0 0 0 0 0 0 0 0 0 0 0 0 0 0 0 0 0\n",
      "M1 0.0 0.0 0.0 0.0 0.0 1.0 0.0 0.0 0.0 0.0 0.0 0.0 0.0 0.0 0.0 0.0 0.0 0.0 0.0 0.0 0.0 0.0 0.0 0.0\n",
      "D1 0.0 0.0 0.0 0.0 0.0 1.0 0.0 0.0 0.0 0.0 0.0 0.0 0.0 0.0 0.0 0.0 0.0 0.0 0.0 0.0 0.0 0.0 0.0 0.0\n",
      "I1 0 0 0 0 0 0 0 0 0 0 0 0 0 0 0 0 0 0 0 0 0 0 0 0\n",
      "M2 0.0 0.0 0.0 0.0 0.0 0.0 0.0 0.6666666666666666 0.3333333333333333 0.0 0.0 0.0 0.0 0.0 0.0 0.0 0.0 0.0 0.0 0.0 0.0 0.0 0.0 0.0\n",
      "D2 0 0 0 0 0 0 0 0 0 0 0 0 0 0 0 0 0 0 0 0 0 0 0 0\n",
      "I2 0.0 0.0 0.0 0.0 0.0 0.0 0.0 0.0 0.6666666666666666 0.3333333333333333 0.0 0.0 0.0 0.0 0.0 0.0 0.0 0.0 0.0 0.0 0.0 0.0 0.0 0.0\n",
      "M3 0.0 0.0 0.0 0.0 0.0 0.0 0.0 0.0 0.0 0.0 0.0 0.8571428571428571 0.14285714285714285 0.0 0.0 0.0 0.0 0.0 0.0 0.0 0.0 0.0 0.0 0.0\n",
      "D3 0.0 0.0 0.0 0.0 0.0 0.0 0.0 0.0 0.0 0.0 0.0 1.0 0.0 0.0 0.0 0.0 0.0 0.0 0.0 0.0 0.0 0.0 0.0 0.0\n",
      "I3 0 0 0 0 0 0 0 0 0 0 0 0 0 0 0 0 0 0 0 0 0 0 0 0\n",
      "M4 0.0 0.0 0.0 0.0 0.0 0.0 0.0 0.0 0.0 0.0 0.0 0.0 0.0 0.0 0.875 0.125 0.0 0.0 0.0 0.0 0.0 0.0 0.0 0.0\n",
      "D4 0.0 0.0 0.0 0.0 0.0 0.0 0.0 0.0 0.0 0.0 0.0 0.0 0.0 0.0 1.0 0.0 0.0 0.0 0.0 0.0 0.0 0.0 0.0 0.0\n",
      "I4 0 0 0 0 0 0 0 0 0 0 0 0 0 0 0 0 0 0 0 0 0 0 0 0\n",
      "M5 0.0 0.0 0.0 0.0 0.0 0.0 0.0 0.0 0.0 0.0 0.0 0.0 0.0 0.0 0.0 0.0 0.0 1.0 0.0 0.0 0.0 0.0 0.0 0.0\n",
      "D5 0.0 0.0 0.0 0.0 0.0 0.0 0.0 0.0 0.0 0.0 0.0 0.0 0.0 0.0 0.0 0.0 0.0 1.0 0.0 0.0 0.0 0.0 0.0 0.0\n",
      "I5 0 0 0 0 0 0 0 0 0 0 0 0 0 0 0 0 0 0 0 0 0 0 0 0\n",
      "M6 0.0 0.0 0.0 0.0 0.0 0.0 0.0 0.0 0.0 0.0 0.0 0.0 0.0 0.0 0.0 0.0 0.0 0.0 0.0 0.6666666666666666 0.3333333333333333 0.0 0.0 0.0\n",
      "D6 0 0 0 0 0 0 0 0 0 0 0 0 0 0 0 0 0 0 0 0 0 0 0 0\n",
      "I6 0.0 0.0 0.0 0.0 0.0 0.0 0.0 0.0 0.0 0.0 0.0 0.0 0.0 0.0 0.0 0.0 0.0 0.0 0.0 0.0 1.0 0.0 0.0 0.0\n",
      "M7 0.0 0.0 0.0 0.0 0.0 0.0 0.0 0.0 0.0 0.0 0.0 0.0 0.0 0.0 0.0 0.0 0.0 0.0 0.0 0.0 0.0 0.0 0.0 1.0\n",
      "D7 0 0 0 0 0 0 0 0 0 0 0 0 0 0 0 0 0 0 0 0 0 0 0 0\n",
      "I7 0 0 0 0 0 0 0 0 0 0 0 0 0 0 0 0 0 0 0 0 0 0 0 0\n",
      "E 0 0 0 0 0 0 0 0 0 0 0 0 0 0 0 0 0 0 0 0 0 0 0 0\n",
      "--------\n",
      " A B C D E\n",
      "S 0 0 0 0 0\n",
      "I0 0 0 0 0 0\n",
      "M1 0.125 0.875 0.0 0.0 0.0\n",
      "D1 0 0 0 0 0\n",
      "I1 0 0 0 0 0\n",
      "M2 0.1111111111111111 0.2222222222222222 0.4444444444444444 0.1111111111111111 0.1111111111111111\n",
      "D2 0 0 0 0 0\n",
      "I2 0.0 1.0 0.0 0.0 0.0\n",
      "M3 1.0 0.0 0.0 0.0 0.0\n",
      "D3 0 0 0 0 0\n",
      "I3 0 0 0 0 0\n",
      "M4 0.0 1.0 0.0 0.0 0.0\n",
      "D4 0 0 0 0 0\n",
      "I4 0 0 0 0 0\n",
      "M5 0.0 1.0 0.0 0.0 0.0\n",
      "D5 0 0 0 0 0\n",
      "I5 0 0 0 0 0\n",
      "M6 0.0 0.1111111111111111 0.0 0.0 0.8888888888888888\n",
      "D6 0 0 0 0 0\n",
      "I6 0.0 0.8333333333333334 0.0 0.16666666666666666 0.0\n",
      "M7 0.0 0.7777777777777778 0.1111111111111111 0.0 0.1111111111111111\n",
      "D7 0 0 0 0 0\n",
      "I7 0 0 0 0 0\n",
      "E 0 0 0 0 0\n"
     ]
    }
   ],
   "source": [
    "with open(\"../data/dataset_26258_15.txt\", \"r\") as fin:\n",
    "    lines = [l.strip() for l in fin]\n",
    "    threshold, alphabet, alignment = read_input(lines)\n",
    "    print(alphabet)\n",
    "    print(alignment)\n",
    "    columns2remove = get_seed_alignment(alignment, threshold)\n",
    "    n = len(alignment[0]) - len(columns2remove)\n",
    "    transition, emission = init_transition_emission(n, alphabet)\n",
    "    compute_transition(transition, emission, alignment, columns2remove, alphabet)\n",
    "    print_output(transition, emission, alphabet)"
   ]
  },
  {
   "cell_type": "code",
   "execution_count": null,
   "metadata": {},
   "outputs": [],
   "source": []
  }
 ],
 "metadata": {
  "kernelspec": {
   "display_name": "Python 3",
   "language": "python",
   "name": "python3"
  },
  "language_info": {
   "codemirror_mode": {
    "name": "ipython",
    "version": 3
   },
   "file_extension": ".py",
   "mimetype": "text/x-python",
   "name": "python",
   "nbconvert_exporter": "python",
   "pygments_lexer": "ipython3",
   "version": "3.6.9"
  }
 },
 "nbformat": 4,
 "nbformat_minor": 4
}
