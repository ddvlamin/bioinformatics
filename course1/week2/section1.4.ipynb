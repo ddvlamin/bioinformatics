{
 "cells": [
  {
   "cell_type": "code",
   "execution_count": 50,
   "metadata": {},
   "outputs": [],
   "source": [
    "from copy import deepcopy\n",
    "from itertools import product"
   ]
  },
  {
   "cell_type": "code",
   "execution_count": 3,
   "metadata": {},
   "outputs": [],
   "source": [
    "def hamming_distance(kmer1, kmer2):\n",
    "    distance = 0\n",
    "    for c1, c2 in zip(kmer1,kmer2):\n",
    "        if c1!=c2:\n",
    "            distance += 1\n",
    "    return distance"
   ]
  },
  {
   "cell_type": "code",
   "execution_count": 4,
   "metadata": {},
   "outputs": [],
   "source": [
    "assert hamming_distance(\"GGGCCGTTGGT\",\"GGACCGTTGAC\") == 3"
   ]
  },
  {
   "cell_type": "code",
   "execution_count": 163,
   "metadata": {},
   "outputs": [
    {
     "data": {
      "text/plain": [
       "36"
      ]
     },
     "execution_count": 163,
     "metadata": {},
     "output_type": "execute_result"
    }
   ],
   "source": [
    "hamming_distance(\"CTACAGCAATACGATCATATGCGGATCCGCAGTGGCCGGTAGACACACGT\",\n",
    "                \"CTACCCCGCTGCTCAATGACCGGGACTAAAGAGGCGAAGATTATGGTGTG\")"
   ]
  },
  {
   "cell_type": "code",
   "execution_count": 6,
   "metadata": {},
   "outputs": [
    {
     "name": "stdout",
     "output_type": "stream",
     "text": [
      "906\n"
     ]
    }
   ],
   "source": [
    "with open(\"datasets/dataset_9_3.txt\",\"r\") as fin:\n",
    "    kmer1, kmer2 = fin.read().strip().split(\"\\n\")\n",
    "    print(hamming_distance(kmer1,kmer2))"
   ]
  },
  {
   "cell_type": "code",
   "execution_count": 7,
   "metadata": {},
   "outputs": [],
   "source": [
    "def approximate_matching(pattern, genome, distance):\n",
    "    indices = []\n",
    "    for i in range(len(genome)-len(pattern)+1):\n",
    "        kmer = genome[i:i+len(pattern)]\n",
    "        if hamming_distance(pattern,kmer) <= distance:\n",
    "            indices.append(i)\n",
    "    return indices"
   ]
  },
  {
   "cell_type": "code",
   "execution_count": 8,
   "metadata": {},
   "outputs": [],
   "source": [
    "assert approximate_matching(\n",
    "    \"ATTCTGGA\",\n",
    "    \"CGCCCGAATCCAGAACGCATTCCCATATTTCGGGACCACTGGCCTCCACGGTACGGACGTCAATCAAAT\",\n",
    "    3\n",
    ") == [6, 7, 26, 27]"
   ]
  },
  {
   "cell_type": "code",
   "execution_count": 13,
   "metadata": {},
   "outputs": [
    {
     "name": "stdout",
     "output_type": "stream",
     "text": [
      "361 385 656 849 1013 1089 1507 1572 1613 2146 2387 2746 2951 3079 3378 3800 3817 3835 3938 4083 4159 4320 4575 5111 5145 5192 5193 5389 6271 6555 6657 7056 8125 8821 9388 9531 9599 9692 9820 9967 10749 11233 11358 12288 12356 13170 13930 14561 14891 15431 15432 16111 16146 16147 16461 16953 17679 18359\n"
     ]
    }
   ],
   "source": [
    "with open(\"datasets/dataset_9_4.txt\",\"r\") as fin:\n",
    "    pattern, genome, distance = fin.read().strip().split(\"\\n\")\n",
    "    print(\" \".join(map(str,approximate_matching(pattern, genome, int(distance)))))\n"
   ]
  },
  {
   "cell_type": "code",
   "execution_count": 11,
   "metadata": {},
   "outputs": [
    {
     "data": {
      "text/plain": [
       "[6, 7, 26, 27]"
      ]
     },
     "execution_count": 11,
     "metadata": {},
     "output_type": "execute_result"
    }
   ],
   "source": [
    "approximate_matching(\n",
    "    \"ATTCTGGA\",\n",
    "    \"CGCCCGAATCCAGAACGCATTCCCATATTTCGGGACCACTGGCCTCCACGGTACGGACGTCAATCAAAT\",\n",
    "    3\n",
    ")"
   ]
  },
  {
   "cell_type": "code",
   "execution_count": 14,
   "metadata": {},
   "outputs": [],
   "source": [
    "def approximate_count(pattern, genome, distance):\n",
    "    return len(approximate_matching(pattern, genome, distance))"
   ]
  },
  {
   "cell_type": "code",
   "execution_count": 15,
   "metadata": {},
   "outputs": [
    {
     "data": {
      "text/plain": [
       "11"
      ]
     },
     "execution_count": 15,
     "metadata": {},
     "output_type": "execute_result"
    }
   ],
   "source": [
    "approximate_count(\"AAAAA\", \"AACAAGCTGATAAACATTTAAAGAG\", 2)"
   ]
  },
  {
   "cell_type": "code",
   "execution_count": 164,
   "metadata": {},
   "outputs": [
    {
     "data": {
      "text/plain": [
       "13"
      ]
     },
     "execution_count": 164,
     "metadata": {},
     "output_type": "execute_result"
    }
   ],
   "source": [
    "approximate_count(\"AA\", \"TACGCATTACAAAGCACA\", 1)"
   ]
  },
  {
   "cell_type": "code",
   "execution_count": 17,
   "metadata": {},
   "outputs": [
    {
     "name": "stdout",
     "output_type": "stream",
     "text": [
      "22\n"
     ]
    }
   ],
   "source": [
    "with open(\"datasets/dataset_9_6.txt\",\"r\") as fin:\n",
    "    pattern, genome, distance = fin.read().strip().split(\"\\n\")\n",
    "    print(approximate_count(pattern, genome, int(distance)))\n"
   ]
  },
  {
   "cell_type": "code",
   "execution_count": 160,
   "metadata": {},
   "outputs": [],
   "source": [
    "nucleotides = \"ATGC\"\n",
    "\n",
    "def kmer_neighbors(kmer, distance):\n",
    "    if distance == 0:\n",
    "        return {kmer}\n",
    "    \n",
    "    if len(kmer) == 1:\n",
    "        return {\"A\", \"T\", \"G\", \"C\"}\n",
    "    \n",
    "    neighbors = dict()\n",
    "    suffix = kmer[1:]\n",
    "    suffix_neighbors = kmer_neighbors(suffix, distance)\n",
    "    for neighbor in suffix_neighbors:\n",
    "        if hamming_distance(suffix, neighbor) < distance:\n",
    "            for nucleotide in nucleotides:\n",
    "                neighbors[nucleotide + neighbor] = 0\n",
    "        else:\n",
    "             neighbors[kmer[0] + neighbor] = 0\n",
    "    \n",
    "    return neighbors"
   ]
  },
  {
   "cell_type": "code",
   "execution_count": 162,
   "metadata": {},
   "outputs": [],
   "source": [
    "expected = set([\"ACG\",\"CCG\",\"GCG\",\"TCG\",\"AAG\",\"AGG\",\"ATG\",\"ACA\",\"ACC\",\"ACT\"])\n",
    "assert set(kmer_neighbors(\"ACG\",1).keys()) == expected"
   ]
  },
  {
   "cell_type": "code",
   "execution_count": 165,
   "metadata": {},
   "outputs": [
    {
     "data": {
      "text/plain": [
       "175"
      ]
     },
     "execution_count": 165,
     "metadata": {},
     "output_type": "execute_result"
    }
   ],
   "source": [
    "len(sorted(kmer_neighbors(\"ACGT\",3).keys()))"
   ]
  },
  {
   "cell_type": "code",
   "execution_count": 77,
   "metadata": {},
   "outputs": [],
   "source": [
    "def neighbors(genome, k, distance):\n",
    "    all_neighbors = dict()\n",
    "    for i in range(len(genome)-k+1):\n",
    "        all_neighbors.update(kmer_neighbors(genome[i:i+k], distance))\n",
    "    return all_neighbors"
   ]
  },
  {
   "cell_type": "code",
   "execution_count": 87,
   "metadata": {},
   "outputs": [],
   "source": [
    "def approximate_max_frequency(genome, k, distance):\n",
    "    kmer_count = neighbors(genome, k, distance)\n",
    "    \n",
    "    for pattern, _ in kmer_count.items():\n",
    "        kmer_count[pattern] += approximate_count(pattern, genome, distance)\n",
    "    \n",
    "    kmer_count = sorted(kmer_count.items(), key=lambda x: x[1], reverse=True)\n",
    "    \n",
    "    max_kmers = [kmer_count[0][0]]\n",
    "    max_count = kmer_count[0][1]\n",
    "    for kmer, count in kmer_count[1:]:\n",
    "        if count == max_count:\n",
    "            max_kmers.append(kmer)\n",
    "    \n",
    "    return max_kmers"
   ]
  },
  {
   "cell_type": "code",
   "execution_count": 91,
   "metadata": {},
   "outputs": [],
   "source": [
    "assert set(approximate_max_frequency(\"ACGTTGCATGTCGCATGATGCATGAGAGCT\",4,1)) == set([\"GATG\", \"ATGC\",\"ATGT\"])"
   ]
  },
  {
   "cell_type": "code",
   "execution_count": 94,
   "metadata": {},
   "outputs": [
    {
     "name": "stdout",
     "output_type": "stream",
     "text": [
      "GGGGGG\n"
     ]
    }
   ],
   "source": [
    "with open(\"datasets/dataset_9_7.txt\",\"r\") as fin:\n",
    "    genome, k_distance = fin.read().strip().split(\"\\n\")\n",
    "    k, distance = k_distance.split(\" \")\n",
    "    print(\" \".join(approximate_max_frequency(genome, int(k), int(distance))))"
   ]
  },
  {
   "cell_type": "code",
   "execution_count": 113,
   "metadata": {},
   "outputs": [],
   "source": [
    "complement_map = {\n",
    "    \"A\": \"T\",\n",
    "    \"G\": \"C\",\n",
    "    \"T\": \"A\",\n",
    "    \"C\": \"G\"\n",
    "}\n",
    "\n",
    "def reverse_complement(dna_string):\n",
    "    reverse = list()\n",
    "    for nucleotide in dna_string[::-1]:\n",
    "        reverse.append(complement_map[nucleotide])\n",
    "    return \"\".join(reverse)\n",
    "\n",
    "def approximate_max_frequency_rc(genome, k, distance):\n",
    "    kmer_count = neighbors(genome, k, distance)\n",
    "    \n",
    "    kmer_complements = dict()\n",
    "    for kmer, count in kmer_count.items():\n",
    "        rc = reverse_complement(kmer)\n",
    "        kmer_complements[kmer] = rc\n",
    "    \n",
    "    for pattern, _ in kmer_count.items():\n",
    "        rc = kmer_complements.get(pattern)\n",
    "        kmer_count[pattern] += (\n",
    "            approximate_count(pattern, genome, distance) +\n",
    "            approximate_count(rc, genome, distance) if rc!=None else 0\n",
    "        )\n",
    "    \n",
    "    kmer_count = sorted(kmer_count.items(), key=lambda x: x[1], reverse=True)\n",
    "    \n",
    "    max_kmers = [kmer_count[0][0]]\n",
    "    max_count = kmer_count[0][1]\n",
    "    for kmer, count in kmer_count[1:]:\n",
    "        if count == max_count:\n",
    "            max_kmers.append(kmer)\n",
    "    \n",
    "    return set(max_kmers)"
   ]
  },
  {
   "cell_type": "code",
   "execution_count": 114,
   "metadata": {},
   "outputs": [],
   "source": [
    "assert approximate_max_frequency_rc(\"ACGTTGCATGTCGCATGATGCATGAGAGCT\",4,1) == set([\"ATGT\",\"ACAT\"])"
   ]
  },
  {
   "cell_type": "code",
   "execution_count": 115,
   "metadata": {},
   "outputs": [
    {
     "name": "stdout",
     "output_type": "stream",
     "text": [
      "CGCGGCC CGGCGCC GGCCGCG GGCGCCG\n"
     ]
    }
   ],
   "source": [
    "with open(\"datasets/dataset_9_8.txt\",\"r\") as fin:\n",
    "    genome, k_distance = fin.read().strip().split(\"\\n\")\n",
    "    k, distance = k_distance.split(\" \")\n",
    "    print(\" \".join(approximate_max_frequency_rc(genome, int(k), int(distance))))"
   ]
  },
  {
   "cell_type": "markdown",
   "metadata": {},
   "source": [
    "### for salmonella"
   ]
  },
  {
   "cell_type": "code",
   "execution_count": 121,
   "metadata": {},
   "outputs": [],
   "source": [
    "with open(\"datasets/salmonella.txt\",\"r\") as fin:\n",
    "    s = \"\".join(fin.read().split(\"\\n\"))\n",
    "    \n",
    "minima = [3764856, 3764858]\n",
    "lb, up = 3764857-500, 3764856+500\n",
    "oriC = s[lb:up+1]"
   ]
  },
  {
   "cell_type": "code",
   "execution_count": 122,
   "metadata": {},
   "outputs": [
    {
     "data": {
      "text/plain": [
       "{'TGTGGATAA', 'TTATCCACA'}"
      ]
     },
     "execution_count": 122,
     "metadata": {},
     "output_type": "execute_result"
    }
   ],
   "source": [
    "approximate_max_frequency_rc(oriC,9,1)"
   ]
  },
  {
   "cell_type": "code",
   "execution_count": null,
   "metadata": {},
   "outputs": [],
   "source": []
  }
 ],
 "metadata": {
  "kernelspec": {
   "display_name": "Python 3",
   "language": "python",
   "name": "python3"
  },
  "language_info": {
   "codemirror_mode": {
    "name": "ipython",
    "version": 3
   },
   "file_extension": ".py",
   "mimetype": "text/x-python",
   "name": "python",
   "nbconvert_exporter": "python",
   "pygments_lexer": "ipython3",
   "version": "3.8.2"
  }
 },
 "nbformat": 4,
 "nbformat_minor": 4
}
