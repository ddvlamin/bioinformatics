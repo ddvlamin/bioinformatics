{
 "cells": [
  {
   "cell_type": "code",
   "execution_count": 1,
   "metadata": {},
   "outputs": [],
   "source": [
    "def g_c_difference(genome_string):\n",
    "    difference = 0\n",
    "    differences = [0]\n",
    "    for ch in genome_string:\n",
    "        if ch == \"C\":\n",
    "            difference -= 1\n",
    "        elif ch == \"G\":\n",
    "            difference += 1\n",
    "        differences.append(difference)\n",
    "    return differences, difference"
   ]
  },
  {
   "cell_type": "code",
   "execution_count": 5,
   "metadata": {},
   "outputs": [
    {
     "name": "stdout",
     "output_type": "stream",
     "text": [
      "0 1 1 2 1 0 0 -1 -2 -1 -2 -1 -1 -1 -1\n"
     ]
    }
   ],
   "source": [
    "differences, _ = g_c_difference(\"GAGCCACCGCGATA\")\n",
    "print(\" \".join(map(str,differences)))"
   ]
  },
  {
   "cell_type": "code",
   "execution_count": 16,
   "metadata": {},
   "outputs": [],
   "source": [
    "def skew_minimum(genome_string):\n",
    "    differences, _ = g_c_difference(genome_string)\n",
    "    differences = sorted(enumerate(differences), key=lambda x: x[1])\n",
    "    \n",
    "    minima = [differences[0]]\n",
    "    for i, diff in differences[1:]:\n",
    "        if diff == minima[-1][1]:\n",
    "            minima.append((i,diff))\n",
    "        else:\n",
    "            break\n",
    "            \n",
    "    return [i for i, _ in minima]"
   ]
  },
  {
   "cell_type": "code",
   "execution_count": 27,
   "metadata": {},
   "outputs": [
    {
     "name": "stdout",
     "output_type": "stream",
     "text": [
      "12\n"
     ]
    }
   ],
   "source": [
    "result = skew_minimum(\"TAAAGACTGCCGAGAGGCCAACACGAGTGCTAGAACGAGGGGCGTAAACGCGGGTCCGAT\")\n",
    "print(\" \".join(map(str,result)))"
   ]
  },
  {
   "cell_type": "code",
   "execution_count": 20,
   "metadata": {},
   "outputs": [],
   "source": [
    "with open(\"datasets/dataset_7_6.txt\",\"r\") as fin:\n",
    "    genome_string = fin.read()"
   ]
  },
  {
   "cell_type": "code",
   "execution_count": 21,
   "metadata": {},
   "outputs": [
    {
     "name": "stdout",
     "output_type": "stream",
     "text": [
      "2465 2468 2469 2474 2477 2479\n"
     ]
    }
   ],
   "source": [
    "result = skew_minimum(genome_string)\n",
    "print(\" \".join(map(str,result)))"
   ]
  },
  {
   "cell_type": "code",
   "execution_count": 28,
   "metadata": {},
   "outputs": [
    {
     "data": {
      "text/plain": [
       "[12]"
      ]
     },
     "execution_count": 28,
     "metadata": {},
     "output_type": "execute_result"
    }
   ],
   "source": [
    "skew_minimum(\"GATACACTTCCCGAGTAGGTACTG\")"
   ]
  },
  {
   "cell_type": "code",
   "execution_count": 22,
   "metadata": {},
   "outputs": [],
   "source": [
    "with open(\"datasets/salmonella.txt\",\"r\") as fin:\n",
    "    s = \"\".join(fin.read().split(\"\\n\"))"
   ]
  },
  {
   "cell_type": "code",
   "execution_count": 24,
   "metadata": {},
   "outputs": [
    {
     "name": "stdout",
     "output_type": "stream",
     "text": [
      "[3764856, 3764858]\n"
     ]
    }
   ],
   "source": [
    "print(skew_minimum(s))"
   ]
  },
  {
   "cell_type": "code",
   "execution_count": null,
   "metadata": {},
   "outputs": [],
   "source": []
  }
 ],
 "metadata": {
  "kernelspec": {
   "display_name": "Python 3",
   "language": "python",
   "name": "python3"
  },
  "language_info": {
   "codemirror_mode": {
    "name": "ipython",
    "version": 3
   },
   "file_extension": ".py",
   "mimetype": "text/x-python",
   "name": "python",
   "nbconvert_exporter": "python",
   "pygments_lexer": "ipython3",
   "version": "3.8.2"
  }
 },
 "nbformat": 4,
 "nbformat_minor": 4
}
