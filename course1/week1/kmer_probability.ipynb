{
 "cells": [
  {
   "cell_type": "code",
   "execution_count": 53,
   "metadata": {},
   "outputs": [],
   "source": [
    "import random\n",
    "from collections import Counter\n",
    "\n",
    "from scipy.stats import binom\n",
    "import numpy as np\n",
    "\n",
    "import regex"
   ]
  },
  {
   "cell_type": "code",
   "execution_count": 54,
   "metadata": {},
   "outputs": [],
   "source": [
    "alphabet = \"ATGC\"\n",
    "n_simulations = 3000000\n",
    "pattern = \"ATGATCAAG\""
   ]
  },
  {
   "cell_type": "code",
   "execution_count": 55,
   "metadata": {},
   "outputs": [],
   "source": [
    "count = Counter()\n",
    "for simulation_i in range(n_simulations):\n",
    "    dna_string = \"\".join(random.choices(alphabet, k=500))\n",
    "    count[len(regex.findall(pattern, dna_string, overlapped=True))] += 1"
   ]
  },
  {
   "cell_type": "code",
   "execution_count": 56,
   "metadata": {},
   "outputs": [
    {
     "name": "stdout",
     "output_type": "stream",
     "text": [
      "pattern ATGATCAAG occurs 0 times in 2994471 experiments -> probability: 0.998157\n",
      "pattern ATGATCAAG occurs 1 times in 5524 experiments -> probability: 0.0018413333333333333\n",
      "pattern ATGATCAAG occurs 2 times in 5 experiments -> probability: 1.6666666666666667e-06\n"
     ]
    }
   ],
   "source": [
    "for n, cnt in count.items():\n",
    "    print(f\"pattern {pattern} occurs {n} times in {cnt} experiments -> probability: {cnt/n_simulations}\")"
   ]
  },
  {
   "cell_type": "code",
   "execution_count": 57,
   "metadata": {},
   "outputs": [
    {
     "name": "stdout",
     "output_type": "stream",
     "text": [
      "Probability that the ATGATCAAG occurs exactly 1 times is  0.0018733190028155493\n",
      "Probability that the ATGATCAAG occurs exactly 2 times is  1.754385259919907e-06\n",
      "Probability that the ATGATCAAG occurs exactly 3 times is  1.0931041166601899e-09\n",
      "Probability that the ATGATCAAG occurs exactly 4 times is  5.097674866834326e-13\n",
      "Probability that the ATGATCAAG occurs exactly 5 times is  1.8979452703409177e-16\n",
      "Probability that the ATGATCAAG occurs exactly 6 times is  5.876559401142002e-20\n",
      "Probability that the ATGATCAAG occurs exactly 7 times is  1.5564067098354394e-23\n",
      "Probability that the ATGATCAAG occurs exactly 8 times is  3.599453610578303e-27\n",
      "Probability that the ATGATCAAG occurs exactly 9 times is  7.38416117886032e-31\n"
     ]
    }
   ],
   "source": [
    "p = 1/(4**9)\n",
    "n = 492\n",
    "for t in range(1,10):\n",
    "    print(f\"Probability that the {pattern} occurs exactly {t} times is  {binom.pmf(t,n,p)}\")"
   ]
  },
  {
   "cell_type": "code",
   "execution_count": 58,
   "metadata": {},
   "outputs": [
    {
     "name": "stdout",
     "output_type": "stream",
     "text": [
      "Probability that the ATGATCAAG occurs at least 1 times is  0.0018750744816893317\n",
      "Probability that the ATGATCAAG occurs at least 2 times is  1.7554788740437033e-06\n",
      "Probability that the ATGATCAAG occurs at least 3 times is  1.0936140881767642e-09\n",
      "Probability that the ATGATCAAG occurs at least 4 times is  5.099254352103344e-13\n",
      "Probability that the ATGATCAAG occurs at least 5 times is  2.220446049250313e-16\n",
      "Probability that the ATGATCAAG occurs at least 6 times is  1.1102230246251565e-16\n",
      "Probability that the ATGATCAAG occurs at least 7 times is  1.1102230246251565e-16\n",
      "Probability that the ATGATCAAG occurs at least 8 times is  1.1102230246251565e-16\n",
      "Probability that the ATGATCAAG occurs at least 9 times is  1.1102230246251565e-16\n"
     ]
    }
   ],
   "source": [
    "for t in range(1,10):\n",
    "    print(f\"Probability that the {pattern} occurs at least {t} times is  {1-binom.cdf(t-1,n,p)}\")"
   ]
  },
  {
   "cell_type": "code",
   "execution_count": null,
   "metadata": {},
   "outputs": [],
   "source": []
  }
 ],
 "metadata": {
  "kernelspec": {
   "display_name": "Python 3",
   "language": "python",
   "name": "python3"
  },
  "language_info": {
   "codemirror_mode": {
    "name": "ipython",
    "version": 3
   },
   "file_extension": ".py",
   "mimetype": "text/x-python",
   "name": "python",
   "nbconvert_exporter": "python",
   "pygments_lexer": "ipython3",
   "version": "3.8.2"
  }
 },
 "nbformat": 4,
 "nbformat_minor": 4
}
