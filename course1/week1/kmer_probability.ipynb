{
 "cells": [
  {
   "cell_type": "code",
   "execution_count": 53,
   "metadata": {},
   "outputs": [],
   "source": [
    "import random\n",
    "from collections import Counter\n",
    "\n",
    "from scipy.stats import binom\n",
    "import numpy as np\n",
    "\n",
    "import regex"
   ]
  },
  {
   "cell_type": "code",
   "execution_count": 70,
   "metadata": {},
   "outputs": [],
   "source": [
    "alphabet = \"ATGC\"\n",
    "n_simulations = 5000000\n",
    "pattern = \"ATGAT\"\n",
    "dna_length = 100"
   ]
  },
  {
   "cell_type": "code",
   "execution_count": 71,
   "metadata": {},
   "outputs": [],
   "source": [
    "count = Counter()\n",
    "for simulation_i in range(n_simulations):\n",
    "    dna_string = \"\".join(random.choices(alphabet, k=dna_length))\n",
    "    count[len(regex.findall(pattern, dna_string, overlapped=True))] += 1"
   ]
  },
  {
   "cell_type": "code",
   "execution_count": 72,
   "metadata": {},
   "outputs": [
    {
     "name": "stdout",
     "output_type": "stream",
     "text": [
      "pattern ATGAT occurs 1 times in 419071 experiments -> probability: 0.0838142\n",
      "pattern ATGAT occurs 2 times in 23873 experiments -> probability: 0.0047746\n",
      "pattern ATGAT occurs 3 times in 1055 experiments -> probability: 0.000211\n",
      "pattern ATGAT occurs 4 times in 27 experiments -> probability: 5.4e-06\n"
     ]
    }
   ],
   "source": [
    "for n, cnt in count.items():\n",
    "    if n!=0:\n",
    "        print(f\"pattern {pattern} occurs {n} times in {cnt} experiments -> probability: {cnt/n_simulations}\")"
   ]
  },
  {
   "cell_type": "code",
   "execution_count": 67,
   "metadata": {},
   "outputs": [
    {
     "name": "stdout",
     "output_type": "stream",
     "text": [
      "Probability that the ATGAT occurs exactly 1 times is  0.15820242774847754\n",
      "Probability that the ATGAT occurs exactly 2 times is  0.015077943993621584\n",
      "Probability that the ATGAT occurs exactly 3 times is  0.0009531186493198514\n",
      "Probability that the ATGAT occurs exactly 4 times is  4.49540320915827e-05\n",
      "Probability that the ATGAT occurs exactly 5 times is  1.6874240785108636e-06\n",
      "Probability that the ATGAT occurs exactly 6 times is  5.250863457079813e-08\n",
      "Probability that the ATGAT occurs exactly 7 times is  1.3931909745079631e-09\n",
      "Probability that the ATGAT occurs exactly 8 times is  3.21741317426719e-11\n",
      "Probability that the ATGAT occurs exactly 9 times is  6.569715181516862e-13\n"
     ]
    }
   ],
   "source": [
    "p = 1/(len(alphabet)**len(pattern))\n",
    "n = dna_length - len(pattern) + 1\n",
    "for t in range(1,10):\n",
    "    print(f\"Probability that the {pattern} occurs exactly {t} times is  {binom.pmf(t,n,p)}\")"
   ]
  },
  {
   "cell_type": "code",
   "execution_count": 68,
   "metadata": {},
   "outputs": [
    {
     "name": "stdout",
     "output_type": "stream",
     "text": [
      "Probability that the ATGAT occurs at least 1 times is  0.1742801857822459\n",
      "Probability that the ATGAT occurs at least 2 times is  0.016077758033779532\n",
      "Probability that the ATGAT occurs at least 3 times is  0.0009998140401588085\n",
      "Probability that the ATGAT occurs at least 4 times is  4.6695390838902284e-05\n",
      "Probability that the ATGAT occurs at least 5 times is  1.7413587474202075e-06\n",
      "Probability that the ATGAT occurs at least 6 times is  5.3934668842181566e-08\n",
      "Probability that the ATGAT occurs at least 7 times is  1.426034290652467e-09\n",
      "Probability that the ATGAT occurs at least 8 times is  3.2843283648276156e-11\n",
      "Probability that the ATGAT occurs at least 9 times is  6.691314169415818e-13\n"
     ]
    }
   ],
   "source": [
    "for t in range(1,10):\n",
    "    print(f\"Probability that the {pattern} occurs at least {t} times is  {1-binom.cdf(t-1,n,p)}\")"
   ]
  },
  {
   "cell_type": "code",
   "execution_count": null,
   "metadata": {},
   "outputs": [],
   "source": []
  }
 ],
 "metadata": {
  "kernelspec": {
   "display_name": "Python 3",
   "language": "python",
   "name": "python3"
  },
  "language_info": {
   "codemirror_mode": {
    "name": "ipython",
    "version": 3
   },
   "file_extension": ".py",
   "mimetype": "text/x-python",
   "name": "python",
   "nbconvert_exporter": "python",
   "pygments_lexer": "ipython3",
   "version": "3.8.2"
  }
 },
 "nbformat": 4,
 "nbformat_minor": 4
}
