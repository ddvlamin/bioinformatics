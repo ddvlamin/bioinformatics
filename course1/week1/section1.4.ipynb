{
 "cells": [
  {
   "cell_type": "code",
   "execution_count": 12,
   "metadata": {},
   "outputs": [],
   "source": [
    "from collections import Counter\n",
    "\n",
    "basepath = \"/home/ddvlamin/bioinformatics/course1/week1/\""
   ]
  },
  {
   "cell_type": "markdown",
   "metadata": {},
   "source": [
    "### Question 1"
   ]
  },
  {
   "cell_type": "code",
   "execution_count": 60,
   "metadata": {},
   "outputs": [],
   "source": [
    "def frequent_patterns(dna_string, k, t):\n",
    "    counter = Counter()\n",
    "    for i in range(len(dna_string)-k+1):\n",
    "        kmer = dna_string[i:i+k]\n",
    "        counter[kmer] += 1\n",
    "        \n",
    "    return set([kmer for kmer, cnt in counter.items() if cnt>=t])\n",
    "\n",
    "def count_patterns(dna_string, k):\n",
    "    counter = Counter()\n",
    "    for i in range(len(dna_string)-k+1):\n",
    "        kmer = dna_string[i:i+k]\n",
    "        counter[kmer] += 1\n",
    "        \n",
    "    return counter"
   ]
  },
  {
   "cell_type": "code",
   "execution_count": 62,
   "metadata": {},
   "outputs": [],
   "source": [
    "def find_clump(genome, k, L, t):\n",
    "    interval = genome[0:L]\n",
    "    counter = count_patterns(interval, k)\n",
    "    \n",
    "    result = set([kmer for kmer, cnt in counter.items() if cnt>=t])\n",
    "    \n",
    "    for l in range(1,len(genome)-L+1):\n",
    "        old_kmer = interval[0:k]\n",
    "        counter[old_kmer] -= 1\n",
    "        \n",
    "        interval = genome[l:l+L]\n",
    "        \n",
    "        new_kmer = interval[-k:]\n",
    "        counter[new_kmer] += 1\n",
    "        if counter[new_kmer] >= t:\n",
    "            result.add(new_kmer)\n",
    "        \n",
    "    return result"
   ]
  },
  {
   "cell_type": "code",
   "execution_count": 63,
   "metadata": {},
   "outputs": [
    {
     "data": {
      "text/plain": [
       "{'CGACA', 'GAAGA'}"
      ]
     },
     "execution_count": 63,
     "metadata": {},
     "output_type": "execute_result"
    }
   ],
   "source": [
    "genome = \"CGGACTCGACAGATGTGAAGAACGACAATGTGAAGACTCGACACGACAGAGTGAAGAGAAGAGGAAACATTGTAA\"\n",
    "k, L, t = (5, 50, 4)\n",
    "find_clump(genome, k, L, t)"
   ]
  },
  {
   "cell_type": "code",
   "execution_count": 64,
   "metadata": {},
   "outputs": [],
   "source": [
    "assert find_clump(genome, k, L, t) == set([\"CGACA\",\"GAAGA\"])"
   ]
  },
  {
   "cell_type": "code",
   "execution_count": 65,
   "metadata": {},
   "outputs": [
    {
     "data": {
      "text/plain": [
       "''"
      ]
     },
     "execution_count": 65,
     "metadata": {},
     "output_type": "execute_result"
    }
   ],
   "source": [
    "with open(basepath+\"datasets/dataset_4_5.txt\", \"r\") as fin:\n",
    "    genome, param_str = fin.read().strip().split(\"\\n\")\n",
    "    k, L, t = [int(i) for i in param_str.split(\" \")]\n",
    "\" \".join(find_clump(genome, k, L, t))"
   ]
  },
  {
   "cell_type": "code",
   "execution_count": 66,
   "metadata": {},
   "outputs": [
    {
     "name": "stdout",
     "output_type": "stream",
     "text": [
      "1904\n"
     ]
    }
   ],
   "source": [
    "with open(basepath+\"datasets/E_coli.txt\", \"r\") as fin:\n",
    "    genome = fin.read().strip()\n",
    "    k, L, t = (9, 500, 3)\n",
    "print(len(find_clump(genome, k, L, t)))"
   ]
  },
  {
   "cell_type": "code",
   "execution_count": null,
   "metadata": {},
   "outputs": [],
   "source": []
  }
 ],
 "metadata": {
  "kernelspec": {
   "display_name": "Python 3",
   "language": "python",
   "name": "python3"
  },
  "language_info": {
   "codemirror_mode": {
    "name": "ipython",
    "version": 3
   },
   "file_extension": ".py",
   "mimetype": "text/x-python",
   "name": "python",
   "nbconvert_exporter": "python",
   "pygments_lexer": "ipython3",
   "version": "3.8.2"
  }
 },
 "nbformat": 4,
 "nbformat_minor": 4
}
