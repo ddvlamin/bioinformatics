{
 "cells": [
  {
   "cell_type": "code",
   "execution_count": 5,
   "metadata": {},
   "outputs": [],
   "source": [
    "from itertools import product\n",
    "from collections import Counter\n",
    "\n",
    "from utilities import hamming_distance, generate_kmers, generate_all_kmers, NUCLEOTIDES"
   ]
  },
  {
   "cell_type": "code",
   "execution_count": 6,
   "metadata": {},
   "outputs": [],
   "source": [
    "def find_motif(dna_string, pattern):\n",
    "    k = len(pattern)\n",
    "    minimum_distance = len(dna_string)\n",
    "    motif = None\n",
    "    for kmer in generate_kmers(dna_string, k):\n",
    "        distance = hamming_distance(kmer, pattern)\n",
    "        if distance < minimum_distance:\n",
    "            minimum_distance = distance\n",
    "            motif = kmer\n",
    "    return motif, minimum_distance\n",
    "\n",
    "def find_motifs(dna_strings, pattern):\n",
    "    k = len(pattern)\n",
    "    motifs = []\n",
    "    distances = []\n",
    "    for dna_string in dna_strings:\n",
    "        motif, distance = find_motif(dna_string, pattern)\n",
    "        motifs.append(motif)\n",
    "        distances.append(distance)\n",
    "    return motifs, distances\n",
    "    \n",
    "def find_median_string(k, dna_strings):\n",
    "    minimum_distance = len(dna_strings)*len(dna_strings[0])\n",
    "    median_pattern = \"\"\n",
    "    for pattern in generate_all_kmers(k):\n",
    "        motifs, distances = find_motifs(dna_strings, pattern)\n",
    "        distance_total = sum(distances)\n",
    "        if distance_total < minimum_distance:\n",
    "            minimum_distance = distance_total\n",
    "            median_pattern = pattern\n",
    "    return median_pattern"
   ]
  },
  {
   "cell_type": "code",
   "execution_count": 7,
   "metadata": {},
   "outputs": [],
   "source": [
    "dna_strings = [\n",
    "    \"AAATTGACGCAT\",\n",
    "    \"GACGACCACGTT\",\n",
    "    \"CGTCAGCGCCTG\",\n",
    "    \"GCTGAGCACCGG\",\n",
    "    \"AGTTCGGGACAG\"\n",
    "]\n",
    "k = 3"
   ]
  },
  {
   "cell_type": "code",
   "execution_count": 8,
   "metadata": {},
   "outputs": [],
   "source": [
    "motif, distance = find_motif(dna_strings[0], \"AAA\")\n",
    "assert motif == \"AAA\"\n",
    "assert distance == 0"
   ]
  },
  {
   "cell_type": "code",
   "execution_count": 9,
   "metadata": {},
   "outputs": [],
   "source": [
    "assert find_median_string(k, dna_strings) == 'GAC'"
   ]
  },
  {
   "cell_type": "code",
   "execution_count": 10,
   "metadata": {},
   "outputs": [],
   "source": [
    "with open(\"./datasets/dataset_158_9.txt\") as fin:\n",
    "    dna_strings = []\n",
    "    for i, line in enumerate(fin):\n",
    "        if i==0:\n",
    "            k = int(line)\n",
    "        else:\n",
    "            dna_strings.append(line.strip())"
   ]
  },
  {
   "cell_type": "code",
   "execution_count": 11,
   "metadata": {},
   "outputs": [
    {
     "data": {
      "text/plain": [
       "'TTAACC'"
      ]
     },
     "execution_count": 11,
     "metadata": {},
     "output_type": "execute_result"
    }
   ],
   "source": [
    "find_median_string(k, dna_strings)"
   ]
  },
  {
   "cell_type": "code",
   "execution_count": 12,
   "metadata": {},
   "outputs": [],
   "source": [
    "dna_strings = [\n",
    "    \"CTCGATGAGTAGGAAAGTAGTTTCACTGGGCGAACCACCCCGGCGCTAATCCTAGTGCCC\",\n",
    "    \"GCAATCCTACCCGAGGCCACATATCAGTAGGAACTAGAACCACCACGGGTGGCTAGTTTC\",\n",
    "    \"GGTGTTGAACCACGGGGTTAGTTTCATCTATTGTAGGAATCGGCTTCAAATCCTACACAG\"\n",
    "]\n",
    "k = 7"
   ]
  },
  {
   "cell_type": "code",
   "execution_count": 13,
   "metadata": {},
   "outputs": [
    {
     "data": {
      "text/plain": [
       "'AATCCTA'"
      ]
     },
     "execution_count": 13,
     "metadata": {},
     "output_type": "execute_result"
    }
   ],
   "source": [
    "find_median_string(k, dna_strings)"
   ]
  },
  {
   "cell_type": "code",
   "execution_count": 16,
   "metadata": {},
   "outputs": [
    {
     "data": {
      "text/plain": [
       "0.0024"
      ]
     },
     "execution_count": 16,
     "metadata": {},
     "output_type": "execute_result"
    }
   ],
   "source": [
    "16*15*10/1000000"
   ]
  },
  {
   "cell_type": "code",
   "execution_count": null,
   "metadata": {},
   "outputs": [],
   "source": []
  }
 ],
 "metadata": {
  "kernelspec": {
   "display_name": "Python 3",
   "language": "python",
   "name": "python3"
  },
  "language_info": {
   "codemirror_mode": {
    "name": "ipython",
    "version": 3
   },
   "file_extension": ".py",
   "mimetype": "text/x-python",
   "name": "python",
   "nbconvert_exporter": "python",
   "pygments_lexer": "ipython3",
   "version": "3.8.2"
  }
 },
 "nbformat": 4,
 "nbformat_minor": 4
}
