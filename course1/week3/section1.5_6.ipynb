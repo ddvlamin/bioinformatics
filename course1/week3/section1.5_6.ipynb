{
 "cells": [
  {
   "cell_type": "code",
   "execution_count": 25,
   "metadata": {},
   "outputs": [],
   "source": [
    "from collections import Counter\n",
    "\n",
    "import numpy as np\n",
    "\n",
    "from utilities import generate_kmers, NUCLEOTIDES"
   ]
  },
  {
   "cell_type": "code",
   "execution_count": 2,
   "metadata": {},
   "outputs": [],
   "source": [
    "nucl2ind = {nucleotide: i for i, nucleotide in enumerate(NUCLEOTIDES)}"
   ]
  },
  {
   "cell_type": "code",
   "execution_count": 3,
   "metadata": {},
   "outputs": [],
   "source": [
    "def profile_most_probable_kmer(dna_string, k, profile):\n",
    "    max_prob = 0\n",
    "    most_prob_kmer = dna_string[0:k]\n",
    "    for kmer in generate_kmers(dna_string, k):\n",
    "        prob = np.prod([profile[nucl2ind[nucl],i] for i, nucl in enumerate(kmer)])\n",
    "        if prob > max_prob:\n",
    "            max_prob = prob\n",
    "            most_prob_kmer = kmer\n",
    "    return most_prob_kmer"
   ]
  },
  {
   "cell_type": "code",
   "execution_count": 4,
   "metadata": {},
   "outputs": [],
   "source": [
    "dna_string = \"ACCTGTTTATTGCCTAAGTTCCGAACAAACCCAATATAGCCCGAGGGCCT\"\n",
    "k = 5\n",
    "profile = np.array([\n",
    "    [0.2, 0.2, 0.3, 0.2, 0.3],\n",
    "    [0.4, 0.3, 0.1, 0.5, 0.1],\n",
    "    [0.3, 0.3, 0.5, 0.2, 0.4],\n",
    "    [0.1, 0.2, 0.1, 0.1, 0.2]\n",
    "])"
   ]
  },
  {
   "cell_type": "code",
   "execution_count": 5,
   "metadata": {},
   "outputs": [],
   "source": [
    "assert profile_most_probable_kmer(dna_string, k, profile) == 'CCGAG'"
   ]
  },
  {
   "cell_type": "code",
   "execution_count": 6,
   "metadata": {},
   "outputs": [],
   "source": [
    "with open(\"./datasets/dataset_159_3.txt\") as fin:\n",
    "    profile = []\n",
    "    for i, line in enumerate(fin):\n",
    "        if i==0:\n",
    "            dna_string = line.strip()\n",
    "        elif i==1:\n",
    "            k = int(line)\n",
    "        else:\n",
    "            profile.append([float(f) for f in line.strip().split(\" \")])\n",
    "    profile = np.array(profile)"
   ]
  },
  {
   "cell_type": "code",
   "execution_count": 7,
   "metadata": {},
   "outputs": [
    {
     "data": {
      "text/plain": [
       "'CACAATACCGTACA'"
      ]
     },
     "execution_count": 7,
     "metadata": {},
     "output_type": "execute_result"
    }
   ],
   "source": [
    "profile_most_probable_kmer(dna_string, k, profile)"
   ]
  },
  {
   "cell_type": "code",
   "execution_count": 16,
   "metadata": {},
   "outputs": [],
   "source": [
    "def init_motif_matrix(dna_strings, k, t):\n",
    "    motif_matrix = []\n",
    "    for i in range(t):\n",
    "        motif_matrix.append(dna_strings[i][:k])\n",
    "    return motif_matrix\n",
    "\n",
    "\n",
    "def create_profile(motifs):\n",
    "    profile = np.zeros((4,len(motifs[0])))\n",
    "    for coli in range(len(motifs[0])):\n",
    "        for rowi in range(len(motifs)):\n",
    "            i = nucl2ind[motifs[rowi][coli]]\n",
    "            profile[i, coli] += 1/len(motifs)\n",
    "    return profile\n",
    "\n",
    "def create_laplace_profile(motifs):\n",
    "    profile = np.ones((4,len(motifs[0])))\n",
    "    for coli in range(len(motifs[0])):\n",
    "        for rowi in range(len(motifs)):\n",
    "            i = nucl2ind[motifs[rowi][coli]]\n",
    "            profile[i, coli] += 1/len(motifs)\n",
    "    return profile\n",
    "\n",
    "def score_motifs(motifs):\n",
    "    score = 0\n",
    "    for coli in range(len(motifs[0])):\n",
    "        c = Counter()\n",
    "        for rowi in range(len(motifs)):    \n",
    "            c[motifs[rowi][coli]] += 1\n",
    "        most_frequent_nucl = max(c.items(), key=lambda x: x[1])[0]\n",
    "        c.pop(most_frequent_nucl)\n",
    "        score += sum(c.values())\n",
    "    return score"
   ]
  },
  {
   "cell_type": "code",
   "execution_count": 9,
   "metadata": {},
   "outputs": [
    {
     "data": {
      "text/plain": [
       "array([[0.66666667, 0.33333333],\n",
       "       [0.        , 0.33333333],\n",
       "       [0.        , 0.33333333],\n",
       "       [0.33333333, 0.        ]])"
      ]
     },
     "execution_count": 9,
     "metadata": {},
     "output_type": "execute_result"
    }
   ],
   "source": [
    "create_profile([\n",
    "    \"AA\",\n",
    "    \"AC\",\n",
    "    \"TG\"\n",
    "])"
   ]
  },
  {
   "cell_type": "code",
   "execution_count": 10,
   "metadata": {},
   "outputs": [
    {
     "data": {
      "text/plain": [
       "3"
      ]
     },
     "execution_count": 10,
     "metadata": {},
     "output_type": "execute_result"
    }
   ],
   "source": [
    "score_motifs([\n",
    "    \"AA\",\n",
    "    \"AC\",\n",
    "    \"TG\"\n",
    "])"
   ]
  },
  {
   "cell_type": "code",
   "execution_count": 11,
   "metadata": {},
   "outputs": [],
   "source": [
    "def greedy_motif_search(dna_strings, k, profile_function):\n",
    "    t = len(dna_strings)\n",
    "    best_motifs = init_motif_matrix(dna_strings, k, t)\n",
    "    best_score = len(dna_strings)*len(dna_strings[0])\n",
    "    for kmer_motif in generate_kmers(dna_strings[0], k):\n",
    "        motif_matrix = []\n",
    "        motif_matrix.append(kmer_motif)\n",
    "        for i in range(1, t):\n",
    "            profile = profile_function(motif_matrix[0:i])\n",
    "            most_prob_kmer = profile_most_probable_kmer(dna_strings[i], k, profile)\n",
    "            motif_matrix.append(most_prob_kmer)\n",
    "        score = score_motifs(motif_matrix)\n",
    "        if score < best_score:\n",
    "            best_score = score\n",
    "            best_motifs = motif_matrix\n",
    "    return best_motifs"
   ]
  },
  {
   "cell_type": "code",
   "execution_count": 12,
   "metadata": {},
   "outputs": [],
   "source": [
    "k=3\n",
    "dna_strings = [\n",
    "    \"GGCGTTCAGGCA\",\n",
    "    \"AAGAATCAGTCA\",\n",
    "    \"CAAGGAGTTCGC\",\n",
    "    \"CACGTCAATCAC\",\n",
    "    \"CAATAATATTCG\"\n",
    "]"
   ]
  },
  {
   "cell_type": "code",
   "execution_count": 13,
   "metadata": {},
   "outputs": [
    {
     "data": {
      "text/plain": [
       "['CAG', 'CAG', 'CAA', 'CAA', 'CAA']"
      ]
     },
     "execution_count": 13,
     "metadata": {},
     "output_type": "execute_result"
    }
   ],
   "source": [
    "assert greedy_motif_search(dna_strings, k, create_profile) == ['CAG', 'CAG', 'CAA', 'CAA', 'CAA']"
   ]
  },
  {
   "cell_type": "code",
   "execution_count": 14,
   "metadata": {},
   "outputs": [],
   "source": [
    "with open(\"./datasets/dataset_159_5.txt\") as fin:\n",
    "    dna_strings = []\n",
    "    for i, line in enumerate(fin):\n",
    "        if i==0:\n",
    "            k, t = line.strip().split(\" \")\n",
    "            k = int(k)\n",
    "        else:\n",
    "            dna_strings.append(line.strip())\n",
    "   "
   ]
  },
  {
   "cell_type": "code",
   "execution_count": 15,
   "metadata": {},
   "outputs": [
    {
     "name": "stdout",
     "output_type": "stream",
     "text": [
      "TCAAATCGGGTA\n",
      "CAGAAAAGTGGA\n",
      "AAGCGGCTGCAC\n",
      "AACGGACTTCCT\n",
      "TCCCAGCGGGCA\n",
      "ATGGAGAAAAAC\n",
      "TCCGATCGAGGT\n",
      "TCCCAACGGGAC\n",
      "TCGGGGCTGCCT\n",
      "TTCCGAAATGTC\n",
      "TGTTCGCTCCCA\n",
      "TGGCAAATGCCA\n",
      "ACGCAACTAGGT\n",
      "TCCGAACGTGTC\n",
      "TCGAAACGTGAA\n",
      "ACTGAAAAGCTA\n",
      "AATGAGCTGGAC\n",
      "ACCCAAAGTGGC\n",
      "TGGCAGAATGGT\n",
      "TCGAAGCGTGCA\n",
      "TGCAATCTGGCT\n",
      "TCGCAACGCGGA\n",
      "TCGGATCGGGGC\n",
      "TCCGAACGAGTT\n",
      "TCTAAACGGGGT\n"
     ]
    }
   ],
   "source": [
    "for motif in greedy_motif_search(dna_strings, k, create_profile):\n",
    "    print(motif)"
   ]
  },
  {
   "cell_type": "code",
   "execution_count": 21,
   "metadata": {},
   "outputs": [],
   "source": [
    "k=3\n",
    "dna_strings = [\n",
    "    \"GGCGTTCAGGCA\",\n",
    "    \"AAGAATCAGTCA\",\n",
    "    \"CAAGGAGTTCGC\",\n",
    "    \"CACGTCAATCAC\",\n",
    "    \"CAATAATATTCG\"\n",
    "]"
   ]
  },
  {
   "cell_type": "code",
   "execution_count": 22,
   "metadata": {},
   "outputs": [],
   "source": [
    "assert greedy_motif_search(dna_strings, k, create_laplace_profile) == ['TTC', 'ATC', 'TTC', 'ATC', 'TTC']"
   ]
  },
  {
   "cell_type": "code",
   "execution_count": 23,
   "metadata": {},
   "outputs": [],
   "source": [
    "with open(\"./datasets/dataset_160_9.txt\") as fin:\n",
    "    dna_strings = []\n",
    "    for i, line in enumerate(fin):\n",
    "        if i==0:\n",
    "            k, t = line.strip().split(\" \")\n",
    "            k = int(k)\n",
    "        else:\n",
    "            dna_strings.append(line.strip())"
   ]
  },
  {
   "cell_type": "code",
   "execution_count": 24,
   "metadata": {},
   "outputs": [
    {
     "name": "stdout",
     "output_type": "stream",
     "text": [
      "CGTATATACAAT\n",
      "TGTATAAACAAA\n",
      "AGTATACGCAAC\n",
      "TGTATACCCAAC\n",
      "TGTATACCCAAT\n",
      "TGTATAGGCAAG\n",
      "AGTATATTCAAA\n",
      "AGTATAAGCAAT\n",
      "CGTATATCCAAC\n",
      "GGTATAGACAAA\n",
      "AGTATACCCAAC\n",
      "TGTATATGCAAT\n",
      "AGTATACTCAAT\n",
      "TGTATAAACAAC\n",
      "GGTATACGCAAG\n",
      "TGTATACGCAAG\n",
      "TGTATATCCAAT\n",
      "GGTATACCCAAA\n",
      "AGTATAGCCAAC\n",
      "AGTATATACAAC\n",
      "GGTATATGCAAA\n",
      "TGTATATGCAAG\n",
      "GGTATAACCAAA\n",
      "AGTATATACAAG\n",
      "TGTATAAGCAAC\n"
     ]
    }
   ],
   "source": [
    "for motif in greedy_motif_search(dna_strings, k, create_laplace_profile):\n",
    "    print(motif)"
   ]
  },
  {
   "cell_type": "code",
   "execution_count": 30,
   "metadata": {},
   "outputs": [
    {
     "data": {
      "text/plain": [
       "0.6931471805599453"
      ]
     },
     "execution_count": 30,
     "metadata": {},
     "output_type": "execute_result"
    }
   ],
   "source": [
    "-2*0.5*np.log(0.5)"
   ]
  },
  {
   "cell_type": "code",
   "execution_count": 31,
   "metadata": {},
   "outputs": [
    {
     "data": {
      "text/plain": [
       "1.3862943611198906"
      ]
     },
     "execution_count": 31,
     "metadata": {},
     "output_type": "execute_result"
    }
   ],
   "source": [
    "-4*0.25*np.log(0.25)"
   ]
  },
  {
   "cell_type": "code",
   "execution_count": 32,
   "metadata": {},
   "outputs": [
    {
     "data": {
      "text/plain": [
       "1.0397207708399179"
      ]
     },
     "execution_count": 32,
     "metadata": {},
     "output_type": "execute_result"
    }
   ],
   "source": [
    "-2*0.25*np.log(0.25)-0.5*np.log(0.5)"
   ]
  },
  {
   "cell_type": "code",
   "execution_count": 35,
   "metadata": {},
   "outputs": [
    {
     "data": {
      "text/plain": [
       "0.0024"
      ]
     },
     "execution_count": 35,
     "metadata": {},
     "output_type": "execute_result"
    }
   ],
   "source": [
    "4*3*10*4*5*1/1000000"
   ]
  },
  {
   "cell_type": "code",
   "execution_count": null,
   "metadata": {},
   "outputs": [],
   "source": []
  }
 ],
 "metadata": {
  "kernelspec": {
   "display_name": "Python 3",
   "language": "python",
   "name": "python3"
  },
  "language_info": {
   "codemirror_mode": {
    "name": "ipython",
    "version": 3
   },
   "file_extension": ".py",
   "mimetype": "text/x-python",
   "name": "python",
   "nbconvert_exporter": "python",
   "pygments_lexer": "ipython3",
   "version": "3.8.2"
  }
 },
 "nbformat": 4,
 "nbformat_minor": 4
}
