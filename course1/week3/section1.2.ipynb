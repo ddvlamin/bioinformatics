{
 "cells": [
  {
   "cell_type": "code",
   "execution_count": 1,
   "metadata": {},
   "outputs": [],
   "source": [
    "from utilities import kmer_neighbors, generate_kmers, approximate_matching"
   ]
  },
  {
   "cell_type": "code",
   "execution_count": 2,
   "metadata": {},
   "outputs": [
    {
     "data": {
      "text/plain": [
       "{'ATG': 0,\n",
       " 'ATC': 0,\n",
       " 'ATA': 0,\n",
       " 'AAT': 0,\n",
       " 'ATT': 0,\n",
       " 'TTT': 0,\n",
       " 'GTT': 0,\n",
       " 'CTT': 0,\n",
       " 'AGT': 0,\n",
       " 'ACT': 0}"
      ]
     },
     "execution_count": 2,
     "metadata": {},
     "output_type": "execute_result"
    }
   ],
   "source": [
    "kmer_neighbors(\"ATT\",1)"
   ]
  },
  {
   "cell_type": "code",
   "execution_count": 13,
   "metadata": {},
   "outputs": [],
   "source": [
    "def motif_enumeration(dna_strings, k, distance):\n",
    "    patterns = set()\n",
    "    for dna_string in dna_strings: \n",
    "        for kmer in generate_kmers(dna_string, k):\n",
    "            for neighbor in kmer_neighbors(kmer, k).keys():\n",
    "                matches_all = True\n",
    "                for s in dna_strings:  \n",
    "                    matches = approximate_matching(neighbor, s, distance)\n",
    "                    if not matches:\n",
    "                        matches_all &= False\n",
    "                if matches_all:\n",
    "                    patterns.add(neighbor)\n",
    "    return patterns"
   ]
  },
  {
   "cell_type": "code",
   "execution_count": 16,
   "metadata": {},
   "outputs": [],
   "source": [
    "dna_strings = [\n",
    "    \"ATTTGGC\",\n",
    "    \"TGCCTTA\",\n",
    "    \"CGGTATC\",\n",
    "    \"GAAAATT\"\n",
    "]\n",
    "\n",
    "assert motif_enumeration(dna_strings, 3, 1) == set([\"ATA\",\"ATT\",\"GTT\",\"TTT\"])"
   ]
  },
  {
   "cell_type": "code",
   "execution_count": 17,
   "metadata": {},
   "outputs": [
    {
     "data": {
      "text/plain": [
       "{'AGGTG', 'AGTGG', 'CGTGG', 'GAGGT', 'GGAGG', 'GGTCG', 'GGTGG', 'TGTGG'}"
      ]
     },
     "execution_count": 17,
     "metadata": {},
     "output_type": "execute_result"
    }
   ],
   "source": [
    "with open(\"datasets/dataset_156_8.txt\") as fin:\n",
    "    dna_strings = []\n",
    "    for i, line in enumerate(fin):\n",
    "        if i==0:\n",
    "            k, distance = line.strip().split(\" \")\n",
    "        else:\n",
    "            dna_strings.append(line.strip())\n",
    "\n",
    "motif_enumeration(dna_strings, int(k), int(distance))"
   ]
  },
  {
   "cell_type": "code",
   "execution_count": 18,
   "metadata": {},
   "outputs": [
    {
     "data": {
      "text/plain": [
       "'AGTGG TGTGG CGTGG GGTCG AGGTG GGAGG GAGGT GGTGG'"
      ]
     },
     "execution_count": 18,
     "metadata": {},
     "output_type": "execute_result"
    }
   ],
   "source": [
    "l = {'AGGTG', 'AGTGG', 'CGTGG', 'GAGGT', 'GGAGG', 'GGTCG', 'GGTGG', 'TGTGG'}\n",
    "\" \".join(l)"
   ]
  },
  {
   "cell_type": "code",
   "execution_count": null,
   "metadata": {},
   "outputs": [],
   "source": []
  }
 ],
 "metadata": {
  "kernelspec": {
   "display_name": "Python 3",
   "language": "python",
   "name": "python3"
  },
  "language_info": {
   "codemirror_mode": {
    "name": "ipython",
    "version": 3
   },
   "file_extension": ".py",
   "mimetype": "text/x-python",
   "name": "python",
   "nbconvert_exporter": "python",
   "pygments_lexer": "ipython3",
   "version": "3.8.2"
  }
 },
 "nbformat": 4,
 "nbformat_minor": 4
}
