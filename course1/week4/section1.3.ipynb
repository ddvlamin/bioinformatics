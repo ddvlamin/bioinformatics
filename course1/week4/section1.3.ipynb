{
 "cells": [
  {
   "cell_type": "code",
   "execution_count": 1,
   "metadata": {},
   "outputs": [],
   "source": [
    "from copy import deepcopy\n",
    "\n",
    "import numpy as np\n",
    "from numpy.random import randint, multinomial\n",
    "\n",
    "from utilities import create_laplace_profile, kmer_probabilitiy, score_motifs, select_random_motifs"
   ]
  },
  {
   "cell_type": "code",
   "execution_count": 28,
   "metadata": {},
   "outputs": [],
   "source": [
    "def sub_motifs(motifs, i):\n",
    "    motifs_i = deepcopy(motifs[:i])\n",
    "    motifs_i.extend(deepcopy(motifs[i+1:]))\n",
    "    return motifs_i\n",
    "\n",
    "def profile_randomly_generated_kmer(dna_string, profile):\n",
    "    k = profile.shape[1]\n",
    "    kmer_probs = []\n",
    "    for i in range(0, len(dna_string)-k+1):\n",
    "        kmer = dna_string[i:i+k]\n",
    "        kmer_probs.append(kmer_probabilitiy(kmer, profile))\n",
    "    kmer_probs /= sum(kmer_probs)\n",
    "    outcomes = multinomial(1, kmer_probs)\n",
    "    selected_index = np.nonzero(outcomes)[0][0]\n",
    "    return dna_string[selected_index:selected_index+k]"
   ]
  },
  {
   "cell_type": "code",
   "execution_count": 17,
   "metadata": {},
   "outputs": [],
   "source": [
    "k = 8\n",
    "t = 5\n",
    "N = 100\n",
    "dna_strings = [\n",
    "    \"CGCCCCTCTCGGGGGTGTTCAGTAACCGGCCA\",\n",
    "    \"GGGCGAGGTATGTGTAAGTGCCAAGGTGCCAG\",\n",
    "    \"TAGTACCGAGACCGAAAGAAGTATACAGGCGT\",\n",
    "    \"TAGATCAAGTTTCAGGTGCACGTCGGTGAACC\",\n",
    "    \"AATCCACCAGCTCCACGTGCAATGTTGGCCTA\"\n",
    "]"
   ]
  },
  {
   "cell_type": "code",
   "execution_count": 29,
   "metadata": {},
   "outputs": [],
   "source": [
    "def gibbs_sampler_main(dna_strings, k, t, N):\n",
    "    motifs = select_random_motifs(dna_strings, k)\n",
    "    best_motifs = deepcopy(motifs)\n",
    "    best_score = score_motifs(motifs)\n",
    "    for j in range(N):\n",
    "        i = randint(t)\n",
    "        motifs_i = sub_motifs(motifs, i)\n",
    "        profile = create_laplace_profile(motifs_i)\n",
    "        motifs[i] = profile_randomly_generated_kmer(dna_strings[i], profile)\n",
    "        score = score_motifs(motifs)\n",
    "        if score < best_score:\n",
    "            best_motifs = deepcopy(motifs)\n",
    "            best_score = score\n",
    "    return best_motifs\n",
    "\n",
    "def gibbs_sampler(dna_strings, k, t, N, epochs=20):\n",
    "    motifs = gibbs_sampler_main(dna_strings, k, t, N)\n",
    "    best_motifs = deepcopy(motifs)\n",
    "    best_score = score_motifs(motifs)\n",
    "    for j in range(epochs):\n",
    "        motifs = gibbs_sampler_main(dna_strings, k, t, N)\n",
    "        score = score_motifs(motifs)\n",
    "        if score < best_score:\n",
    "            best_motifs = deepcopy(motifs)\n",
    "            best_score = score\n",
    "    return best_motifs"
   ]
  },
  {
   "cell_type": "code",
   "execution_count": 31,
   "metadata": {},
   "outputs": [],
   "source": [
    "result = gibbs_sampler(dna_strings, k, t, N)"
   ]
  },
  {
   "cell_type": "code",
   "execution_count": 32,
   "metadata": {},
   "outputs": [],
   "source": [
    "expected_result = {\n",
    "    \"TCTCGGGG\",\n",
    "    \"CCAAGGTG\",\n",
    "    \"TACAGGCG\",\n",
    "    \"TTCAGGTG\",\n",
    "    \"TCCACGTG\"\n",
    "}\n",
    "assert set(result) == expected_result"
   ]
  },
  {
   "cell_type": "code",
   "execution_count": 35,
   "metadata": {},
   "outputs": [],
   "source": [
    "with open(\"datasets/dataset_163_4.txt\",\"r\") as fin:\n",
    "    dna = []\n",
    "    for i, line in enumerate(fin):\n",
    "        if i==0:\n",
    "            k, _, N = line.strip().split(\" \")\n",
    "            k = int(k)\n",
    "            N = int(N)\n",
    "        else:\n",
    "            dna.append(line.strip())\n",
    "    t = len(dna)"
   ]
  },
  {
   "cell_type": "code",
   "execution_count": 37,
   "metadata": {},
   "outputs": [],
   "source": [
    "result = gibbs_sampler(dna, k, t, N)"
   ]
  },
  {
   "cell_type": "code",
   "execution_count": 38,
   "metadata": {},
   "outputs": [
    {
     "name": "stdout",
     "output_type": "stream",
     "text": [
      "TCCAATTCTCTCCCG\n",
      "CCCCGAGCATGATCG\n",
      "CCCATGTCATGATCG\n",
      "CCCAATAGGTGATCG\n",
      "CTATATGCATGATCG\n",
      "CCCAATGCATTTACG\n",
      "CCTCTTGCATGATCG\n",
      "CCCAAAAAATGATCG\n",
      "GTTAATGCATGATCG\n",
      "CCCATATCATGATCG\n",
      "CCCAATCTTTGATCG\n",
      "ATCAATGCATGATCC\n",
      "CCCAATGCACACTCG\n",
      "CCCAAGCTATGATCG\n",
      "GCCAATGCATGATGC\n",
      "CCCAATGCATGACGA\n",
      "CCCAATGCTGCATCG\n",
      "CCCAATGTCGGATCG\n",
      "CCCGTCGCATGATCG\n",
      "CCCAATGCATGTGTG\n"
     ]
    }
   ],
   "source": [
    "for i in result:\n",
    "    print(i)"
   ]
  },
  {
   "cell_type": "code",
   "execution_count": null,
   "metadata": {},
   "outputs": [],
   "source": []
  }
 ],
 "metadata": {
  "kernelspec": {
   "display_name": "Python 3",
   "language": "python",
   "name": "python3"
  },
  "language_info": {
   "codemirror_mode": {
    "name": "ipython",
    "version": 3
   },
   "file_extension": ".py",
   "mimetype": "text/x-python",
   "name": "python",
   "nbconvert_exporter": "python",
   "pygments_lexer": "ipython3",
   "version": "3.8.3"
  }
 },
 "nbformat": 4,
 "nbformat_minor": 4
}
