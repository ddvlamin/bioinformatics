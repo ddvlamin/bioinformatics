{
 "cells": [
  {
   "cell_type": "code",
   "execution_count": 18,
   "metadata": {},
   "outputs": [],
   "source": [
    "from copy import deepcopy\n",
    "\n",
    "import numpy as np\n",
    "from numpy.random import randint\n",
    "\n",
    "from utilities import create_laplace_profile, profile_most_probable_kmer, score_motifs"
   ]
  },
  {
   "cell_type": "code",
   "execution_count": 13,
   "metadata": {},
   "outputs": [
    {
     "data": {
      "text/plain": [
       "array([3, 5, 4, 3, 3, 0, 2, 0, 4, 4])"
      ]
     },
     "execution_count": 13,
     "metadata": {},
     "output_type": "execute_result"
    }
   ],
   "source": [
    "t=10\n",
    "k=4\n",
    "randint(0, size=10, high=t-k+1)"
   ]
  },
  {
   "cell_type": "code",
   "execution_count": 14,
   "metadata": {},
   "outputs": [],
   "source": [
    "def select_random_motifs(dna, k):\n",
    "    t = len(dna)\n",
    "    motif_start_indices = randint(0, size=t, high=len(dna[0])-k+1)\n",
    "    motifs = []\n",
    "    for i, start in enumerate(motif_start_indices):\n",
    "        motifs.append(dna[i][start:start+k])\n",
    "    return motifs\n",
    " "
   ]
  },
  {
   "cell_type": "code",
   "execution_count": 23,
   "metadata": {},
   "outputs": [],
   "source": [
    "def randomized_motif_search_inner(dna, k):\n",
    "    motifs = select_random_motifs(dna, k)\n",
    "    best_motifs = deepcopy(motifs)\n",
    "    best_score = score_motifs(best_motifs)\n",
    "    while True:\n",
    "        profile = create_laplace_profile(motifs)\n",
    "        motifs = []\n",
    "        for dna_string in dna:\n",
    "            motif = profile_most_probable_kmer(dna_string, k, profile)\n",
    "            motifs.append(motif)\n",
    "        score = score_motifs(motifs)\n",
    "        if score < best_score:\n",
    "            best_motifs = deepcopy(motifs)\n",
    "            best_score = score\n",
    "        else:\n",
    "            return best_motifs\n",
    "        \n",
    "def randomized_motif_search(dna, k, n_iter=1000):\n",
    "    best_motifs = randomized_motif_search_inner(dna, k)\n",
    "    best_score = score_motifs(best_motifs)\n",
    "    for i in range(n_iter-1):\n",
    "        motifs = randomized_motif_search_inner(dna, k)\n",
    "        score = score_motifs(motifs)        \n",
    "        if score < best_score:\n",
    "            best_motifs = deepcopy(motifs)\n",
    "            best_score = score\n",
    "    return best_motifs"
   ]
  },
  {
   "cell_type": "code",
   "execution_count": 24,
   "metadata": {},
   "outputs": [],
   "source": [
    "k = 8 \n",
    "dna = [\n",
    "    \"CGCCCCTCTCGGGGGTGTTCAGTAAACGGCCA\",\n",
    "    \"GGGCGAGGTATGTGTAAGTGCCAAGGTGCCAG\",\n",
    "    \"TAGTACCGAGACCGAAAGAAGTATACAGGCGT\",\n",
    "    \"TAGATCAAGTTTCAGGTGCACGTCGGTGAACC\",\n",
    "    \"AATCCACCAGCTCCACGTGCAATGTTGGCCTA\"\n",
    "]"
   ]
  },
  {
   "cell_type": "code",
   "execution_count": 26,
   "metadata": {},
   "outputs": [],
   "source": [
    "expected = [\n",
    "    \"TCTCGGGG\",\n",
    "    \"CCAAGGTG\",\n",
    "    \"TACAGGCG\",\n",
    "    \"TTCAGGTG\",\n",
    "    \"TCCACGTG\"\n",
    "]\n",
    "\n",
    "assert randomized_motif_search(dna, k) == expected"
   ]
  },
  {
   "cell_type": "code",
   "execution_count": null,
   "metadata": {},
   "outputs": [],
   "source": []
  }
 ],
 "metadata": {
  "kernelspec": {
   "display_name": "Python 3",
   "language": "python",
   "name": "python3"
  },
  "language_info": {
   "codemirror_mode": {
    "name": "ipython",
    "version": 3
   },
   "file_extension": ".py",
   "mimetype": "text/x-python",
   "name": "python",
   "nbconvert_exporter": "python",
   "pygments_lexer": "ipython3",
   "version": "3.8.2"
  }
 },
 "nbformat": 4,
 "nbformat_minor": 4
}
