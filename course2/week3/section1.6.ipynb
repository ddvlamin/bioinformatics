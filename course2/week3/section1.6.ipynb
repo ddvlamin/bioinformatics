{
 "cells": [
  {
   "cell_type": "code",
   "execution_count": 1,
   "metadata": {},
   "outputs": [],
   "source": [
    "from collections import defaultdict\n",
    "\n",
    "from utils import *"
   ]
  },
  {
   "cell_type": "code",
   "execution_count": 9,
   "metadata": {},
   "outputs": [],
   "source": [
    "n = 47538"
   ]
  },
  {
   "cell_type": "code",
   "execution_count": 10,
   "metadata": {},
   "outputs": [],
   "source": [
    "def compute_number_of_linear_subpeptides(n):\n",
    "    cyclics = 2+n*(n-1)\n",
    "    \n",
    "    def iterative_sum(k):\n",
    "        cnt = 0\n",
    "        for i in range(1,k):\n",
    "            cnt += i\n",
    "        return cnt\n",
    "    \n",
    "    cyclics -= iterative_sum(n-1)\n",
    "    \n",
    "    return cyclics"
   ]
  },
  {
   "cell_type": "code",
   "execution_count": 11,
   "metadata": {},
   "outputs": [
    {
     "data": {
      "text/plain": [
       "1129954492"
      ]
     },
     "execution_count": 11,
     "metadata": {},
     "output_type": "execute_result"
    }
   ],
   "source": [
    "compute_number_of_linear_subpeptides(n)"
   ]
  },
  {
   "cell_type": "code",
   "execution_count": 2,
   "metadata": {},
   "outputs": [],
   "source": [
    "AA2MASS = load_mass()\n",
    "MASSES = sorted(set(AA2MASS.values()))\n",
    "print(MASSES)"
   ]
  },
  {
   "cell_type": "code",
   "execution_count": 83,
   "metadata": {},
   "outputs": [],
   "source": [
    "def cyclic_spectrum_from_aa_mass(peptide_masses):\n",
    "    prefix_mass = [0]\n",
    "    for i, m in enumerate(peptide_masses):\n",
    "        prefix_mass.append(prefix_mass[i]+m)\n",
    "    spectrum = [0]    \n",
    "    for i in range(len(peptide_masses)):\n",
    "        for j in range(i+1,len(peptide_masses)+1):\n",
    "            m = prefix_mass[j]-prefix_mass[i]\n",
    "            spectrum.append(m)\n",
    "            if i>0 and j<len(peptide_masses):\n",
    "                spectrum.append(prefix_mass[-1]-m)\n",
    "    return sorted(spectrum)\n",
    "\n",
    "def linear_spectrum_from_aa_mass(peptide_masses):\n",
    "    prefix_mass = [0]\n",
    "    for i, m in enumerate(peptide_masses):\n",
    "        prefix_mass.append(prefix_mass[i]+m)\n",
    "    spectrum = [0]    \n",
    "    for i in range(len(peptide_masses)):\n",
    "        for j in range(i+1,len(peptide_masses)+1):\n",
    "            m = prefix_mass[j]-prefix_mass[i]\n",
    "            spectrum.append(m)\n",
    "    return sorted(spectrum)"
   ]
  },
  {
   "cell_type": "code",
   "execution_count": 84,
   "metadata": {},
   "outputs": [],
   "source": [
    "def expand_candidates(candidates, masses=MASSES):\n",
    "    new_candidates = list()\n",
    "    for candidate in candidates:\n",
    "        for m in masses:\n",
    "            new_candidates.append(candidate + [m])\n",
    "    return new_candidates\n",
    "    \n",
    "def is_consistent(candidate, spectrum):\n",
    "    \"\"\"\n",
    "    spectrum as dict of mass to counts\n",
    "    \"\"\"\n",
    "    candidate_spectrum = linear_spectrum_from_aa_mass(candidate)\n",
    "    candidate_counts = defaultdict(int)\n",
    "    for m in candidate_spectrum:\n",
    "        if m not in spectrum:\n",
    "            return False\n",
    "        candidate_counts[m] += 1\n",
    "        if candidate_counts[m] > spectrum[m]:\n",
    "            return False\n",
    "    return True\n",
    "\n",
    "def cyclopeptide_sequencing(spectrum, masses=MASSES):\n",
    "    parent_mass = spectrum[-1]\n",
    "    spectrum_counts = defaultdict(int)\n",
    "    for i in spectrum:\n",
    "        spectrum_counts[i] += 1\n",
    "    \n",
    "    candidate_peptides = [[]]\n",
    "    final_peptides = set()\n",
    "    while candidate_peptides:\n",
    "        candidate_peptides = expand_candidates(candidate_peptides)\n",
    "        remaining_candidates = []\n",
    "        for candidate_peptide in candidate_peptides:\n",
    "            peptide_mass = sum(candidate_peptide)\n",
    "            if peptide_mass == parent_mass:\n",
    "                peptide_string = \"-\".join((str(m) for m in candidate_peptide))\n",
    "                if cyclic_spectrum_from_aa_mass(candidate_peptide) and peptide_string not in final_peptides:\n",
    "                    final_peptides.add(peptide_string)\n",
    "            elif is_consistent(candidate_peptide, spectrum_counts):    \n",
    "                remaining_candidates.append(candidate_peptide)\n",
    "        candidate_peptides = remaining_candidates\n",
    "    return final_peptides"
   ]
  },
  {
   "cell_type": "code",
   "execution_count": 85,
   "metadata": {},
   "outputs": [],
   "source": [
    "spectrum = [0, 113, 128, 186, 241, 299, 314, 427]\n",
    "expected = {\"186-128-113\", \"186-113-128\", \"128-186-113\", \"128-113-186\", \"113-186-128\", \"113-128-186\"}"
   ]
  },
  {
   "cell_type": "code",
   "execution_count": 86,
   "metadata": {},
   "outputs": [],
   "source": [
    "final_peptides = cyclopeptide_sequencing(spectrum)"
   ]
  },
  {
   "cell_type": "code",
   "execution_count": 87,
   "metadata": {},
   "outputs": [],
   "source": [
    "assert expected == final_peptides"
   ]
  },
  {
   "cell_type": "code",
   "execution_count": 92,
   "metadata": {},
   "outputs": [],
   "source": [
    "spectrum = [0, 71, 97, 99, 103, 113, 113, 114, 115, 131, 137, 196, 200, 202, 208, 214, 226, 227, 228, 240, 245, 299, 311, 311, 316, 327, 337, 339, 340, 341, 358, 408, 414, 424, 429, 436, 440, 442, 453, 455, 471, 507, 527, 537, 539, 542, 551, 554, 556, 566, 586, 622, 638, 640, 651, 653, 657, 664, 669, 679, 685, 735, 752, 753, 754, 756, 766, 777, 782, 782, 794, 848, 853, 865, 866, 867, 879, 885, 891, 893, 897, 956, 962, 978, 979, 980, 980, 990, 994, 996, 1022, 1093]\n",
    "expected = set([\n",
    "    \"103-137-71-131-114-113-113-115-99-97\", \n",
    "    \"103-97-99-115-113-113-114-131-71-137\", \n",
    "    \"113-113-114-131-71-137-103-97-99-115\", \n",
    "    \"113-113-115-99-97-103-137-71-131-114\", \n",
    "    \"113-114-131-71-137-103-97-99-115-113\", \n",
    "    \"113-115-99-97-103-137-71-131-114-113\", \n",
    "    \"114-113-113-115-99-97-103-137-71-131\", \n",
    "    \"114-131-71-137-103-97-99-115-113-113\", \n",
    "    \"115-113-113-114-131-71-137-103-97-99\", \n",
    "    \"115-99-97-103-137-71-131-114-113-113\", \n",
    "    \"131-114-113-113-115-99-97-103-137-71\", \n",
    "    \"131-71-137-103-97-99-115-113-113-114\", \n",
    "    \"137-103-97-99-115-113-113-114-131-71\", \n",
    "    \"137-71-131-114-113-113-115-99-97-103\", \n",
    "    \"71-131-114-113-113-115-99-97-103-137\", \n",
    "    \"71-137-103-97-99-115-113-113-114-131\", \n",
    "    \"97-103-137-71-131-114-113-113-115-99\", \n",
    "    \"97-99-115-113-113-114-131-71-137-103\", \n",
    "    \"99-115-113-113-114-131-71-137-103-97\", \n",
    "    \"99-97-103-137-71-131-114-113-113-115\"])\n",
    "final_peptides = cyclopeptide_sequencing(spectrum)"
   ]
  },
  {
   "cell_type": "code",
   "execution_count": 93,
   "metadata": {},
   "outputs": [],
   "source": [
    "assert final_peptides == expected"
   ]
  },
  {
   "cell_type": "code",
   "execution_count": 96,
   "metadata": {},
   "outputs": [
    {
     "name": "stdout",
     "output_type": "stream",
     "text": [
      "114-129-147-97-131-186-115-156 114-156-115-186-131-97-147-129 115-156-114-129-147-97-131-186 115-186-131-97-147-129-114-156 129-114-156-115-186-131-97-147 129-147-97-131-186-115-156-114 131-186-115-156-114-129-147-97 131-97-147-129-114-156-115-186 147-129-114-156-115-186-131-97 147-97-131-186-115-156-114-129 156-114-129-147-97-131-186-115 156-115-186-131-97-147-129-114 186-115-156-114-129-147-97-131 186-131-97-147-129-114-156-115 97-131-186-115-156-114-129-147 97-147-129-114-156-115-186-131\n"
     ]
    }
   ],
   "source": [
    "with open(\"../data/dataset_100_6-2.txt\") as fin:\n",
    "    spectrum = [int(m.strip()) for m in fin.read().split(\" \")]\n",
    "    final_peptides = cyclopeptide_sequencing(spectrum)\n",
    "    print(\" \".join(sorted(final_peptides)))"
   ]
  },
  {
   "cell_type": "code",
   "execution_count": 98,
   "metadata": {},
   "outputs": [],
   "source": [
    "### quiz"
   ]
  },
  {
   "cell_type": "code",
   "execution_count": 97,
   "metadata": {},
   "outputs": [
    {
     "data": {
      "text/plain": [
       "128"
      ]
     },
     "execution_count": 97,
     "metadata": {},
     "output_type": "execute_result"
    }
   ],
   "source": [
    "AA2MASS[\"Q\"]"
   ]
  },
  {
   "cell_type": "code",
   "execution_count": 103,
   "metadata": {},
   "outputs": [
    {
     "data": {
      "text/plain": [
       "{'57': 'G',\n",
       " '71': 'A',\n",
       " '87': 'S',\n",
       " '97': 'P',\n",
       " '99': 'V',\n",
       " '101': 'T',\n",
       " '103': 'C',\n",
       " '113': 'L',\n",
       " '114': 'N',\n",
       " '115': 'D',\n",
       " '128': 'Q',\n",
       " '129': 'E',\n",
       " '131': 'M',\n",
       " '137': 'H',\n",
       " '147': 'F',\n",
       " '156': 'R',\n",
       " '163': 'Y',\n",
       " '186': 'W'}"
      ]
     },
     "execution_count": 103,
     "metadata": {},
     "output_type": "execute_result"
    }
   ],
   "source": [
    "mass2aa = {str(v): k for k, v in AA2MASS.items()}\n",
    "mass2aa"
   ]
  },
  {
   "cell_type": "code",
   "execution_count": 105,
   "metadata": {},
   "outputs": [
    {
     "name": "stdout",
     "output_type": "stream",
     "text": [
      "LTMA\n",
      "ALTM\n",
      "AMTL\n",
      "TLAM\n",
      "MALT\n",
      "MTLA\n",
      "TMAL\n",
      "LAMT\n"
     ]
    }
   ],
   "source": [
    "spectrum = [0, 71, 101, 113, 131, 184, 202, 214, 232, 285, 303, 315, 345, 416]\n",
    "for p in cyclopeptide_sequencing(spectrum):\n",
    "    print(\"\".join([mass2aa[m] for m in p.split(\"-\")]))"
   ]
  },
  {
   "cell_type": "code",
   "execution_count": 117,
   "metadata": {},
   "outputs": [],
   "source": [
    "spectrum = [0, 71, 99, 101, 103, 128, 129, 199, 200, 204, 227, 230, 231, 298, 303, 328, 330, 332, 333]\n",
    "spectrum_counts = defaultdict(int)\n",
    "for s in spectrum:\n",
    "    spectrum_counts[s] += 1"
   ]
  },
  {
   "cell_type": "code",
   "execution_count": 108,
   "metadata": {},
   "outputs": [],
   "source": [
    "peptide2mass = lambda s: [AA2MASS[aa] for aa in s]"
   ]
  },
  {
   "cell_type": "code",
   "execution_count": 120,
   "metadata": {},
   "outputs": [
    {
     "name": "stdout",
     "output_type": "stream",
     "text": [
      "QCV False\n",
      "VAQ False\n",
      "CTV True\n",
      "TCE False\n",
      "TCQ True\n",
      "AQV True\n"
     ]
    }
   ],
   "source": [
    "for p in [\"QCV\",\"VAQ\",\"CTV\",\"TCE\",\"TCQ\",\"AQV\"]:\n",
    "    print(p, is_consistent(peptide2mass(p),spectrum_counts))"
   ]
  },
  {
   "cell_type": "code",
   "execution_count": 3,
   "metadata": {},
   "outputs": [],
   "source": [
    "from utils import *\n",
    "peptide = peptide2mass(\"NQEL\",AA2MASS)"
   ]
  },
  {
   "cell_type": "code",
   "execution_count": 4,
   "metadata": {},
   "outputs": [
    {
     "data": {
      "text/plain": [
       "[0, 113, 114, 128, 129, 242, 242, 257, 370, 371, 484]"
      ]
     },
     "execution_count": 4,
     "metadata": {},
     "output_type": "execute_result"
    }
   ],
   "source": [
    "get_spectrum(peptide, cyclic=False)"
   ]
  },
  {
   "cell_type": "code",
   "execution_count": null,
   "metadata": {},
   "outputs": [],
   "source": []
  }
 ],
 "metadata": {
  "kernelspec": {
   "display_name": "Python 3",
   "language": "python",
   "name": "python3"
  },
  "language_info": {
   "codemirror_mode": {
    "name": "ipython",
    "version": 3
   },
   "file_extension": ".py",
   "mimetype": "text/x-python",
   "name": "python",
   "nbconvert_exporter": "python",
   "pygments_lexer": "ipython3",
   "version": "3.6.9"
  }
 },
 "nbformat": 4,
 "nbformat_minor": 4
}
