{
 "cells": [
  {
   "cell_type": "code",
   "execution_count": 5,
   "metadata": {},
   "outputs": [],
   "source": [
    "def load_mass():\n",
    "    aa2mass = dict()\n",
    "    with open(\"../data/integer_mass_table.txt\") as fin:\n",
    "        for line in fin:\n",
    "            aa, mass = line.split()\n",
    "            aa2mass[aa.strip()] = int(mass.strip())\n",
    "    return aa2mass"
   ]
  },
  {
   "cell_type": "code",
   "execution_count": 32,
   "metadata": {},
   "outputs": [
    {
     "name": "stdout",
     "output_type": "stream",
     "text": [
      "{'G': 57, 'A': 71, 'S': 87, 'P': 97, 'V': 99, 'T': 101, 'C': 103, 'I': 113, 'L': 113, 'N': 114, 'D': 115, 'K': 128, 'Q': 128, 'E': 129, 'M': 131, 'H': 137, 'F': 147, 'R': 156, 'Y': 163, 'W': 186}\n"
     ]
    }
   ],
   "source": [
    "MASS = load_mass()\n",
    "print(MASS)"
   ]
  },
  {
   "cell_type": "code",
   "execution_count": 45,
   "metadata": {},
   "outputs": [],
   "source": [
    "def cyclic_spectrum(peptide, aa2mass):\n",
    "    prefix_mass = [0]\n",
    "    for i, aa in enumerate(peptide):\n",
    "        prefix_mass.append(prefix_mass[i]+aa2mass[aa])\n",
    "    spectrum = [0]    \n",
    "    for i in range(len(peptide)):\n",
    "        for j in range(i+1,len(peptide)+1):\n",
    "            m = prefix_mass[j]-prefix_mass[i]\n",
    "            spectrum.append(m)\n",
    "            if i>0 and j<len(peptide):\n",
    "                spectrum.append(prefix_mass[-1]-m)\n",
    "    return sorted(spectrum)"
   ]
  },
  {
   "cell_type": "code",
   "execution_count": 58,
   "metadata": {},
   "outputs": [],
   "source": [
    "peptide = \"NQEL\""
   ]
  },
  {
   "cell_type": "code",
   "execution_count": 51,
   "metadata": {},
   "outputs": [],
   "source": [
    "spectrum = cyclic_spectrum(peptide, MASS)"
   ]
  },
  {
   "cell_type": "code",
   "execution_count": 52,
   "metadata": {},
   "outputs": [],
   "source": [
    "expected = [0, 113, 114, 128, 129, 227, 242, 242, 257, 355, 356, 370, 371, 484]"
   ]
  },
  {
   "cell_type": "code",
   "execution_count": 53,
   "metadata": {},
   "outputs": [],
   "source": [
    "assert expected == spectrum"
   ]
  },
  {
   "cell_type": "code",
   "execution_count": 64,
   "metadata": {},
   "outputs": [],
   "source": [
    "with open(\"../data/dataset_98_4.txt\") as fin:\n",
    "    peptide = fin.read().strip()"
   ]
  },
  {
   "cell_type": "code",
   "execution_count": 65,
   "metadata": {},
   "outputs": [
    {
     "name": "stdout",
     "output_type": "stream",
     "text": [
      "0 71 97 97 103 113 113 114 114 115 128 128 128 129 131 137 168 199 210 218 225 227 227 228 231 242 244 251 252 257 257 296 299 313 324 338 341 346 354 355 355 358 360 364 366 385 410 412 426 427 452 452 455 467 469 475 479 482 483 488 495 523 523 526 540 541 580 581 582 585 592 595 597 603 610 612 620 651 654 654 654 663 698 700 707 709 709 710 713 726 740 748 751 767 768 778 780 791 810 812 813 837 837 839 841 854 864 877 879 881 881 905 906 908 927 938 940 950 951 967 970 978 992 1005 1008 1009 1009 1011 1018 1020 1055 1064 1064 1064 1067 1098 1106 1108 1115 1121 1123 1126 1133 1136 1137 1138 1177 1178 1192 1195 1195 1223 1230 1235 1236 1239 1243 1249 1251 1263 1266 1266 1291 1292 1306 1308 1333 1352 1354 1358 1360 1363 1363 1364 1372 1377 1380 1394 1405 1419 1422 1461 1461 1466 1467 1474 1476 1487 1490 1491 1491 1493 1500 1508 1519 1550 1581 1587 1589 1590 1590 1590 1603 1604 1604 1605 1605 1615 1621 1621 1647 1718\n"
     ]
    }
   ],
   "source": [
    "print(\" \".join([str(s) for s in cyclic_spectrum(peptide, MASS)]))"
   ]
  },
  {
   "cell_type": "code",
   "execution_count": null,
   "metadata": {},
   "outputs": [],
   "source": []
  }
 ],
 "metadata": {
  "kernelspec": {
   "display_name": "Python 3",
   "language": "python",
   "name": "python3"
  },
  "language_info": {
   "codemirror_mode": {
    "name": "ipython",
    "version": 3
   },
   "file_extension": ".py",
   "mimetype": "text/x-python",
   "name": "python",
   "nbconvert_exporter": "python",
   "pygments_lexer": "ipython3",
   "version": "3.6.9"
  }
 },
 "nbformat": 4,
 "nbformat_minor": 4
}
