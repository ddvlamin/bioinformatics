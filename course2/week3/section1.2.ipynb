{
 "cells": [
  {
   "cell_type": "code",
   "execution_count": 1,
   "metadata": {},
   "outputs": [],
   "source": [
    "from utils import *"
   ]
  },
  {
   "cell_type": "code",
   "execution_count": 2,
   "metadata": {},
   "outputs": [],
   "source": [
    "def load_coding_table():\n",
    "    codon2aa = dict()\n",
    "    with open(\"../data/RNA_codon_table_1.txt\") as fin:\n",
    "        for line in fin:\n",
    "            try:\n",
    "                codon, aa = line.strip().split(\" \")\n",
    "            except ValueError:\n",
    "                codon = line.strip()\n",
    "                aa = \" \"\n",
    "            codon2aa[codon] = aa\n",
    "    return codon2aa\n",
    "\n",
    "CODON2AA = load_coding_table()"
   ]
  },
  {
   "cell_type": "code",
   "execution_count": 3,
   "metadata": {},
   "outputs": [],
   "source": [
    "def translate_iter(sequence, codon2aa=CODON2AA):\n",
    "    sequence = sequence.replace(\"T\",\"U\")\n",
    "    for i in range(0, len(sequence)-2, 3):\n",
    "        codon = sequence[i:i+3]\n",
    "        try:\n",
    "            aa = codon2aa[codon]\n",
    "        except KeyError:\n",
    "            print(f\"skipping codon {codon} in {sequence} on position {i}\")\n",
    "            continue\n",
    "        \n",
    "        yield codon, aa\n",
    "    \n",
    "def translate(sequence, codon2aa=CODON2AA):\n",
    "    return \"\".join((aa for _, aa in translate_iter(sequence, codon2aa)))"
   ]
  },
  {
   "cell_type": "code",
   "execution_count": 50,
   "metadata": {},
   "outputs": [],
   "source": [
    "input = \"AUGGCCAUGGCGCCCAGAACUGAGAUCAAUAGUACCCGUAUUAACGGGUGA\"\n",
    "assert translate(input) == \"MAMAPRTEINSTRING \""
   ]
  },
  {
   "cell_type": "code",
   "execution_count": 51,
   "metadata": {},
   "outputs": [],
   "source": [
    "with open(\"../data/dataset_96_4.txt\") as fin:\n",
    "    sequence = fin.read().strip()"
   ]
  },
  {
   "cell_type": "code",
   "execution_count": 52,
   "metadata": {},
   "outputs": [
    {
     "name": "stdout",
     "output_type": "stream",
     "text": [
      "MPSTLPFRDRLTRSQRNGRGFLGAQYPRVDAPDTALQHGIRKRTPAYFSQCKKLGRIREVMTTLYGVSLLSVPNLHTHRRAVRETYGLLSLLPITGSAAPVNFSTTLWRFLMEARRVRFECVSDSGSGIRRICSKRLGLQSIDVAALQRIVYGAKGICLHQLYGMCKIVIRGHAVYGGCRVMLHKYEIEEIDQWFLAFSRDSDGGALTYPTLISFVLRSVTTIAIRPLVLPCLILFILNKESGAIAEVLHGVSILACDTVGLWHTSQSAKYSGLTPTLSDDGAGVSLSSCGQGMTVLCGKKAGTTVQAHSDAPELNHRSGSTAHRMSVVQSLREFSLIWGGDLPGPSCGNSAAIGFQPIVKQTGMVGLGSRTWTCHETGSCVETKVQVLQPLYFEVRCGYNTSTWSQRPPVSMYLKHVDRLRCVSKYSECAMPSDSARRTARRDTDIAFIVSTYLRCRMFSWPPEAGRLTASQGHADRPQVTTEVFSFLDASLVYEDWKKLYRPILVVTIGLPNAPEEIGHMLFTTCILDNPRLRPPRLAEVTAVTSPIATCSTTGCGRTADSFSGFPDCEVQSRHFPNLDILIAIFPIWLCSAVTGYLPSPNRLASSTTLLIFFNALRVSPLALMYGHFVRGNCWKKTLTLDHHKPIAELPFGRDMLSNISHWFVYEADHVQGIYRPLRSHEDCGDSLKSGERYCSLATLRKRPSLLPSDLKNPQADLAGSIALICYVSQLGLALRAQANNHEARHLVETSYDLELDTKIALRHAKSSARWKKRVRLRQTPWASFSTECNWALISGTTWLAYKSPMCIMGLKRTKFLGVDFERVHTRVRCNSYRSTCPQTANLLESQVWTSSIYIISYFAAESRLTCLRDLTHRLRYTFVVPRICCLLSIKIRREPVTEPPTSEASSCTNSPQRGSLEVQINGHASRIPIRRSSSPYKRVTAEGLWHSRSSVHGLGPRPASKLANQHSLRNGGRLSSWSGSWRESSSRVTATVAEAQEIGIPMVLRVRIWTASRDRWGSHVIYSAEARTNSLGLGQINRYQLNASFCMATIRVGIAAANPSHLERVPVESPVFLITLHTAHSTVINVVGSLAMSQSVIPIQVKPREDVTRVNFARCRPVTWPLVPGLRTPNSSYGGPNVNAKEAELNPEAWLRLDGPIVARIRNINLTQSRRNTTILGSTAEKRTAQALLRTTDGASTWDSSPCQRGNSEYWFIYALGYTTTEYRASSTGAPEGRSLGALSRSMGHSRHAVLVASSAHYTRYPEMTPPRLARGQTMNFWLHGWVCVSGCSYAQVRTHADSPHQLFTFDFSGHSKGMKSRTVLCMFLSKFTAGISVGEILGAFVDNRMLIERILKNVRSALGERSLYRVTNHSTATRLLRHITNGRATFIDFRDQLPRRMCLPSGSDVTHCPDRRMRPLAPRIYDGPYITLSKRVRGTWCIGYKLGLLTGTGVARAATVFERFTCVLWREWTMPKRDSIRGHVWSAIKIKSVIALRCAAVLPHRVMSSLRYLEIQALHQPESLNLAPAGSPSLCRCSEVGYLTFQDTCAPPPPPSAAYISRLRWAPKHLLSFSLSTWLPHRTLEGGHIAGSTMSIGIILFASSISLICPLACNGTSAGKPRLRHLQAAFKDRSDCPSRANARLAQEHTQGKRCEYYIPPGIERAGCRVSILAFIIRASFLTERGDTINDASEKKDGAPWKDARKPRPPICVLMGRTPWFKQRRRCSSRSQAGPKRDRTLWYSMATMDATVHRPAYVTRSSILVLHARVHLHGALRKCPSRIYEEDTVDFRCCNSEDLGSYPIPGHIPIIGHSVYARFKCSERGSCSVSLTLRSRCCVRPGVSSTPNEHSISSPSSRVLGFPKSYIAPCGISTALLVSVDKKPTPSWMSRRKSRYLPCLNEFIINSMPGKELADRKCAAHTKRAFGRIKLPIQPLCRSCRYARVKVGSSHRSSPSATIGRRPVPARIPSYRSKYRMSSLLNDRPNSSIWLDRAQKYFAFIPYFPLIEVDSLGLCCAEHDLDLLLHVNPTSYRPSYTYTHPRLYARIQSTLYYGMRGQYAVRASLRSLLTFSCSLYTATPVSRVPVLNTIASRHFQWEKQTVLLAEHRALGGRKDTAIMPCRGRLTFIPKPTLVTAHWISMASIHVLLSTCIYKRDRFPLGPSAKNPRQSEVPASMPGLNKLLGSKVWQVLVRWMKLVLRYYRIDRHVVRADAHSEYPCTFRDRSAKLLKQPMTDRAVRACKRPSESRGNSTDTASDKKLTAGTTRGSVGINRALLIRYYSNVNGPDRDYSSAANLVTTRARGPALTATRTSQTTSAWNCLRKFCLSSSMGSRIATISSGLRGHNSVKKRITIVMEVRPRKMLPGFAGGVVCGVRMWLRHIHKTNHLGDVITLDYELLRASYCRNIVPNLSSVVLLFFLHPGESSTVERFIYRGGQSSPPLLRRARRARQDLSVPDTLVGTDWTVKLRLSPPQGQSCTWKRPIDCGTRSNKSPGCCGWSVYPRRCDAISKRPNAPRVRCLLRQQGYDRQRIGSLRFDAKDAGTKLRLLTMNGCRPQAFRLRVYPAVPRLSSQPNFARVKTTVWKYSSLRHISLRGQASRKHIHKPDEQGSRGIRISLRQRNFSSVPLPDAAVNRAPGSTIDHYPLCFHGVNGGSRSTQSFSRPLAFSLRMRLPRTSREHLYTFRDKTSRNILRHFSIWNRSVSVPSIHAHRNFDPRSFFVHYQFLTRRVTETTDTLSRQFPWLGLFLRAYTVSGATHLISYERKGLTERGWRRRLQLPGRACRMTEVTIRTGTGIFRRLMALFCSRLSSTRRIRPFYSVDNDAFWGFATFMSIDVIVPGILYCGDLRSARRRLRSGGIVLFTAVCGYQAGQQTYSLIVSLSGPLRASTPLPVRTLGGLVRLHFISAGYYPINEHLAREMPRPRNQVFGQPNDRLTERTILGKGGIMPCNVATHLGKSPRSSLEESICASLVLERIPAGFTLDHFLHHKHPSSFTWDCEARIAVKMLLIRPILHAVAPLEYTTCGLFSLPNTLLWTKSGKLCIQSQLTILSIPCSNHKALHGAPALRRITQPGINNLSIARHLNTISSGIDPRGRIARSQCPTSNQASRSLHPSTRIIVMYARRDDIDPGLLPTLLFYSEAYLPEVLKIERQYPNLCIVPVMDYDNYCFDASHHSPQRTPRLTSAALVSKLKCFVGLLRRIMAPGLPLVSESGGIACRSQHSQTAQRLHIILLGTGTSSLRLPNKCPLNCGGLQ \n"
     ]
    }
   ],
   "source": [
    "print(translate(sequence))"
   ]
  },
  {
   "cell_type": "code",
   "execution_count": 83,
   "metadata": {},
   "outputs": [],
   "source": [
    "def find_encoding_aa(sequence, tsequence, peptide):\n",
    "    sequence = sequence.replace(\"U\",\"T\")\n",
    "    encoding_aas = []\n",
    "    for i in range(len(tsequence)-len(peptide)+1):\n",
    "        if tsequence[i:i+len(peptide)] == peptide:\n",
    "            encoding_aa = sequence[i*3:(i+len(peptide))*3]\n",
    "            encoding_aas.append(encoding_aa)\n",
    "    return encoding_aas\n",
    "\n",
    "def peptide_encoding(sequence, peptide):\n",
    "    rsequence = reverse_complement(sequence)\n",
    "    encoding_nucleotides =[]\n",
    "    for i in range(3):\n",
    "        tseq = translate(sequence[i:])\n",
    "        encoding = find_encoding_aa(sequence[i:], tseq, peptide)\n",
    "        encoding_nucleotides.extend(encoding)\n",
    "        #print(sequence[i:], encoding)\n",
    "        trseq = translate(rsequence[i:])\n",
    "        encoding = [reverse_complement(a) for a in find_encoding_aa(rsequence[i:], trseq, peptide)]\n",
    "        #print(rsequence[i:], encoding)\n",
    "        encoding_nucleotides.extend(encoding)\n",
    "    \n",
    "    return encoding_nucleotides"
   ]
  },
  {
   "cell_type": "code",
   "execution_count": 84,
   "metadata": {},
   "outputs": [],
   "source": [
    "input = \"ATGGCCATGGCCCCCAGAACTGAGATCAATAGTACCCGTATTAACGGGTGA\"\n",
    "peptide = \"MA\""
   ]
  },
  {
   "cell_type": "code",
   "execution_count": 85,
   "metadata": {},
   "outputs": [
    {
     "name": "stdout",
     "output_type": "stream",
     "text": [
      "ATGGCC ATGGCC GGCCAT\n"
     ]
    }
   ],
   "source": [
    "print(\" \".join(peptide_encoding(input, peptide)))"
   ]
  },
  {
   "cell_type": "code",
   "execution_count": 88,
   "metadata": {},
   "outputs": [],
   "source": [
    "with open(\"../data/dataset_96_7.txt\") as fin:\n",
    "    sequence, peptide, _ = fin.read().split(\"\\n\")\n",
    "    sequence = sequence.strip()\n",
    "    peptide = peptide.strip()"
   ]
  },
  {
   "cell_type": "code",
   "execution_count": 89,
   "metadata": {},
   "outputs": [
    {
     "name": "stdout",
     "output_type": "stream",
     "text": [
      "TGTTTTCCGGGCATGTACGTTGCGGGAATG TGTTTTCCCGGCATGTACGTGGCTGGAATG CATACCGGCAACATACATTCCAGGAAAGCA CATGCCCGCTACGTACATGCCCGGAAAGCA CATCCCAGCTACATACATCCCTGGGAAGCA CATCCCGGCTACGTACATTCCTGGGAAGCA CATACCTGCGACATACATGCCAGGGAAACA CATGCCAGCTACGTACATACCAGGAAAACA CATCCCTGCCACATACATTCCTGGGAAGCA CATACCTGCTACGTACATACCCGGAAAGCA CATCCCTGCAACATACATACCCGGAAAGCA TGTTTTCCGGGCATGTACGTTGCTGGCATG CATCCCGGCAACATACATGCCAGGGAAACA CATGCCTGCCACGTACATACCAGGAAAACA CATGCCCGCCACATACATTCCTGGAAAGCA TGCTTCCCGGGTATGTATGTTGCCGGAATG TGCTTCCCAGGGATGTACGTTGCCGGCATG TGTTTCCCGGGAATGTACGTAGCCGGAATG CATACCGGCTACATACATACCGGGGAAACA\n"
     ]
    }
   ],
   "source": [
    "print(\" \".join(peptide_encoding(sequence, peptide)))"
   ]
  },
  {
   "cell_type": "code",
   "execution_count": 4,
   "metadata": {},
   "outputs": [],
   "source": [
    "### quiz"
   ]
  },
  {
   "cell_type": "code",
   "execution_count": 5,
   "metadata": {},
   "outputs": [
    {
     "data": {
      "text/plain": [
       "'PRTEIN'"
      ]
     },
     "execution_count": 5,
     "metadata": {},
     "output_type": "execute_result"
    }
   ],
   "source": [
    "translate(\"CCUCGUACAGAAAUCAAC\")"
   ]
  },
  {
   "cell_type": "code",
   "execution_count": 6,
   "metadata": {},
   "outputs": [
    {
     "data": {
      "text/plain": [
       "'PRTEIN'"
      ]
     },
     "execution_count": 6,
     "metadata": {},
     "output_type": "execute_result"
    }
   ],
   "source": [
    "translate(\"CCGAGGACCGAAAUCAAC\")"
   ]
  },
  {
   "cell_type": "code",
   "execution_count": 7,
   "metadata": {},
   "outputs": [
    {
     "data": {
      "text/plain": [
       "'PRTDIN'"
      ]
     },
     "execution_count": 7,
     "metadata": {},
     "output_type": "execute_result"
    }
   ],
   "source": [
    "translate(\"CCAAGAACAGAUAUCAAU\")"
   ]
  },
  {
   "cell_type": "code",
   "execution_count": 8,
   "metadata": {},
   "outputs": [
    {
     "data": {
      "text/plain": [
       "'PSTEIN'"
      ]
     },
     "execution_count": 8,
     "metadata": {},
     "output_type": "execute_result"
    }
   ],
   "source": [
    "translate(\"CCAAGUACAGAGAUUAAC\")"
   ]
  },
  {
   "cell_type": "code",
   "execution_count": 11,
   "metadata": {},
   "outputs": [
    {
     "data": {
      "text/plain": [
       "defaultdict(set,\n",
       "            {'K': {'AAA', 'AAG'},\n",
       "             'N': {'AAC', 'AAU'},\n",
       "             'T': {'ACA', 'ACC', 'ACG', 'ACU'},\n",
       "             'R': {'AGA', 'AGG', 'CGA', 'CGC', 'CGG', 'CGU'},\n",
       "             'S': {'AGC', 'AGU', 'UCA', 'UCC', 'UCG', 'UCU'},\n",
       "             'I': {'AUA', 'AUC', 'AUU'},\n",
       "             'M': {'AUG'},\n",
       "             'Q': {'CAA', 'CAG'},\n",
       "             'H': {'CAC', 'CAU'},\n",
       "             'P': {'CCA', 'CCC', 'CCG', 'CCU'},\n",
       "             'L': {'CUA', 'CUC', 'CUG', 'CUU', 'UUA', 'UUG'},\n",
       "             'E': {'GAA', 'GAG'},\n",
       "             'D': {'GAC', 'GAU'},\n",
       "             'A': {'GCA', 'GCC', 'GCG', 'GCU'},\n",
       "             'G': {'GGA', 'GGC', 'GGG', 'GGU'},\n",
       "             'V': {'GUA', 'GUC', 'GUG', 'GUU'},\n",
       "             ' ': {'UAA', 'UAG', 'UGA'},\n",
       "             'Y': {'UAC', 'UAU'},\n",
       "             'C': {'UGC', 'UGU'},\n",
       "             'W': {'UGG'},\n",
       "             'F': {'UUC', 'UUU'}})"
      ]
     },
     "execution_count": 11,
     "metadata": {},
     "output_type": "execute_result"
    }
   ],
   "source": [
    "from collections import defaultdict\n",
    "d = defaultdict(set)\n",
    "for codon, aa in CODON2AA.items():\n",
    "    d[aa].add(codon)\n",
    "d"
   ]
  },
  {
   "cell_type": "code",
   "execution_count": 12,
   "metadata": {},
   "outputs": [
    {
     "data": {
      "text/plain": [
       "1152"
      ]
     },
     "execution_count": 12,
     "metadata": {},
     "output_type": "execute_result"
    }
   ],
   "source": [
    "6*2*4*2*2*6"
   ]
  },
  {
   "cell_type": "code",
   "execution_count": null,
   "metadata": {},
   "outputs": [],
   "source": []
  }
 ],
 "metadata": {
  "kernelspec": {
   "display_name": "Python 3",
   "language": "python",
   "name": "python3"
  },
  "language_info": {
   "codemirror_mode": {
    "name": "ipython",
    "version": 3
   },
   "file_extension": ".py",
   "mimetype": "text/x-python",
   "name": "python",
   "nbconvert_exporter": "python",
   "pygments_lexer": "ipython3",
   "version": "3.6.9"
  }
 },
 "nbformat": 4,
 "nbformat_minor": 4
}
