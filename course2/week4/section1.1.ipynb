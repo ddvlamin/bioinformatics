{
 "cells": [
  {
   "cell_type": "code",
   "execution_count": 59,
   "metadata": {},
   "outputs": [],
   "source": [
    "from utils import *"
   ]
  },
  {
   "cell_type": "code",
   "execution_count": 60,
   "metadata": {},
   "outputs": [],
   "source": [
    "aa2mass = load_mass()\n",
    "allowed_masses = sorted(set(aa2mass.values()))"
   ]
  },
  {
   "cell_type": "code",
   "execution_count": 54,
   "metadata": {},
   "outputs": [
    {
     "data": {
      "text/plain": [
       "11"
      ]
     },
     "execution_count": 54,
     "metadata": {},
     "output_type": "execute_result"
    }
   ],
   "source": [
    "peptide = \"NQEL\"\n",
    "spectrum = [0, 99, 113, 114, 128, 227, 257, 299, 355, 356, 370, 371, 484]\n",
    "peptide_masses = peptide2mass(peptide, aa2mass)\n",
    "peptide_score(peptide_masses, spectrum, cyclic=True)"
   ]
  },
  {
   "cell_type": "code",
   "execution_count": 6,
   "metadata": {},
   "outputs": [
    {
     "name": "stdout",
     "output_type": "stream",
     "text": [
      "782\n"
     ]
    }
   ],
   "source": [
    "with open(\"../data/dataset_102_3.txt\") as fin:\n",
    "    #print(fin.read().strip().split(\"\\n\"))\n",
    "    peptide, spectrum = fin.read().strip().split(\"\\n\")\n",
    "    peptide = peptide.strip()\n",
    "    spectrum = [int(m.strip()) for m in spectrum.split(\" \")]\n",
    "    peptide_masses = peptide2mass(peptide, aa2mass)\n",
    "    print(peptide_score(peptide_masses, spectrum, cyclic=True))"
   ]
  },
  {
   "cell_type": "code",
   "execution_count": 55,
   "metadata": {},
   "outputs": [],
   "source": [
    "def trim_leaderboard(leaderboard, N):\n",
    "    scores = sorted(leaderboard, key = lambda x: x[1], reverse=True)\n",
    "    trimmed_leaderboard = scores[:N]\n",
    "    for peptide, score in scores[N:]:\n",
    "        if score == trimmed_leaderboard[-1][1]:\n",
    "            trimmed_leaderboard.append((peptide, score))\n",
    "    return [l for l in trimmed_leaderboard]\n",
    "        \n",
    "def expand_candidates(candidates, spectrum, masses):\n",
    "    new_candidates = list()\n",
    "    for candidate, _ in candidates:\n",
    "        for m in masses:\n",
    "            new_candidate = candidate + [m]\n",
    "            new_candidates.append((new_candidate, peptide_score(new_candidate, spectrum)))\n",
    "    return new_candidates\n",
    "    \n",
    "def leaderboard_cyclopeptide_sequencing(spectrum, N, allowed_masses):\n",
    "    parent_mass = spectrum[-1]\n",
    "    spectrum_counts = defaultdict(int)\n",
    "    for i in spectrum:\n",
    "        spectrum_counts[i] += 1\n",
    "    \n",
    "    candidate_peptides = [([],0)]\n",
    "    leader_peptide = \"\"\n",
    "    leader_score = 0\n",
    "    while candidate_peptides:\n",
    "        candidate_peptides = expand_candidates(candidate_peptides, spectrum, allowed_masses)\n",
    "        remaining_candidates = []\n",
    "        for candidate_peptide, candidate_score in candidate_peptides:\n",
    "            peptide_mass = sum(candidate_peptide)\n",
    "            if peptide_mass == parent_mass:\n",
    "                if candidate_score > leader_score:\n",
    "                    leader_score = candidate_score\n",
    "                    leader_peptide = candidate_peptide\n",
    "            elif peptide_mass < parent_mass:    \n",
    "                remaining_candidates.append((candidate_peptide, candidate_score))\n",
    "        candidate_peptides = trim_leaderboard(remaining_candidates, N)\n",
    "    leaderpeptide_string = \"-\".join((str(m) for m in leader_peptide))\n",
    "    return leaderpeptide_string\n",
    "    "
   ]
  },
  {
   "cell_type": "code",
   "execution_count": null,
   "metadata": {},
   "outputs": [],
   "source": []
  },
  {
   "cell_type": "code",
   "execution_count": 47,
   "metadata": {},
   "outputs": [],
   "source": [
    "#test for trimming\n",
    "leaderboard = [\"LAST\", \"ALST\", \"TLLT\", \"TQAS\"]\n",
    "leaderboard_masses = peptides2mass(leaderboard, aa2mass)\n",
    "spectrum = [0, 71, 87, 101, 113, 158, 184, 188, 259, 271, 372]\n",
    "leaderboard_scores = [(m, peptide_score(m, spectrum)) for m in leaderboard_masses]\n",
    "N = 2"
   ]
  },
  {
   "cell_type": "code",
   "execution_count": 48,
   "metadata": {},
   "outputs": [
    {
     "data": {
      "text/plain": [
       "[([113, 71, 87, 101], 11), ([71, 113, 87, 101], 9)]"
      ]
     },
     "execution_count": 48,
     "metadata": {},
     "output_type": "execute_result"
    }
   ],
   "source": [
    "trim_leaderboard(leaderboard_scores, N)"
   ]
  },
  {
   "cell_type": "code",
   "execution_count": 56,
   "metadata": {},
   "outputs": [
    {
     "data": {
      "text/plain": [
       "'113-147-71-129'"
      ]
     },
     "execution_count": 56,
     "metadata": {},
     "output_type": "execute_result"
    }
   ],
   "source": [
    "#test for leaderboard sequencing\n",
    "N = 10\n",
    "spectrum = [0, 71, 113, 129, 147, 200, 218, 260, 313, 331, 347, 389, 460]\n",
    "leaderboard_cyclopeptide_sequencing(spectrum, N, allowed_masses)"
   ]
  },
  {
   "cell_type": "code",
   "execution_count": 57,
   "metadata": {},
   "outputs": [
    {
     "data": {
      "text/plain": [
       "'87-163-147-115-147-137-163-147-137-99-163-115-97-163-114-113-99-71-57-99-97-99-99-71-57'"
      ]
     },
     "execution_count": 57,
     "metadata": {},
     "output_type": "execute_result"
    }
   ],
   "source": [
    "with open(\"../data/dataset_102_8.txt\") as fin:\n",
    "    f = fin.read()\n",
    "    N, spectrum, _ = f.split(\"\\n\")\n",
    "    spectrum = [int(i.strip()) for i in spectrum.split(\" \")]\n",
    "    N = int(N.strip())\n",
    "leaderboard_cyclopeptide_sequencing(spectrum, N, allowed_masses)"
   ]
  },
  {
   "cell_type": "code",
   "execution_count": 58,
   "metadata": {},
   "outputs": [],
   "source": [
    "#quiz"
   ]
  },
  {
   "cell_type": "code",
   "execution_count": 62,
   "metadata": {},
   "outputs": [
    {
     "data": {
      "text/plain": [
       "10"
      ]
     },
     "execution_count": 62,
     "metadata": {},
     "output_type": "execute_result"
    }
   ],
   "source": [
    "peptide = \"MAMA\"\n",
    "peptide_masses = peptide2mass(peptide, aa2mass)\n",
    "spectrum = [0, 57, 71, 71, 71, 104, 131, 202, 202, 202, 256, 333, 333, 403, 404]\n",
    "peptide_score(peptide_masses, spectrum, cyclic=True)"
   ]
  },
  {
   "cell_type": "code",
   "execution_count": 63,
   "metadata": {},
   "outputs": [
    {
     "data": {
      "text/plain": [
       "8"
      ]
     },
     "execution_count": 63,
     "metadata": {},
     "output_type": "execute_result"
    }
   ],
   "source": [
    "peptide = \"PEEP\"\n",
    "peptide_masses = peptide2mass(peptide, aa2mass)\n",
    "spectrum = [0, 97, 97, 129, 194, 196, 226, 226, 244, 258, 323, 323, 452]\n",
    "peptide_score(peptide_masses, spectrum, cyclic=False)"
   ]
  },
  {
   "cell_type": "code",
   "execution_count": null,
   "metadata": {},
   "outputs": [],
   "source": []
  }
 ],
 "metadata": {
  "kernelspec": {
   "display_name": "Python 3",
   "language": "python",
   "name": "python3"
  },
  "language_info": {
   "codemirror_mode": {
    "name": "ipython",
    "version": 3
   },
   "file_extension": ".py",
   "mimetype": "text/x-python",
   "name": "python",
   "nbconvert_exporter": "python",
   "pygments_lexer": "ipython3",
   "version": "3.6.9"
  }
 },
 "nbformat": 4,
 "nbformat_minor": 4
}
