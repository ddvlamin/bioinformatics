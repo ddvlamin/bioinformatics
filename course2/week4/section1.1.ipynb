{
 "cells": [
  {
   "cell_type": "code",
   "execution_count": 1,
   "metadata": {},
   "outputs": [],
   "source": [
    "from utils import *"
   ]
  },
  {
   "cell_type": "code",
   "execution_count": 27,
   "metadata": {},
   "outputs": [],
   "source": [
    "def cyclopeptide_score(peptide, spectrum, aa2mass):\n",
    "    score = 0\n",
    "    pep_spectrum = cyclic_spectrum(peptide, aa2mass)\n",
    "    spectrum_pointer = 0\n",
    "    for m in pep_spectrum:\n",
    "        if m == spectrum[spectrum_pointer]:\n",
    "            score += 1\n",
    "            spectrum_pointer += 1\n",
    "        elif m < spectrum[spectrum_pointer]:\n",
    "            continue\n",
    "        else: \n",
    "            while spectrum_pointer<len(spectrum) and m > spectrum[spectrum_pointer]:\n",
    "                spectrum_pointer += 1\n",
    "            if spectrum_pointer>=len(spectrum):\n",
    "                break\n",
    "            elif spectrum[spectrum_pointer] == m:\n",
    "                score += 1\n",
    "                spectrum_pointer += 1\n",
    "            else:\n",
    "                continue\n",
    "    return score"
   ]
  },
  {
   "cell_type": "code",
   "execution_count": 28,
   "metadata": {},
   "outputs": [],
   "source": [
    "aa2mass = load_mass()"
   ]
  },
  {
   "cell_type": "code",
   "execution_count": 29,
   "metadata": {},
   "outputs": [
    {
     "data": {
      "text/plain": [
       "11"
      ]
     },
     "execution_count": 29,
     "metadata": {},
     "output_type": "execute_result"
    }
   ],
   "source": [
    "peptide = \"NQEL\"\n",
    "spectrum = [0, 99, 113, 114, 128, 227, 257, 299, 355, 356, 370, 371, 484]\n",
    "cyclopeptide_score(peptide, spectrum, aa2mass)"
   ]
  },
  {
   "cell_type": "code",
   "execution_count": 33,
   "metadata": {},
   "outputs": [
    {
     "name": "stdout",
     "output_type": "stream",
     "text": [
      "782\n"
     ]
    }
   ],
   "source": [
    "with open(\"../data/dataset_102_3.txt\") as fin:\n",
    "    #print(fin.read().strip().split(\"\\n\"))\n",
    "    peptide, spectrum = fin.read().strip().split(\"\\n\")\n",
    "    peptide = peptide.strip()\n",
    "    spectrum = [int(m.strip()) for m in spectrum.split(\" \")]\n",
    "    print(cyclopeptide_score(peptide, spectrum, aa2mass))"
   ]
  },
  {
   "cell_type": "code",
   "execution_count": null,
   "metadata": {},
   "outputs": [],
   "source": []
  }
 ],
 "metadata": {
  "kernelspec": {
   "display_name": "Python 3",
   "language": "python",
   "name": "python3"
  },
  "language_info": {
   "codemirror_mode": {
    "name": "ipython",
    "version": 3
   },
   "file_extension": ".py",
   "mimetype": "text/x-python",
   "name": "python",
   "nbconvert_exporter": "python",
   "pygments_lexer": "ipython3",
   "version": "3.6.9"
  }
 },
 "nbformat": 4,
 "nbformat_minor": 4
}
