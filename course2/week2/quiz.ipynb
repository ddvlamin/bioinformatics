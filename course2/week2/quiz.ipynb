{
 "cells": [
  {
   "cell_type": "code",
   "execution_count": 1,
   "metadata": {},
   "outputs": [],
   "source": [
    "from utils import assemble_genome, debruijn_from_readpairs, eulerian_path, pairpath_to_genome"
   ]
  },
  {
   "cell_type": "code",
   "execution_count": 2,
   "metadata": {},
   "outputs": [],
   "source": [
    "###question 1"
   ]
  },
  {
   "cell_type": "code",
   "execution_count": 3,
   "metadata": {},
   "outputs": [],
   "source": [
    "input = [\n",
    "    \"AAAT\",\n",
    "\"AATG\",\n",
    "\"ACCC\",\n",
    "\"ACGC\",\n",
    "\"ATAC\",\n",
    "\"ATCA\",\n",
    "\"ATGC\",\n",
    "\"CAAA\",\n",
    "\"CACC\",\n",
    "\"CATA\",\n",
    "\"CATC\",\n",
    "\"CCAG\",\n",
    "\"CCCA\",\n",
    "\"CGCT\",\n",
    "\"CTCA\",\n",
    "\"GCAT\",\n",
    "\"GCTC\",\n",
    "\"TACG\",\n",
    "\"TCAC\",\n",
    "\"TCAT\",\n",
    "\"TGCA\"\n",
    "]"
   ]
  },
  {
   "cell_type": "code",
   "execution_count": 4,
   "metadata": {},
   "outputs": [
    {
     "data": {
      "text/plain": [
       "'CAAATGCATCATACGCTCACCCAG'"
      ]
     },
     "execution_count": 4,
     "metadata": {},
     "output_type": "execute_result"
    }
   ],
   "source": [
    "assemble_genome(input)"
   ]
  },
  {
   "cell_type": "code",
   "execution_count": 5,
   "metadata": {},
   "outputs": [],
   "source": [
    "###question 3"
   ]
  },
  {
   "cell_type": "code",
   "execution_count": 6,
   "metadata": {},
   "outputs": [
    {
     "name": "stdout",
     "output_type": "stream",
     "text": [
      "['ACC|ATA', 'ACT|ATT', 'ATA|TGA', 'ATT|TGA', 'CAC|GAT', 'CCG|TAC', 'CGA|ACT', 'CTG|AGC', 'CTG|TTC', 'GAA|CTT', 'GAT|CTG', 'GAT|CTG', 'TAC|GAT', 'TCT|AAG', 'TGA|GCT', 'TGA|TCT', 'TTC|GAA']\n"
     ]
    }
   ],
   "source": [
    "input = [\n",
    "    \"(ACC|ATA)\",\n",
    "\"(ACT|ATT)\",\n",
    "\"(ATA|TGA)\",\n",
    "\"(ATT|TGA)\",\n",
    "\"(CAC|GAT)\",\n",
    "\"(CCG|TAC)\",\n",
    "\"(CGA|ACT)\",\n",
    "\"(CTG|AGC)\",\n",
    "\"(CTG|TTC)\",\n",
    "\"(GAA|CTT)\",\n",
    "\"(GAT|CTG)\",\n",
    "\"(GAT|CTG)\",\n",
    "\"(TAC|GAT)\",\n",
    "\"(TCT|AAG)\",\n",
    "\"(TGA|GCT)\",\n",
    "\"(TGA|TCT)\",\n",
    "\"(TTC|GAA)\"\n",
    "]\n",
    "read_pairs = []\n",
    "for e in input:\n",
    "    read_pairs.append(e[1:-1])\n",
    "print(read_pairs)"
   ]
  },
  {
   "cell_type": "code",
   "execution_count": 9,
   "metadata": {},
   "outputs": [
    {
     "name": "stdout",
     "output_type": "stream",
     "text": [
      "defaultdict(<class 'list'>, {'AC|AT': ['CC|TA', 'CT|TT'], 'AT|TG': ['TA|GA', 'TT|GA'], 'CA|GA': ['AC|AT'], 'CC|TA': ['CG|AC'], 'CG|AC': ['GA|CT'], 'CT|AG': ['TG|GC'], 'CT|TT': ['TG|TC'], 'GA|CT': ['AA|TT', 'AT|TG', 'AT|TG'], 'TA|GA': ['AC|AT'], 'TC|AA': ['CT|AG'], 'TG|GC': ['GA|CT'], 'TG|TC': ['GA|CT'], 'TT|GA': ['TC|AA']})\n",
      "['CA|GA', 'AC|AT', 'CT|TT', 'TG|TC', 'GA|CT', 'AT|TG', 'TT|GA', 'TC|AA', 'CT|AG', 'TG|GC', 'GA|CT', 'AT|TG', 'TA|GA', 'AC|AT', 'CC|TA', 'CG|AC', 'GA|CT', 'AA|TT']\n",
      "TA AA\n"
     ]
    },
    {
     "ename": "AssertionError",
     "evalue": "",
     "output_type": "error",
     "traceback": [
      "\u001b[0;31m---------------------------------------------------------------------------\u001b[0m",
      "\u001b[0;31mAssertionError\u001b[0m                            Traceback (most recent call last)",
      "\u001b[0;32m<ipython-input-9-7d12c2a16b6a>\u001b[0m in \u001b[0;36m<module>\u001b[0;34m\u001b[0m\n\u001b[1;32m      5\u001b[0m \u001b[0mep\u001b[0m \u001b[0;34m=\u001b[0m \u001b[0meulerian_path\u001b[0m\u001b[0;34m(\u001b[0m\u001b[0mg\u001b[0m\u001b[0;34m)\u001b[0m\u001b[0;34m\u001b[0m\u001b[0;34m\u001b[0m\u001b[0m\n\u001b[1;32m      6\u001b[0m \u001b[0mprint\u001b[0m\u001b[0;34m(\u001b[0m\u001b[0mep\u001b[0m\u001b[0;34m)\u001b[0m\u001b[0;34m\u001b[0m\u001b[0;34m\u001b[0m\u001b[0m\n\u001b[0;32m----> 7\u001b[0;31m \u001b[0mreconstructed_genome\u001b[0m \u001b[0;34m=\u001b[0m \u001b[0mpairpath_to_genome\u001b[0m\u001b[0;34m(\u001b[0m\u001b[0mep\u001b[0m\u001b[0;34m,\u001b[0m \u001b[0mk\u001b[0m\u001b[0;34m,\u001b[0m \u001b[0md\u001b[0m\u001b[0;34m)\u001b[0m\u001b[0;34m\u001b[0m\u001b[0;34m\u001b[0m\u001b[0m\n\u001b[0m",
      "\u001b[0;32m~/bioinformatics/course2/utils.py\u001b[0m in \u001b[0;36mpairpath_to_genome\u001b[0;34m(pairs, k, d)\u001b[0m\n\u001b[1;32m    100\u001b[0m         \u001b[0mprefix\u001b[0m \u001b[0;34m=\u001b[0m \u001b[0mpairs\u001b[0m\u001b[0;34m[\u001b[0m\u001b[0mi\u001b[0m\u001b[0;34m]\u001b[0m\u001b[0;34m.\u001b[0m\u001b[0msplit\u001b[0m\u001b[0;34m(\u001b[0m\u001b[0;34m\"|\"\u001b[0m\u001b[0;34m)\u001b[0m\u001b[0;34m[\u001b[0m\u001b[0;36m1\u001b[0m\u001b[0;34m]\u001b[0m\u001b[0;34m\u001b[0m\u001b[0;34m\u001b[0m\u001b[0m\n\u001b[1;32m    101\u001b[0m         \u001b[0mprint\u001b[0m\u001b[0;34m(\u001b[0m\u001b[0mprefix\u001b[0m\u001b[0;34m,\u001b[0m \u001b[0mprev_pair\u001b[0m\u001b[0;34m)\u001b[0m\u001b[0;34m\u001b[0m\u001b[0;34m\u001b[0m\u001b[0m\n\u001b[0;32m--> 102\u001b[0;31m         \u001b[0;32massert\u001b[0m \u001b[0mprefix\u001b[0m\u001b[0;34m[\u001b[0m\u001b[0;36m0\u001b[0m\u001b[0;34m:\u001b[0m\u001b[0mk\u001b[0m\u001b[0;34m-\u001b[0m\u001b[0;36m1\u001b[0m\u001b[0;34m]\u001b[0m \u001b[0;34m==\u001b[0m \u001b[0mprev_pair\u001b[0m\u001b[0;34m[\u001b[0m\u001b[0;36m1\u001b[0m\u001b[0;34m:\u001b[0m\u001b[0mk\u001b[0m\u001b[0;34m]\u001b[0m\u001b[0;34m\u001b[0m\u001b[0;34m\u001b[0m\u001b[0m\n\u001b[0m\u001b[1;32m    103\u001b[0m         \u001b[0mgenome\u001b[0m \u001b[0;34m+=\u001b[0m \u001b[0mprefix\u001b[0m\u001b[0;34m[\u001b[0m\u001b[0;34m-\u001b[0m\u001b[0;36m1\u001b[0m\u001b[0;34m]\u001b[0m\u001b[0;34m\u001b[0m\u001b[0;34m\u001b[0m\u001b[0m\n\u001b[1;32m    104\u001b[0m         \u001b[0mprev_pair\u001b[0m \u001b[0;34m=\u001b[0m \u001b[0mprefix\u001b[0m\u001b[0;34m\u001b[0m\u001b[0;34m\u001b[0m\u001b[0m\n",
      "\u001b[0;31mAssertionError\u001b[0m: "
     ]
    }
   ],
   "source": [
    "k=3\n",
    "d=1\n",
    "g = debruijn_from_readpairs(read_pairs, k, d)\n",
    "print(g)\n",
    "ep = eulerian_path(g)\n",
    "print(ep)\n",
    "reconstructed_genome = pairpath_to_genome(ep, k, d)"
   ]
  },
  {
   "cell_type": "code",
   "execution_count": null,
   "metadata": {},
   "outputs": [],
   "source": []
  }
 ],
 "metadata": {
  "kernelspec": {
   "display_name": "Python 3",
   "language": "python",
   "name": "python3"
  },
  "language_info": {
   "codemirror_mode": {
    "name": "ipython",
    "version": 3
   },
   "file_extension": ".py",
   "mimetype": "text/x-python",
   "name": "python",
   "nbconvert_exporter": "python",
   "pygments_lexer": "ipython3",
   "version": "3.6.9"
  }
 },
 "nbformat": 4,
 "nbformat_minor": 4
}
